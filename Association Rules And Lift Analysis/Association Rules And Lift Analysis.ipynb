{
 "cells": [
  {
   "cell_type": "markdown",
   "id": "2a93c577",
   "metadata": {},
   "source": [
    "<div align = \"center\">\n",
    "<h1 >  ASSOCIATION RULES AND LIFT ANALYSIS </h1>\n",
    "<h2> Jaouad Safouani </h2>\n",
    "</div>"
   ]
  },
  {
   "cell_type": "markdown",
   "id": "0b332064",
   "metadata": {},
   "source": [
    "<h3> Scenario 1 </h3>\n",
    "\n",
    "One of the most critical factors in customer relationship management that directly affects a company’s long-term profitability is understanding its customers. When a company can better understand its customer characteristics, it is better able to target products and marketing campaigns for customers, resulting in better profits for the company in the long term.\n",
    "\n",
    "You are an analyst for a telecommunications company that wants to better understand the characteristics of its customers. You have been asked to perform a market basket analysis to analyze customer data to identify key associations of your customer purchases, ultimately allowing better business and strategic decision-making."
   ]
  },
  {
   "cell_type": "markdown",
   "id": "4c92ae1d",
   "metadata": {},
   "source": [
    "* [A1:PROPOSAL OF QUESTION](#A1)\n",
    "* [A2:DEFINED GOAL](#A2)\n",
    "* [B1:EXPLANATION OF MARKET BASKET](#B1)\n",
    "* [B2:TRANSACTION EXAMPLE](#B2) \n",
    "* [B3:MARKET BASKET ASSUMPTION](#B3)\n",
    "* [C1:TRANSFORMING THE DATASET](#C1) \n",
    "* [C2:CODE EXECUTION](#C2)\n",
    "* [C3:ASSOCIATION RULES TABLE](#C3) \n",
    "* [C4:TOP THREE RULES](#C4)\n",
    "* [D1:SIGNIFICANCE OF SUPPORT, LIFT, AND CONFIDENCE SUMMARY](#D1) \n",
    "* [D2:PRACTICAL SIGNIFICANCE OF FINDINGS](#D2)\n",
    "* [D3:COURSE OF ACTION](#D3) \n",
    "* [E:PANOPTO RECORDING](#E)\n",
    "* [F:WEB SOURCES](#F) \n",
    "* [G:SOURCES](#G)"
   ]
  },
  {
   "cell_type": "markdown",
   "id": "f53ed870",
   "metadata": {},
   "source": [
    "<h2> <a id=\"A1\"> A1:PROPOSAL OF QUESTION  </a> </h2>"
   ]
  },
  {
   "cell_type": "markdown",
   "id": "a068b4d6",
   "metadata": {},
   "source": [
    "As an analyst at the WGU Telecommunications, I was asked to analyze the data and find customer purchasing patterns using market basket analysis. Can we recommend a product or products to customers based on what they add to their shopping carts?"
   ]
  },
  {
   "cell_type": "markdown",
   "id": "937718dc",
   "metadata": {},
   "source": [
    "<h2> <a id=\"A1\"> A2:DEFINED GOAL  </a> </h2>"
   ]
  },
  {
   "cell_type": "markdown",
   "id": "a9bc6bf2",
   "metadata": {},
   "source": [
    "The marketing department would like to be able to understand the customers purchasing patterns from historical data. This will allow the marketing department to create a recommendation system to customers based on what other purchase with a certain product or combination of products. Therefore, the end result is to increase in sales and profit adn reduce churn rate. The marketing departement will be building a recommendation system that will target people based on items purchased together. This will result in loyal customer that purchase product they need.  "
   ]
  },
  {
   "cell_type": "markdown",
   "id": "e5f8dc46",
   "metadata": {},
   "source": [
    "<h2> <a id=\"A1\"> B1:EXPLANATION OF MARKET BASKET </a> </h2>"
   ]
  },
  {
   "cell_type": "markdown",
   "id": "161727f5",
   "metadata": {},
   "source": [
    "In his blog in medium, Shah explained in his bloc that the market basket analysis is a data mining technique used by retailers to increase sales. The analysis allows the retailers to understand customer purchasing patterns from purchase history, reaviling product groupings and prodcuts that are likely to be purchase together. The idea is to find relationships between products purchased together at the transaction level using association rules concept. Association rules look at the frequency of products purchased together at the transaction level. Retailers will be able to use this concept to recommend products that are frequently purchased together with a product that a cusotmer is purchasing. "
   ]
  },
  {
   "cell_type": "markdown",
   "id": "f349e476",
   "metadata": {},
   "source": [
    "<h3> Code & Exploratory Analysis </h3>"
   ]
  },
  {
   "cell_type": "code",
   "execution_count": 1,
   "id": "ba73cbb3",
   "metadata": {},
   "outputs": [],
   "source": [
    "#importing libraries\n",
    "import pandas as pd \n",
    "# display all columns in the dataframe.\n",
    "pd.set_option('max_columns', None)\n",
    "import numpy as np\n",
    "import matplotlib.pyplot as plt\n",
    "plt.rc(\"font\", size=14)\n",
    "%matplotlib inline\n",
    "# import seaborn as sns \n",
    "# sns.set(style=\"whitegrid\", color_codes=True)\n",
    "from mlxtend.frequent_patterns import apriori,association_rules\n",
    "from mpl_toolkits.mplot3d import Axes3D"
   ]
  },
  {
   "cell_type": "code",
   "execution_count": 2,
   "id": "5cc275e6",
   "metadata": {},
   "outputs": [],
   "source": [
    "df = pd.read_csv('churn_clean.csv')"
   ]
  },
  {
   "cell_type": "code",
   "execution_count": 3,
   "id": "0c417845",
   "metadata": {},
   "outputs": [
    {
     "data": {
      "text/html": [
       "<div>\n",
       "<style scoped>\n",
       "    .dataframe tbody tr th:only-of-type {\n",
       "        vertical-align: middle;\n",
       "    }\n",
       "\n",
       "    .dataframe tbody tr th {\n",
       "        vertical-align: top;\n",
       "    }\n",
       "\n",
       "    .dataframe thead th {\n",
       "        text-align: right;\n",
       "    }\n",
       "</style>\n",
       "<table border=\"1\" class=\"dataframe\">\n",
       "  <thead>\n",
       "    <tr style=\"text-align: right;\">\n",
       "      <th></th>\n",
       "      <th>CaseOrder</th>\n",
       "      <th>Customer_id</th>\n",
       "      <th>Interaction</th>\n",
       "      <th>UID</th>\n",
       "      <th>City</th>\n",
       "      <th>State</th>\n",
       "      <th>County</th>\n",
       "      <th>Zip</th>\n",
       "      <th>Lat</th>\n",
       "      <th>Lng</th>\n",
       "      <th>Population</th>\n",
       "      <th>Area</th>\n",
       "      <th>TimeZone</th>\n",
       "      <th>Job</th>\n",
       "      <th>Children</th>\n",
       "      <th>Age</th>\n",
       "      <th>Income</th>\n",
       "      <th>Marital</th>\n",
       "      <th>Gender</th>\n",
       "      <th>Churn</th>\n",
       "      <th>Outage_sec_perweek</th>\n",
       "      <th>Email</th>\n",
       "      <th>Contacts</th>\n",
       "      <th>Yearly_equip_failure</th>\n",
       "      <th>Techie</th>\n",
       "      <th>Contract</th>\n",
       "      <th>Port_modem</th>\n",
       "      <th>Tablet</th>\n",
       "      <th>InternetService</th>\n",
       "      <th>Phone</th>\n",
       "      <th>Multiple</th>\n",
       "      <th>OnlineSecurity</th>\n",
       "      <th>OnlineBackup</th>\n",
       "      <th>DeviceProtection</th>\n",
       "      <th>TechSupport</th>\n",
       "      <th>StreamingTV</th>\n",
       "      <th>StreamingMovies</th>\n",
       "      <th>PaperlessBilling</th>\n",
       "      <th>PaymentMethod</th>\n",
       "      <th>Tenure</th>\n",
       "      <th>MonthlyCharge</th>\n",
       "      <th>Bandwidth_GB_Year</th>\n",
       "      <th>Item1</th>\n",
       "      <th>Item2</th>\n",
       "      <th>Item3</th>\n",
       "      <th>Item4</th>\n",
       "      <th>Item5</th>\n",
       "      <th>Item6</th>\n",
       "      <th>Item7</th>\n",
       "      <th>Item8</th>\n",
       "    </tr>\n",
       "  </thead>\n",
       "  <tbody>\n",
       "    <tr>\n",
       "      <th>0</th>\n",
       "      <td>1</td>\n",
       "      <td>K409198</td>\n",
       "      <td>aa90260b-4141-4a24-8e36-b04ce1f4f77b</td>\n",
       "      <td>e885b299883d4f9fb18e39c75155d990</td>\n",
       "      <td>Point Baker</td>\n",
       "      <td>AK</td>\n",
       "      <td>Prince of Wales-Hyder</td>\n",
       "      <td>99927</td>\n",
       "      <td>56.25100</td>\n",
       "      <td>-133.37571</td>\n",
       "      <td>38</td>\n",
       "      <td>Urban</td>\n",
       "      <td>America/Sitka</td>\n",
       "      <td>Environmental health practitioner</td>\n",
       "      <td>0</td>\n",
       "      <td>68</td>\n",
       "      <td>28561.99</td>\n",
       "      <td>Widowed</td>\n",
       "      <td>Male</td>\n",
       "      <td>No</td>\n",
       "      <td>7.978323</td>\n",
       "      <td>10</td>\n",
       "      <td>0</td>\n",
       "      <td>1</td>\n",
       "      <td>No</td>\n",
       "      <td>One year</td>\n",
       "      <td>Yes</td>\n",
       "      <td>Yes</td>\n",
       "      <td>Fiber Optic</td>\n",
       "      <td>Yes</td>\n",
       "      <td>No</td>\n",
       "      <td>Yes</td>\n",
       "      <td>Yes</td>\n",
       "      <td>No</td>\n",
       "      <td>No</td>\n",
       "      <td>No</td>\n",
       "      <td>Yes</td>\n",
       "      <td>Yes</td>\n",
       "      <td>Credit Card (automatic)</td>\n",
       "      <td>6.795513</td>\n",
       "      <td>172.455519</td>\n",
       "      <td>904.536110</td>\n",
       "      <td>5</td>\n",
       "      <td>5</td>\n",
       "      <td>5</td>\n",
       "      <td>3</td>\n",
       "      <td>4</td>\n",
       "      <td>4</td>\n",
       "      <td>3</td>\n",
       "      <td>4</td>\n",
       "    </tr>\n",
       "    <tr>\n",
       "      <th>1</th>\n",
       "      <td>2</td>\n",
       "      <td>S120509</td>\n",
       "      <td>fb76459f-c047-4a9d-8af9-e0f7d4ac2524</td>\n",
       "      <td>f2de8bef964785f41a2959829830fb8a</td>\n",
       "      <td>West Branch</td>\n",
       "      <td>MI</td>\n",
       "      <td>Ogemaw</td>\n",
       "      <td>48661</td>\n",
       "      <td>44.32893</td>\n",
       "      <td>-84.24080</td>\n",
       "      <td>10446</td>\n",
       "      <td>Urban</td>\n",
       "      <td>America/Detroit</td>\n",
       "      <td>Programmer, multimedia</td>\n",
       "      <td>1</td>\n",
       "      <td>27</td>\n",
       "      <td>21704.77</td>\n",
       "      <td>Married</td>\n",
       "      <td>Female</td>\n",
       "      <td>Yes</td>\n",
       "      <td>11.699080</td>\n",
       "      <td>12</td>\n",
       "      <td>0</td>\n",
       "      <td>1</td>\n",
       "      <td>Yes</td>\n",
       "      <td>Month-to-month</td>\n",
       "      <td>No</td>\n",
       "      <td>Yes</td>\n",
       "      <td>Fiber Optic</td>\n",
       "      <td>Yes</td>\n",
       "      <td>Yes</td>\n",
       "      <td>Yes</td>\n",
       "      <td>No</td>\n",
       "      <td>No</td>\n",
       "      <td>No</td>\n",
       "      <td>Yes</td>\n",
       "      <td>Yes</td>\n",
       "      <td>Yes</td>\n",
       "      <td>Bank Transfer(automatic)</td>\n",
       "      <td>1.156681</td>\n",
       "      <td>242.632554</td>\n",
       "      <td>800.982766</td>\n",
       "      <td>3</td>\n",
       "      <td>4</td>\n",
       "      <td>3</td>\n",
       "      <td>3</td>\n",
       "      <td>4</td>\n",
       "      <td>3</td>\n",
       "      <td>4</td>\n",
       "      <td>4</td>\n",
       "    </tr>\n",
       "    <tr>\n",
       "      <th>2</th>\n",
       "      <td>3</td>\n",
       "      <td>K191035</td>\n",
       "      <td>344d114c-3736-4be5-98f7-c72c281e2d35</td>\n",
       "      <td>f1784cfa9f6d92ae816197eb175d3c71</td>\n",
       "      <td>Yamhill</td>\n",
       "      <td>OR</td>\n",
       "      <td>Yamhill</td>\n",
       "      <td>97148</td>\n",
       "      <td>45.35589</td>\n",
       "      <td>-123.24657</td>\n",
       "      <td>3735</td>\n",
       "      <td>Urban</td>\n",
       "      <td>America/Los_Angeles</td>\n",
       "      <td>Chief Financial Officer</td>\n",
       "      <td>4</td>\n",
       "      <td>50</td>\n",
       "      <td>9609.57</td>\n",
       "      <td>Widowed</td>\n",
       "      <td>Female</td>\n",
       "      <td>No</td>\n",
       "      <td>10.752800</td>\n",
       "      <td>9</td>\n",
       "      <td>0</td>\n",
       "      <td>1</td>\n",
       "      <td>Yes</td>\n",
       "      <td>Two Year</td>\n",
       "      <td>Yes</td>\n",
       "      <td>No</td>\n",
       "      <td>DSL</td>\n",
       "      <td>Yes</td>\n",
       "      <td>Yes</td>\n",
       "      <td>No</td>\n",
       "      <td>No</td>\n",
       "      <td>No</td>\n",
       "      <td>No</td>\n",
       "      <td>No</td>\n",
       "      <td>Yes</td>\n",
       "      <td>Yes</td>\n",
       "      <td>Credit Card (automatic)</td>\n",
       "      <td>15.754144</td>\n",
       "      <td>159.947583</td>\n",
       "      <td>2054.706961</td>\n",
       "      <td>4</td>\n",
       "      <td>4</td>\n",
       "      <td>2</td>\n",
       "      <td>4</td>\n",
       "      <td>4</td>\n",
       "      <td>3</td>\n",
       "      <td>3</td>\n",
       "      <td>3</td>\n",
       "    </tr>\n",
       "    <tr>\n",
       "      <th>3</th>\n",
       "      <td>4</td>\n",
       "      <td>D90850</td>\n",
       "      <td>abfa2b40-2d43-4994-b15a-989b8c79e311</td>\n",
       "      <td>dc8a365077241bb5cd5ccd305136b05e</td>\n",
       "      <td>Del Mar</td>\n",
       "      <td>CA</td>\n",
       "      <td>San Diego</td>\n",
       "      <td>92014</td>\n",
       "      <td>32.96687</td>\n",
       "      <td>-117.24798</td>\n",
       "      <td>13863</td>\n",
       "      <td>Suburban</td>\n",
       "      <td>America/Los_Angeles</td>\n",
       "      <td>Solicitor</td>\n",
       "      <td>1</td>\n",
       "      <td>48</td>\n",
       "      <td>18925.23</td>\n",
       "      <td>Married</td>\n",
       "      <td>Male</td>\n",
       "      <td>No</td>\n",
       "      <td>14.913540</td>\n",
       "      <td>15</td>\n",
       "      <td>2</td>\n",
       "      <td>0</td>\n",
       "      <td>Yes</td>\n",
       "      <td>Two Year</td>\n",
       "      <td>No</td>\n",
       "      <td>No</td>\n",
       "      <td>DSL</td>\n",
       "      <td>Yes</td>\n",
       "      <td>No</td>\n",
       "      <td>Yes</td>\n",
       "      <td>No</td>\n",
       "      <td>No</td>\n",
       "      <td>No</td>\n",
       "      <td>Yes</td>\n",
       "      <td>No</td>\n",
       "      <td>Yes</td>\n",
       "      <td>Mailed Check</td>\n",
       "      <td>17.087227</td>\n",
       "      <td>119.956840</td>\n",
       "      <td>2164.579412</td>\n",
       "      <td>4</td>\n",
       "      <td>4</td>\n",
       "      <td>4</td>\n",
       "      <td>2</td>\n",
       "      <td>5</td>\n",
       "      <td>4</td>\n",
       "      <td>3</td>\n",
       "      <td>3</td>\n",
       "    </tr>\n",
       "    <tr>\n",
       "      <th>4</th>\n",
       "      <td>5</td>\n",
       "      <td>K662701</td>\n",
       "      <td>68a861fd-0d20-4e51-a587-8a90407ee574</td>\n",
       "      <td>aabb64a116e83fdc4befc1fbab1663f9</td>\n",
       "      <td>Needville</td>\n",
       "      <td>TX</td>\n",
       "      <td>Fort Bend</td>\n",
       "      <td>77461</td>\n",
       "      <td>29.38012</td>\n",
       "      <td>-95.80673</td>\n",
       "      <td>11352</td>\n",
       "      <td>Suburban</td>\n",
       "      <td>America/Chicago</td>\n",
       "      <td>Medical illustrator</td>\n",
       "      <td>0</td>\n",
       "      <td>83</td>\n",
       "      <td>40074.19</td>\n",
       "      <td>Separated</td>\n",
       "      <td>Male</td>\n",
       "      <td>Yes</td>\n",
       "      <td>8.147417</td>\n",
       "      <td>16</td>\n",
       "      <td>2</td>\n",
       "      <td>1</td>\n",
       "      <td>No</td>\n",
       "      <td>Month-to-month</td>\n",
       "      <td>Yes</td>\n",
       "      <td>No</td>\n",
       "      <td>Fiber Optic</td>\n",
       "      <td>No</td>\n",
       "      <td>No</td>\n",
       "      <td>No</td>\n",
       "      <td>No</td>\n",
       "      <td>No</td>\n",
       "      <td>Yes</td>\n",
       "      <td>Yes</td>\n",
       "      <td>No</td>\n",
       "      <td>No</td>\n",
       "      <td>Mailed Check</td>\n",
       "      <td>1.670972</td>\n",
       "      <td>149.948316</td>\n",
       "      <td>271.493436</td>\n",
       "      <td>4</td>\n",
       "      <td>4</td>\n",
       "      <td>4</td>\n",
       "      <td>3</td>\n",
       "      <td>4</td>\n",
       "      <td>4</td>\n",
       "      <td>4</td>\n",
       "      <td>5</td>\n",
       "    </tr>\n",
       "  </tbody>\n",
       "</table>\n",
       "</div>"
      ],
      "text/plain": [
       "   CaseOrder Customer_id                           Interaction  \\\n",
       "0          1     K409198  aa90260b-4141-4a24-8e36-b04ce1f4f77b   \n",
       "1          2     S120509  fb76459f-c047-4a9d-8af9-e0f7d4ac2524   \n",
       "2          3     K191035  344d114c-3736-4be5-98f7-c72c281e2d35   \n",
       "3          4      D90850  abfa2b40-2d43-4994-b15a-989b8c79e311   \n",
       "4          5     K662701  68a861fd-0d20-4e51-a587-8a90407ee574   \n",
       "\n",
       "                                UID         City State                 County  \\\n",
       "0  e885b299883d4f9fb18e39c75155d990  Point Baker    AK  Prince of Wales-Hyder   \n",
       "1  f2de8bef964785f41a2959829830fb8a  West Branch    MI                 Ogemaw   \n",
       "2  f1784cfa9f6d92ae816197eb175d3c71      Yamhill    OR                Yamhill   \n",
       "3  dc8a365077241bb5cd5ccd305136b05e      Del Mar    CA              San Diego   \n",
       "4  aabb64a116e83fdc4befc1fbab1663f9    Needville    TX              Fort Bend   \n",
       "\n",
       "     Zip       Lat        Lng  Population      Area             TimeZone  \\\n",
       "0  99927  56.25100 -133.37571          38     Urban        America/Sitka   \n",
       "1  48661  44.32893  -84.24080       10446     Urban      America/Detroit   \n",
       "2  97148  45.35589 -123.24657        3735     Urban  America/Los_Angeles   \n",
       "3  92014  32.96687 -117.24798       13863  Suburban  America/Los_Angeles   \n",
       "4  77461  29.38012  -95.80673       11352  Suburban      America/Chicago   \n",
       "\n",
       "                                 Job  Children  Age    Income    Marital  \\\n",
       "0  Environmental health practitioner         0   68  28561.99    Widowed   \n",
       "1             Programmer, multimedia         1   27  21704.77    Married   \n",
       "2            Chief Financial Officer         4   50   9609.57    Widowed   \n",
       "3                          Solicitor         1   48  18925.23    Married   \n",
       "4                Medical illustrator         0   83  40074.19  Separated   \n",
       "\n",
       "   Gender Churn  Outage_sec_perweek  Email  Contacts  Yearly_equip_failure  \\\n",
       "0    Male    No            7.978323     10         0                     1   \n",
       "1  Female   Yes           11.699080     12         0                     1   \n",
       "2  Female    No           10.752800      9         0                     1   \n",
       "3    Male    No           14.913540     15         2                     0   \n",
       "4    Male   Yes            8.147417     16         2                     1   \n",
       "\n",
       "  Techie        Contract Port_modem Tablet InternetService Phone Multiple  \\\n",
       "0     No        One year        Yes    Yes     Fiber Optic   Yes       No   \n",
       "1    Yes  Month-to-month         No    Yes     Fiber Optic   Yes      Yes   \n",
       "2    Yes        Two Year        Yes     No             DSL   Yes      Yes   \n",
       "3    Yes        Two Year         No     No             DSL   Yes       No   \n",
       "4     No  Month-to-month        Yes     No     Fiber Optic    No       No   \n",
       "\n",
       "  OnlineSecurity OnlineBackup DeviceProtection TechSupport StreamingTV  \\\n",
       "0            Yes          Yes               No          No          No   \n",
       "1            Yes           No               No          No         Yes   \n",
       "2             No           No               No          No          No   \n",
       "3            Yes           No               No          No         Yes   \n",
       "4             No           No               No         Yes         Yes   \n",
       "\n",
       "  StreamingMovies PaperlessBilling             PaymentMethod     Tenure  \\\n",
       "0             Yes              Yes   Credit Card (automatic)   6.795513   \n",
       "1             Yes              Yes  Bank Transfer(automatic)   1.156681   \n",
       "2             Yes              Yes   Credit Card (automatic)  15.754144   \n",
       "3              No              Yes              Mailed Check  17.087227   \n",
       "4              No               No              Mailed Check   1.670972   \n",
       "\n",
       "   MonthlyCharge  Bandwidth_GB_Year  Item1  Item2  Item3  Item4  Item5  Item6  \\\n",
       "0     172.455519         904.536110      5      5      5      3      4      4   \n",
       "1     242.632554         800.982766      3      4      3      3      4      3   \n",
       "2     159.947583        2054.706961      4      4      2      4      4      3   \n",
       "3     119.956840        2164.579412      4      4      4      2      5      4   \n",
       "4     149.948316         271.493436      4      4      4      3      4      4   \n",
       "\n",
       "   Item7  Item8  \n",
       "0      3      4  \n",
       "1      4      4  \n",
       "2      3      3  \n",
       "3      3      3  \n",
       "4      4      5  "
      ]
     },
     "execution_count": 3,
     "metadata": {},
     "output_type": "execute_result"
    }
   ],
   "source": [
    "df.head()"
   ]
  },
  {
   "cell_type": "code",
   "execution_count": 4,
   "id": "d646c5fd",
   "metadata": {},
   "outputs": [
    {
     "name": "stdout",
     "output_type": "stream",
     "text": [
      "['Age', 'Area', 'Bandwidth_GB_Year', 'CaseOrder', 'Children', 'Churn', 'City', 'Contacts', 'Contract', 'County', 'Customer_id', 'DeviceProtection', 'Email', 'Gender', 'Income', 'Interaction', 'InternetService', 'Item1', 'Item2', 'Item3', 'Item4', 'Item5', 'Item6', 'Item7', 'Item8', 'Job', 'Lat', 'Lng', 'Marital', 'MonthlyCharge', 'Multiple', 'OnlineBackup', 'OnlineSecurity', 'Outage_sec_perweek', 'PaperlessBilling', 'PaymentMethod', 'Phone', 'Population', 'Port_modem', 'State', 'StreamingMovies', 'StreamingTV', 'Tablet', 'TechSupport', 'Techie', 'Tenure', 'TimeZone', 'UID', 'Yearly_equip_failure', 'Zip']\n"
     ]
    }
   ],
   "source": [
    "print(sorted(list(df.columns)))"
   ]
  },
  {
   "cell_type": "code",
   "execution_count": 5,
   "id": "f26759ea",
   "metadata": {},
   "outputs": [
    {
     "data": {
      "text/plain": [
       "(10000, 50)"
      ]
     },
     "execution_count": 5,
     "metadata": {},
     "output_type": "execute_result"
    }
   ],
   "source": [
    "df.shape"
   ]
  },
  {
   "cell_type": "code",
   "execution_count": 6,
   "id": "4b47524e",
   "metadata": {},
   "outputs": [
    {
     "name": "stdout",
     "output_type": "stream",
     "text": [
      "<class 'pandas.core.frame.DataFrame'>\n",
      "RangeIndex: 10000 entries, 0 to 9999\n",
      "Data columns (total 50 columns):\n",
      " #   Column                Non-Null Count  Dtype  \n",
      "---  ------                --------------  -----  \n",
      " 0   CaseOrder             10000 non-null  int64  \n",
      " 1   Customer_id           10000 non-null  object \n",
      " 2   Interaction           10000 non-null  object \n",
      " 3   UID                   10000 non-null  object \n",
      " 4   City                  10000 non-null  object \n",
      " 5   State                 10000 non-null  object \n",
      " 6   County                10000 non-null  object \n",
      " 7   Zip                   10000 non-null  int64  \n",
      " 8   Lat                   10000 non-null  float64\n",
      " 9   Lng                   10000 non-null  float64\n",
      " 10  Population            10000 non-null  int64  \n",
      " 11  Area                  10000 non-null  object \n",
      " 12  TimeZone              10000 non-null  object \n",
      " 13  Job                   10000 non-null  object \n",
      " 14  Children              10000 non-null  int64  \n",
      " 15  Age                   10000 non-null  int64  \n",
      " 16  Income                10000 non-null  float64\n",
      " 17  Marital               10000 non-null  object \n",
      " 18  Gender                10000 non-null  object \n",
      " 19  Churn                 10000 non-null  object \n",
      " 20  Outage_sec_perweek    10000 non-null  float64\n",
      " 21  Email                 10000 non-null  int64  \n",
      " 22  Contacts              10000 non-null  int64  \n",
      " 23  Yearly_equip_failure  10000 non-null  int64  \n",
      " 24  Techie                10000 non-null  object \n",
      " 25  Contract              10000 non-null  object \n",
      " 26  Port_modem            10000 non-null  object \n",
      " 27  Tablet                10000 non-null  object \n",
      " 28  InternetService       10000 non-null  object \n",
      " 29  Phone                 10000 non-null  object \n",
      " 30  Multiple              10000 non-null  object \n",
      " 31  OnlineSecurity        10000 non-null  object \n",
      " 32  OnlineBackup          10000 non-null  object \n",
      " 33  DeviceProtection      10000 non-null  object \n",
      " 34  TechSupport           10000 non-null  object \n",
      " 35  StreamingTV           10000 non-null  object \n",
      " 36  StreamingMovies       10000 non-null  object \n",
      " 37  PaperlessBilling      10000 non-null  object \n",
      " 38  PaymentMethod         10000 non-null  object \n",
      " 39  Tenure                10000 non-null  float64\n",
      " 40  MonthlyCharge         10000 non-null  float64\n",
      " 41  Bandwidth_GB_Year     10000 non-null  float64\n",
      " 42  Item1                 10000 non-null  int64  \n",
      " 43  Item2                 10000 non-null  int64  \n",
      " 44  Item3                 10000 non-null  int64  \n",
      " 45  Item4                 10000 non-null  int64  \n",
      " 46  Item5                 10000 non-null  int64  \n",
      " 47  Item6                 10000 non-null  int64  \n",
      " 48  Item7                 10000 non-null  int64  \n",
      " 49  Item8                 10000 non-null  int64  \n",
      "dtypes: float64(7), int64(16), object(27)\n",
      "memory usage: 3.8+ MB\n"
     ]
    }
   ],
   "source": [
    "df.info()"
   ]
  },
  {
   "cell_type": "markdown",
   "id": "6c5bd1fd",
   "metadata": {},
   "source": [
    "There are no missing values in the dataset."
   ]
  },
  {
   "cell_type": "markdown",
   "id": "21943697",
   "metadata": {},
   "source": [
    "<h3> <a id=\"A1\"> Products </a> </h3>"
   ]
  },
  {
   "cell_type": "markdown",
   "id": "e7d7f687",
   "metadata": {},
   "source": [
    "Transaction Items in the churn dataset:\n",
    "* InternetService Customer’s internet service provider (DSL, fiber optic, None)\n",
    "* Phone: Whether the customer has a phone service (yes, no)\n",
    "* Multiple: Whether the customer has multiple lines (yes, no)\n",
    "* OnlineSecurity: Whether the customer has an online security add on (yes, no)\n",
    "* OnlineBackup: Whether the customer has an online backup add on (yes, no)\n",
    "* DeviceProtection: Whether the customer has device protection add on (yes, no)\n",
    "* TechSupport Whether the customer has a technical support add on (yes, no)\n",
    "* StreamingTV Whether the customer has streaming TV (yes, no)\n",
    "* StreamingMovies: Whether the customer has streaming movies (yes, no)"
   ]
  },
  {
   "cell_type": "code",
   "execution_count": 7,
   "id": "fa799208",
   "metadata": {},
   "outputs": [],
   "source": [
    "var_to_keep = ['Customer_id','Phone','OnlineSecurity','OnlineBackup','TechSupport','DeviceProtection','StreamingTV',\n",
    "          'StreamingMovies','PaperlessBilling','InternetService']"
   ]
  },
  {
   "cell_type": "code",
   "execution_count": 8,
   "id": "4b0455c6",
   "metadata": {},
   "outputs": [],
   "source": [
    "# Keep Transaction items only\n",
    "df = df[var_to_keep]"
   ]
  },
  {
   "cell_type": "code",
   "execution_count": 9,
   "id": "be55c44c",
   "metadata": {},
   "outputs": [
    {
     "data": {
      "text/plain": [
       "0"
      ]
     },
     "execution_count": 9,
     "metadata": {},
     "output_type": "execute_result"
    }
   ],
   "source": [
    "df.duplicated().sum()"
   ]
  },
  {
   "cell_type": "code",
   "execution_count": 10,
   "id": "b3db11d0",
   "metadata": {},
   "outputs": [
    {
     "data": {
      "text/html": [
       "<div>\n",
       "<style scoped>\n",
       "    .dataframe tbody tr th:only-of-type {\n",
       "        vertical-align: middle;\n",
       "    }\n",
       "\n",
       "    .dataframe tbody tr th {\n",
       "        vertical-align: top;\n",
       "    }\n",
       "\n",
       "    .dataframe thead th {\n",
       "        text-align: right;\n",
       "    }\n",
       "</style>\n",
       "<table border=\"1\" class=\"dataframe\">\n",
       "  <thead>\n",
       "    <tr style=\"text-align: right;\">\n",
       "      <th></th>\n",
       "      <th>Customer_id</th>\n",
       "      <th>Phone</th>\n",
       "      <th>OnlineSecurity</th>\n",
       "      <th>OnlineBackup</th>\n",
       "      <th>TechSupport</th>\n",
       "      <th>DeviceProtection</th>\n",
       "      <th>StreamingTV</th>\n",
       "      <th>StreamingMovies</th>\n",
       "      <th>PaperlessBilling</th>\n",
       "      <th>InternetService</th>\n",
       "    </tr>\n",
       "  </thead>\n",
       "  <tbody>\n",
       "    <tr>\n",
       "      <th>0</th>\n",
       "      <td>K409198</td>\n",
       "      <td>Yes</td>\n",
       "      <td>Yes</td>\n",
       "      <td>Yes</td>\n",
       "      <td>No</td>\n",
       "      <td>No</td>\n",
       "      <td>No</td>\n",
       "      <td>Yes</td>\n",
       "      <td>Yes</td>\n",
       "      <td>Fiber Optic</td>\n",
       "    </tr>\n",
       "    <tr>\n",
       "      <th>1</th>\n",
       "      <td>S120509</td>\n",
       "      <td>Yes</td>\n",
       "      <td>Yes</td>\n",
       "      <td>No</td>\n",
       "      <td>No</td>\n",
       "      <td>No</td>\n",
       "      <td>Yes</td>\n",
       "      <td>Yes</td>\n",
       "      <td>Yes</td>\n",
       "      <td>Fiber Optic</td>\n",
       "    </tr>\n",
       "    <tr>\n",
       "      <th>2</th>\n",
       "      <td>K191035</td>\n",
       "      <td>Yes</td>\n",
       "      <td>No</td>\n",
       "      <td>No</td>\n",
       "      <td>No</td>\n",
       "      <td>No</td>\n",
       "      <td>No</td>\n",
       "      <td>Yes</td>\n",
       "      <td>Yes</td>\n",
       "      <td>DSL</td>\n",
       "    </tr>\n",
       "    <tr>\n",
       "      <th>3</th>\n",
       "      <td>D90850</td>\n",
       "      <td>Yes</td>\n",
       "      <td>Yes</td>\n",
       "      <td>No</td>\n",
       "      <td>No</td>\n",
       "      <td>No</td>\n",
       "      <td>Yes</td>\n",
       "      <td>No</td>\n",
       "      <td>Yes</td>\n",
       "      <td>DSL</td>\n",
       "    </tr>\n",
       "    <tr>\n",
       "      <th>4</th>\n",
       "      <td>K662701</td>\n",
       "      <td>No</td>\n",
       "      <td>No</td>\n",
       "      <td>No</td>\n",
       "      <td>Yes</td>\n",
       "      <td>No</td>\n",
       "      <td>Yes</td>\n",
       "      <td>No</td>\n",
       "      <td>No</td>\n",
       "      <td>Fiber Optic</td>\n",
       "    </tr>\n",
       "  </tbody>\n",
       "</table>\n",
       "</div>"
      ],
      "text/plain": [
       "  Customer_id Phone OnlineSecurity OnlineBackup TechSupport DeviceProtection  \\\n",
       "0     K409198   Yes            Yes          Yes          No               No   \n",
       "1     S120509   Yes            Yes           No          No               No   \n",
       "2     K191035   Yes             No           No          No               No   \n",
       "3      D90850   Yes            Yes           No          No               No   \n",
       "4     K662701    No             No           No         Yes               No   \n",
       "\n",
       "  StreamingTV StreamingMovies PaperlessBilling InternetService  \n",
       "0          No             Yes              Yes     Fiber Optic  \n",
       "1         Yes             Yes              Yes     Fiber Optic  \n",
       "2          No             Yes              Yes             DSL  \n",
       "3         Yes              No              Yes             DSL  \n",
       "4         Yes              No               No     Fiber Optic  "
      ]
     },
     "execution_count": 10,
     "metadata": {},
     "output_type": "execute_result"
    }
   ],
   "source": [
    "df.head()"
   ]
  },
  {
   "cell_type": "markdown",
   "id": "d0f5b586",
   "metadata": {},
   "source": [
    "<h3> <a id=\"A1\"> Re-expression  </a> </h3>"
   ]
  },
  {
   "cell_type": "code",
   "execution_count": 11,
   "id": "066d0705",
   "metadata": {},
   "outputs": [],
   "source": [
    "# create a dictionary with columns and their datatype. \n",
    "dict_col_type = dict()\n",
    "for col in list(df.columns):\n",
    "    dict_col_type[col] = df[col].dtypes"
   ]
  },
  {
   "cell_type": "code",
   "execution_count": 12,
   "id": "125e0418",
   "metadata": {},
   "outputs": [
    {
     "data": {
      "text/plain": [
       "{'Customer_id': dtype('O'),\n",
       " 'Phone': dtype('O'),\n",
       " 'OnlineSecurity': dtype('O'),\n",
       " 'OnlineBackup': dtype('O'),\n",
       " 'TechSupport': dtype('O'),\n",
       " 'DeviceProtection': dtype('O'),\n",
       " 'StreamingTV': dtype('O'),\n",
       " 'StreamingMovies': dtype('O'),\n",
       " 'PaperlessBilling': dtype('O'),\n",
       " 'InternetService': dtype('O')}"
      ]
     },
     "execution_count": 12,
     "metadata": {},
     "output_type": "execute_result"
    }
   ],
   "source": [
    "dict_col_type"
   ]
  },
  {
   "cell_type": "code",
   "execution_count": 13,
   "id": "ad463b64",
   "metadata": {},
   "outputs": [],
   "source": [
    "\n",
    "# Get the columns with string values and a lis the numerical columns.\n",
    "list_object_col  =[]\n",
    "list_numeric_col =[]\n",
    "for col , _type in dict_col_type.items():\n",
    "    if 'object' in str(_type):\n",
    "        list_object_col.append(col)\n",
    "    else:\n",
    "        list_numeric_col.append(col)\n",
    "#Assign unique values for each object variable and store data in a dictionary        \n",
    "dict_col_withdistinct_values=dict()\n",
    "for col in list_object_col:\n",
    "    dict_col_withdistinct_values[col]= df[col].unique()"
   ]
  },
  {
   "cell_type": "code",
   "execution_count": 14,
   "id": "2efdb5d9",
   "metadata": {},
   "outputs": [],
   "source": [
    "# identify columns with Yes/ NO\n",
    "# We will use ordinal Encoding for variables with Yes No\n",
    "# and One hot Encoding for the other categorical non ordinal columns.\n",
    "List_var_Yes_No=[]\n",
    "List_var_Other=[]\n",
    "for key,values in dict_col_withdistinct_values.items():\n",
    "    if 'No' in values and 'Yes' in values:\n",
    "        List_var_Yes_No.append(key)\n",
    "    else:\n",
    "        List_var_Other.append(key)"
   ]
  },
  {
   "cell_type": "code",
   "execution_count": 15,
   "id": "7870e70e",
   "metadata": {},
   "outputs": [
    {
     "data": {
      "text/plain": [
       "['Phone',\n",
       " 'OnlineSecurity',\n",
       " 'OnlineBackup',\n",
       " 'TechSupport',\n",
       " 'DeviceProtection',\n",
       " 'StreamingTV',\n",
       " 'StreamingMovies',\n",
       " 'PaperlessBilling']"
      ]
     },
     "execution_count": 15,
     "metadata": {},
     "output_type": "execute_result"
    }
   ],
   "source": [
    "List_var_Yes_No"
   ]
  },
  {
   "cell_type": "code",
   "execution_count": 16,
   "id": "58d56429",
   "metadata": {},
   "outputs": [
    {
     "data": {
      "text/plain": [
       "['Customer_id', 'InternetService']"
      ]
     },
     "execution_count": 16,
     "metadata": {},
     "output_type": "execute_result"
    }
   ],
   "source": [
    "List_var_Other"
   ]
  },
  {
   "cell_type": "markdown",
   "id": "91eb1514",
   "metadata": {},
   "source": [
    "<h3> <a id=\"A1\"> Ordinal Encoding </a> </h3>"
   ]
  },
  {
   "cell_type": "code",
   "execution_count": 17,
   "id": "2c671d1b",
   "metadata": {},
   "outputs": [],
   "source": [
    "# Defining the map function to replace Yes and No with 1 and 0\n",
    "# Ordinal Encoding\n",
    "def Yes_No_dict_map(x):\n",
    "    ''' Ordinal Encoding '''\n",
    "    return x.map({'Yes':1, 'No':0})"
   ]
  },
  {
   "cell_type": "code",
   "execution_count": 18,
   "id": "6d7e1627",
   "metadata": {},
   "outputs": [],
   "source": [
    "# Replace the Yes and No with 1 and 0 in binary variables.\n",
    "# Applying Ordinal encoding to Re express Yes No to 1 and 0 respectevely.\n",
    "df[List_var_Yes_No]=df[List_var_Yes_No].apply(Yes_No_dict_map)"
   ]
  },
  {
   "cell_type": "code",
   "execution_count": 19,
   "id": "6db140a5",
   "metadata": {},
   "outputs": [
    {
     "data": {
      "text/html": [
       "<div>\n",
       "<style scoped>\n",
       "    .dataframe tbody tr th:only-of-type {\n",
       "        vertical-align: middle;\n",
       "    }\n",
       "\n",
       "    .dataframe tbody tr th {\n",
       "        vertical-align: top;\n",
       "    }\n",
       "\n",
       "    .dataframe thead th {\n",
       "        text-align: right;\n",
       "    }\n",
       "</style>\n",
       "<table border=\"1\" class=\"dataframe\">\n",
       "  <thead>\n",
       "    <tr style=\"text-align: right;\">\n",
       "      <th></th>\n",
       "      <th>Phone</th>\n",
       "      <th>OnlineSecurity</th>\n",
       "      <th>OnlineBackup</th>\n",
       "      <th>TechSupport</th>\n",
       "      <th>DeviceProtection</th>\n",
       "      <th>StreamingTV</th>\n",
       "      <th>StreamingMovies</th>\n",
       "      <th>PaperlessBilling</th>\n",
       "    </tr>\n",
       "  </thead>\n",
       "  <tbody>\n",
       "    <tr>\n",
       "      <th>0</th>\n",
       "      <td>1</td>\n",
       "      <td>1</td>\n",
       "      <td>1</td>\n",
       "      <td>0</td>\n",
       "      <td>0</td>\n",
       "      <td>0</td>\n",
       "      <td>1</td>\n",
       "      <td>1</td>\n",
       "    </tr>\n",
       "    <tr>\n",
       "      <th>1</th>\n",
       "      <td>1</td>\n",
       "      <td>1</td>\n",
       "      <td>0</td>\n",
       "      <td>0</td>\n",
       "      <td>0</td>\n",
       "      <td>1</td>\n",
       "      <td>1</td>\n",
       "      <td>1</td>\n",
       "    </tr>\n",
       "    <tr>\n",
       "      <th>2</th>\n",
       "      <td>1</td>\n",
       "      <td>0</td>\n",
       "      <td>0</td>\n",
       "      <td>0</td>\n",
       "      <td>0</td>\n",
       "      <td>0</td>\n",
       "      <td>1</td>\n",
       "      <td>1</td>\n",
       "    </tr>\n",
       "    <tr>\n",
       "      <th>3</th>\n",
       "      <td>1</td>\n",
       "      <td>1</td>\n",
       "      <td>0</td>\n",
       "      <td>0</td>\n",
       "      <td>0</td>\n",
       "      <td>1</td>\n",
       "      <td>0</td>\n",
       "      <td>1</td>\n",
       "    </tr>\n",
       "    <tr>\n",
       "      <th>4</th>\n",
       "      <td>0</td>\n",
       "      <td>0</td>\n",
       "      <td>0</td>\n",
       "      <td>1</td>\n",
       "      <td>0</td>\n",
       "      <td>1</td>\n",
       "      <td>0</td>\n",
       "      <td>0</td>\n",
       "    </tr>\n",
       "  </tbody>\n",
       "</table>\n",
       "</div>"
      ],
      "text/plain": [
       "   Phone  OnlineSecurity  OnlineBackup  TechSupport  DeviceProtection  \\\n",
       "0      1               1             1            0                 0   \n",
       "1      1               1             0            0                 0   \n",
       "2      1               0             0            0                 0   \n",
       "3      1               1             0            0                 0   \n",
       "4      0               0             0            1                 0   \n",
       "\n",
       "   StreamingTV  StreamingMovies  PaperlessBilling  \n",
       "0            0                1                 1  \n",
       "1            1                1                 1  \n",
       "2            0                1                 1  \n",
       "3            1                0                 1  \n",
       "4            1                0                 0  "
      ]
     },
     "execution_count": 19,
     "metadata": {},
     "output_type": "execute_result"
    }
   ],
   "source": [
    "#Verifying that the encoding was successful\n",
    "df[List_var_Yes_No].head()"
   ]
  },
  {
   "cell_type": "markdown",
   "id": "73207d23",
   "metadata": {},
   "source": [
    "<h3> <a id=\"\"> One-Hot Encoding </a> </h3>"
   ]
  },
  {
   "cell_type": "code",
   "execution_count": 20,
   "id": "5db47f03",
   "metadata": {},
   "outputs": [],
   "source": [
    "# OneHot Endcoding on the InternetService\n",
    "col ='InternetService'\n",
    "df_ = pd.get_dummies(df[col], drop_first = False).astype('int64')\n",
    "transactions = pd.concat([df, df_], axis = 1)"
   ]
  },
  {
   "cell_type": "code",
   "execution_count": 21,
   "id": "1e5acf7a",
   "metadata": {},
   "outputs": [],
   "source": [
    "#dropped the None Column and the InternetService\n",
    "transactions.drop(columns = ['None',col], inplace = True)"
   ]
  },
  {
   "cell_type": "markdown",
   "id": "27c4589d",
   "metadata": {},
   "source": [
    "<h2> <a id=\"A1\"> B2:TRANSACTION EXAMPLE </a> </h2>"
   ]
  },
  {
   "cell_type": "code",
   "execution_count": 22,
   "id": "18cd2f7e",
   "metadata": {},
   "outputs": [
    {
     "data": {
      "text/html": [
       "<div>\n",
       "<style scoped>\n",
       "    .dataframe tbody tr th:only-of-type {\n",
       "        vertical-align: middle;\n",
       "    }\n",
       "\n",
       "    .dataframe tbody tr th {\n",
       "        vertical-align: top;\n",
       "    }\n",
       "\n",
       "    .dataframe thead th {\n",
       "        text-align: right;\n",
       "    }\n",
       "</style>\n",
       "<table border=\"1\" class=\"dataframe\">\n",
       "  <thead>\n",
       "    <tr style=\"text-align: right;\">\n",
       "      <th></th>\n",
       "      <th>Customer_id</th>\n",
       "      <th>Phone</th>\n",
       "      <th>OnlineSecurity</th>\n",
       "      <th>OnlineBackup</th>\n",
       "      <th>TechSupport</th>\n",
       "      <th>DeviceProtection</th>\n",
       "      <th>StreamingTV</th>\n",
       "      <th>StreamingMovies</th>\n",
       "      <th>PaperlessBilling</th>\n",
       "      <th>DSL</th>\n",
       "      <th>Fiber Optic</th>\n",
       "    </tr>\n",
       "  </thead>\n",
       "  <tbody>\n",
       "    <tr>\n",
       "      <th>0</th>\n",
       "      <td>K409198</td>\n",
       "      <td>1</td>\n",
       "      <td>1</td>\n",
       "      <td>1</td>\n",
       "      <td>0</td>\n",
       "      <td>0</td>\n",
       "      <td>0</td>\n",
       "      <td>1</td>\n",
       "      <td>1</td>\n",
       "      <td>0</td>\n",
       "      <td>1</td>\n",
       "    </tr>\n",
       "  </tbody>\n",
       "</table>\n",
       "</div>"
      ],
      "text/plain": [
       "  Customer_id  Phone  OnlineSecurity  OnlineBackup  TechSupport  \\\n",
       "0     K409198      1               1             1            0   \n",
       "\n",
       "   DeviceProtection  StreamingTV  StreamingMovies  PaperlessBilling  DSL  \\\n",
       "0                 0            0                1                 1    0   \n",
       "\n",
       "   Fiber Optic  \n",
       "0            1  "
      ]
     },
     "execution_count": 22,
     "metadata": {},
     "output_type": "execute_result"
    }
   ],
   "source": [
    "# first transaction in df\n",
    "transactions.head(1)"
   ]
  },
  {
   "cell_type": "markdown",
   "id": "0070a8c2",
   "metadata": {},
   "source": [
    "Here is an example of a transaction. The customer K409198 purchased the following services: Phone, OnlineSecurity, OnlineBackup, StreamingMovies, and Fiber Optic."
   ]
  },
  {
   "cell_type": "markdown",
   "id": "9233a5bd",
   "metadata": {},
   "source": [
    "<h2> <a id=\"A1\"> B3:MARKET BASKET ASSUMPTION  </a> </h2>"
   ]
  },
  {
   "cell_type": "markdown",
   "id": "78996fa4",
   "metadata": {},
   "source": [
    "The assumption of the market basket analysis can be summarized as follows:\n",
    "The purchase of one or more products leads to the purchase of another or other products based on the analysis of historic transactional data. "
   ]
  },
  {
   "cell_type": "markdown",
   "id": "d81618a0",
   "metadata": {},
   "source": [
    "<h2> <a id=\"A1\"> C1:TRANSFORMING THE DATASET  </a> </h2>"
   ]
  },
  {
   "cell_type": "code",
   "execution_count": 23,
   "id": "522f1476",
   "metadata": {},
   "outputs": [
    {
     "data": {
      "text/html": [
       "<div>\n",
       "<style scoped>\n",
       "    .dataframe tbody tr th:only-of-type {\n",
       "        vertical-align: middle;\n",
       "    }\n",
       "\n",
       "    .dataframe tbody tr th {\n",
       "        vertical-align: top;\n",
       "    }\n",
       "\n",
       "    .dataframe thead th {\n",
       "        text-align: right;\n",
       "    }\n",
       "</style>\n",
       "<table border=\"1\" class=\"dataframe\">\n",
       "  <thead>\n",
       "    <tr style=\"text-align: right;\">\n",
       "      <th></th>\n",
       "      <th>Customer_id</th>\n",
       "      <th>Phone</th>\n",
       "      <th>OnlineSecurity</th>\n",
       "      <th>OnlineBackup</th>\n",
       "      <th>TechSupport</th>\n",
       "      <th>DeviceProtection</th>\n",
       "      <th>StreamingTV</th>\n",
       "      <th>StreamingMovies</th>\n",
       "      <th>PaperlessBilling</th>\n",
       "      <th>DSL</th>\n",
       "      <th>Fiber Optic</th>\n",
       "    </tr>\n",
       "  </thead>\n",
       "  <tbody>\n",
       "    <tr>\n",
       "      <th>0</th>\n",
       "      <td>K409198</td>\n",
       "      <td>1</td>\n",
       "      <td>1</td>\n",
       "      <td>1</td>\n",
       "      <td>0</td>\n",
       "      <td>0</td>\n",
       "      <td>0</td>\n",
       "      <td>1</td>\n",
       "      <td>1</td>\n",
       "      <td>0</td>\n",
       "      <td>1</td>\n",
       "    </tr>\n",
       "    <tr>\n",
       "      <th>1</th>\n",
       "      <td>S120509</td>\n",
       "      <td>1</td>\n",
       "      <td>1</td>\n",
       "      <td>0</td>\n",
       "      <td>0</td>\n",
       "      <td>0</td>\n",
       "      <td>1</td>\n",
       "      <td>1</td>\n",
       "      <td>1</td>\n",
       "      <td>0</td>\n",
       "      <td>1</td>\n",
       "    </tr>\n",
       "    <tr>\n",
       "      <th>2</th>\n",
       "      <td>K191035</td>\n",
       "      <td>1</td>\n",
       "      <td>0</td>\n",
       "      <td>0</td>\n",
       "      <td>0</td>\n",
       "      <td>0</td>\n",
       "      <td>0</td>\n",
       "      <td>1</td>\n",
       "      <td>1</td>\n",
       "      <td>1</td>\n",
       "      <td>0</td>\n",
       "    </tr>\n",
       "    <tr>\n",
       "      <th>3</th>\n",
       "      <td>D90850</td>\n",
       "      <td>1</td>\n",
       "      <td>1</td>\n",
       "      <td>0</td>\n",
       "      <td>0</td>\n",
       "      <td>0</td>\n",
       "      <td>1</td>\n",
       "      <td>0</td>\n",
       "      <td>1</td>\n",
       "      <td>1</td>\n",
       "      <td>0</td>\n",
       "    </tr>\n",
       "    <tr>\n",
       "      <th>4</th>\n",
       "      <td>K662701</td>\n",
       "      <td>0</td>\n",
       "      <td>0</td>\n",
       "      <td>0</td>\n",
       "      <td>1</td>\n",
       "      <td>0</td>\n",
       "      <td>1</td>\n",
       "      <td>0</td>\n",
       "      <td>0</td>\n",
       "      <td>0</td>\n",
       "      <td>1</td>\n",
       "    </tr>\n",
       "  </tbody>\n",
       "</table>\n",
       "</div>"
      ],
      "text/plain": [
       "  Customer_id  Phone  OnlineSecurity  OnlineBackup  TechSupport  \\\n",
       "0     K409198      1               1             1            0   \n",
       "1     S120509      1               1             0            0   \n",
       "2     K191035      1               0             0            0   \n",
       "3      D90850      1               1             0            0   \n",
       "4     K662701      0               0             0            1   \n",
       "\n",
       "   DeviceProtection  StreamingTV  StreamingMovies  PaperlessBilling  DSL  \\\n",
       "0                 0            0                1                 1    0   \n",
       "1                 0            1                1                 1    0   \n",
       "2                 0            0                1                 1    1   \n",
       "3                 0            1                0                 1    1   \n",
       "4                 0            1                0                 0    0   \n",
       "\n",
       "   Fiber Optic  \n",
       "0            1  \n",
       "1            1  \n",
       "2            0  \n",
       "3            0  \n",
       "4            1  "
      ]
     },
     "execution_count": 23,
     "metadata": {},
     "output_type": "execute_result"
    }
   ],
   "source": [
    "#Top 5  transactions\n",
    "transactions.head()"
   ]
  },
  {
   "cell_type": "code",
   "execution_count": 24,
   "id": "948d5a35",
   "metadata": {},
   "outputs": [],
   "source": [
    "# make a copy to csv of the oreoared data.\n",
    "transactions.to_csv(\"prepared_churn_clean.csv\")"
   ]
  },
  {
   "cell_type": "markdown",
   "id": "073522ae",
   "metadata": {},
   "source": [
    "<h2> <a id=\"A1\"> C2:CODE EXECUTION  </a> </h2>"
   ]
  },
  {
   "cell_type": "code",
   "execution_count": 25,
   "id": "912aac89",
   "metadata": {},
   "outputs": [
    {
     "data": {
      "text/html": [
       "<div>\n",
       "<style scoped>\n",
       "    .dataframe tbody tr th:only-of-type {\n",
       "        vertical-align: middle;\n",
       "    }\n",
       "\n",
       "    .dataframe tbody tr th {\n",
       "        vertical-align: top;\n",
       "    }\n",
       "\n",
       "    .dataframe thead th {\n",
       "        text-align: right;\n",
       "    }\n",
       "</style>\n",
       "<table border=\"1\" class=\"dataframe\">\n",
       "  <thead>\n",
       "    <tr style=\"text-align: right;\">\n",
       "      <th></th>\n",
       "      <th>Phone</th>\n",
       "      <th>OnlineSecurity</th>\n",
       "      <th>OnlineBackup</th>\n",
       "      <th>TechSupport</th>\n",
       "      <th>DeviceProtection</th>\n",
       "      <th>StreamingTV</th>\n",
       "      <th>StreamingMovies</th>\n",
       "      <th>PaperlessBilling</th>\n",
       "      <th>DSL</th>\n",
       "      <th>Fiber Optic</th>\n",
       "    </tr>\n",
       "  </thead>\n",
       "  <tbody>\n",
       "    <tr>\n",
       "      <th>0</th>\n",
       "      <td>1</td>\n",
       "      <td>1</td>\n",
       "      <td>1</td>\n",
       "      <td>0</td>\n",
       "      <td>0</td>\n",
       "      <td>0</td>\n",
       "      <td>1</td>\n",
       "      <td>1</td>\n",
       "      <td>0</td>\n",
       "      <td>1</td>\n",
       "    </tr>\n",
       "    <tr>\n",
       "      <th>1</th>\n",
       "      <td>1</td>\n",
       "      <td>1</td>\n",
       "      <td>0</td>\n",
       "      <td>0</td>\n",
       "      <td>0</td>\n",
       "      <td>1</td>\n",
       "      <td>1</td>\n",
       "      <td>1</td>\n",
       "      <td>0</td>\n",
       "      <td>1</td>\n",
       "    </tr>\n",
       "    <tr>\n",
       "      <th>2</th>\n",
       "      <td>1</td>\n",
       "      <td>0</td>\n",
       "      <td>0</td>\n",
       "      <td>0</td>\n",
       "      <td>0</td>\n",
       "      <td>0</td>\n",
       "      <td>1</td>\n",
       "      <td>1</td>\n",
       "      <td>1</td>\n",
       "      <td>0</td>\n",
       "    </tr>\n",
       "    <tr>\n",
       "      <th>3</th>\n",
       "      <td>1</td>\n",
       "      <td>1</td>\n",
       "      <td>0</td>\n",
       "      <td>0</td>\n",
       "      <td>0</td>\n",
       "      <td>1</td>\n",
       "      <td>0</td>\n",
       "      <td>1</td>\n",
       "      <td>1</td>\n",
       "      <td>0</td>\n",
       "    </tr>\n",
       "    <tr>\n",
       "      <th>4</th>\n",
       "      <td>0</td>\n",
       "      <td>0</td>\n",
       "      <td>0</td>\n",
       "      <td>1</td>\n",
       "      <td>0</td>\n",
       "      <td>1</td>\n",
       "      <td>0</td>\n",
       "      <td>0</td>\n",
       "      <td>0</td>\n",
       "      <td>1</td>\n",
       "    </tr>\n",
       "  </tbody>\n",
       "</table>\n",
       "</div>"
      ],
      "text/plain": [
       "   Phone  OnlineSecurity  OnlineBackup  TechSupport  DeviceProtection  \\\n",
       "0      1               1             1            0                 0   \n",
       "1      1               1             0            0                 0   \n",
       "2      1               0             0            0                 0   \n",
       "3      1               1             0            0                 0   \n",
       "4      0               0             0            1                 0   \n",
       "\n",
       "   StreamingTV  StreamingMovies  PaperlessBilling  DSL  Fiber Optic  \n",
       "0            0                1                 1    0            1  \n",
       "1            1                1                 1    0            1  \n",
       "2            0                1                 1    1            0  \n",
       "3            1                0                 1    1            0  \n",
       "4            1                0                 0    0            1  "
      ]
     },
     "execution_count": 25,
     "metadata": {},
     "output_type": "execute_result"
    }
   ],
   "source": [
    "basket_col = [c for c in transactions.columns if c != 'Customer_id']\n",
    "basket = transactions[basket_col]\n",
    "basket.head()"
   ]
  },
  {
   "cell_type": "markdown",
   "id": "912f538a",
   "metadata": {},
   "source": [
    "Please see below the code to generate the association rules"
   ]
  },
  {
   "cell_type": "markdown",
   "id": "a1fb336c",
   "metadata": {},
   "source": [
    "<h2> <a id=\"A1\"> C3:ASSOCIATION RULES TABLE </a> </h2>"
   ]
  },
  {
   "cell_type": "code",
   "execution_count": 26,
   "id": "511423cd",
   "metadata": {},
   "outputs": [
    {
     "data": {
      "text/html": [
       "<div>\n",
       "<style scoped>\n",
       "    .dataframe tbody tr th:only-of-type {\n",
       "        vertical-align: middle;\n",
       "    }\n",
       "\n",
       "    .dataframe tbody tr th {\n",
       "        vertical-align: top;\n",
       "    }\n",
       "\n",
       "    .dataframe thead th {\n",
       "        text-align: right;\n",
       "    }\n",
       "</style>\n",
       "<table border=\"1\" class=\"dataframe\">\n",
       "  <thead>\n",
       "    <tr style=\"text-align: right;\">\n",
       "      <th></th>\n",
       "      <th>antecedents</th>\n",
       "      <th>consequents</th>\n",
       "      <th>antecedent support</th>\n",
       "      <th>consequent support</th>\n",
       "      <th>support</th>\n",
       "      <th>confidence</th>\n",
       "      <th>lift</th>\n",
       "      <th>leverage</th>\n",
       "      <th>conviction</th>\n",
       "    </tr>\n",
       "  </thead>\n",
       "  <tbody>\n",
       "    <tr>\n",
       "      <th>0</th>\n",
       "      <td>(OnlineSecurity, StreamingTV, OnlineBackup, Te...</td>\n",
       "      <td>(DeviceProtection, DSL)</td>\n",
       "      <td>0.0280</td>\n",
       "      <td>0.1496</td>\n",
       "      <td>0.0058</td>\n",
       "      <td>0.207143</td>\n",
       "      <td>1.384645</td>\n",
       "      <td>0.001611</td>\n",
       "      <td>1.072577</td>\n",
       "    </tr>\n",
       "    <tr>\n",
       "      <th>1</th>\n",
       "      <td>(TechSupport, StreamingTV, DeviceProtection, O...</td>\n",
       "      <td>(OnlineSecurity, DSL)</td>\n",
       "      <td>0.0346</td>\n",
       "      <td>0.1240</td>\n",
       "      <td>0.0058</td>\n",
       "      <td>0.167630</td>\n",
       "      <td>1.351855</td>\n",
       "      <td>0.001510</td>\n",
       "      <td>1.052417</td>\n",
       "    </tr>\n",
       "    <tr>\n",
       "      <th>2</th>\n",
       "      <td>(OnlineSecurity, DeviceProtection, DSL)</td>\n",
       "      <td>(TechSupport, StreamingTV, OnlineBackup)</td>\n",
       "      <td>0.0546</td>\n",
       "      <td>0.0793</td>\n",
       "      <td>0.0058</td>\n",
       "      <td>0.106227</td>\n",
       "      <td>1.339560</td>\n",
       "      <td>0.001470</td>\n",
       "      <td>1.030127</td>\n",
       "    </tr>\n",
       "    <tr>\n",
       "      <th>3</th>\n",
       "      <td>(TechSupport, StreamingTV, OnlineBackup)</td>\n",
       "      <td>(OnlineSecurity, DeviceProtection, DSL)</td>\n",
       "      <td>0.0793</td>\n",
       "      <td>0.0546</td>\n",
       "      <td>0.0058</td>\n",
       "      <td>0.073140</td>\n",
       "      <td>1.339560</td>\n",
       "      <td>0.001470</td>\n",
       "      <td>1.020003</td>\n",
       "    </tr>\n",
       "    <tr>\n",
       "      <th>4</th>\n",
       "      <td>(OnlineSecurity, DSL)</td>\n",
       "      <td>(TechSupport, StreamingTV, DeviceProtection, O...</td>\n",
       "      <td>0.1240</td>\n",
       "      <td>0.0346</td>\n",
       "      <td>0.0058</td>\n",
       "      <td>0.046774</td>\n",
       "      <td>1.351855</td>\n",
       "      <td>0.001510</td>\n",
       "      <td>1.012772</td>\n",
       "    </tr>\n",
       "  </tbody>\n",
       "</table>\n",
       "</div>"
      ],
      "text/plain": [
       "                                         antecedents  \\\n",
       "0  (OnlineSecurity, StreamingTV, OnlineBackup, Te...   \n",
       "1  (TechSupport, StreamingTV, DeviceProtection, O...   \n",
       "2            (OnlineSecurity, DeviceProtection, DSL)   \n",
       "3           (TechSupport, StreamingTV, OnlineBackup)   \n",
       "4                              (OnlineSecurity, DSL)   \n",
       "\n",
       "                                         consequents  antecedent support  \\\n",
       "0                            (DeviceProtection, DSL)              0.0280   \n",
       "1                              (OnlineSecurity, DSL)              0.0346   \n",
       "2           (TechSupport, StreamingTV, OnlineBackup)              0.0546   \n",
       "3            (OnlineSecurity, DeviceProtection, DSL)              0.0793   \n",
       "4  (TechSupport, StreamingTV, DeviceProtection, O...              0.1240   \n",
       "\n",
       "   consequent support  support  confidence      lift  leverage  conviction  \n",
       "0              0.1496   0.0058    0.207143  1.384645  0.001611    1.072577  \n",
       "1              0.1240   0.0058    0.167630  1.351855  0.001510    1.052417  \n",
       "2              0.0793   0.0058    0.106227  1.339560  0.001470    1.030127  \n",
       "3              0.0546   0.0058    0.073140  1.339560  0.001470    1.020003  \n",
       "4              0.0346   0.0058    0.046774  1.351855  0.001510    1.012772  "
      ]
     },
     "execution_count": 26,
     "metadata": {},
     "output_type": "execute_result"
    }
   ],
   "source": [
    "# Using Apriori algarithm to generat a list of products frequently\n",
    "# purchased together up to 6 items at once per occurance for all products in churn dataset.\n",
    "frequent_itemsets = apriori(basket, min_support= len(basket.columns)/len(basket), use_colnames=True, max_len = 6)\n",
    "# frequent_itemsets\n",
    "\n",
    "# Identifying the association rulesusing the association_rules for the\n",
    "# identified frequent products with Lift method and a minimum Threshold of 1.3\n",
    "\n",
    "asso_rules = association_rules(frequent_itemsets, metric=\"lift\",  min_threshold = 1.3)\n",
    "# Top 5 rules\n",
    "asso_rules.head()"
   ]
  },
  {
   "cell_type": "code",
   "execution_count": 27,
   "id": "f5384e7a",
   "metadata": {},
   "outputs": [
    {
     "name": "stdout",
     "output_type": "stream",
     "text": [
      "We identified:  32 assiciated rules\n"
     ]
    }
   ],
   "source": [
    "print(\"We identified: \", len(asso_rules), 'assiciated rules')"
   ]
  },
  {
   "cell_type": "markdown",
   "id": "3331ecdd",
   "metadata": {},
   "source": [
    "<h2> <a id=\"A1\"> C4:TOP THREE RULES </a> </h2>"
   ]
  },
  {
   "cell_type": "code",
   "execution_count": 28,
   "id": "10b34997",
   "metadata": {},
   "outputs": [],
   "source": [
    "# Create function to print the explanation of the top i association rules.\n",
    "def print_association_rules():\n",
    "    ''' Print the explanation of the top i associations rules'''\n",
    "    antecedents_ = asso_rules['antecedents'].iloc[0]\n",
    "    consequents_ = asso_rules['consequents'].iloc[0]\n",
    "    print(\"Customers who are buying {} are likely to buy {}.\".format(antecedents_,consequents_))\n"
   ]
  },
  {
   "cell_type": "markdown",
   "id": "c98369a9",
   "metadata": {},
   "source": [
    "<h4> <a id=\"\"> Top rules by Support </a> </h4>"
   ]
  },
  {
   "cell_type": "code",
   "execution_count": 29,
   "id": "240e0714",
   "metadata": {},
   "outputs": [
    {
     "data": {
      "text/html": [
       "<div>\n",
       "<style scoped>\n",
       "    .dataframe tbody tr th:only-of-type {\n",
       "        vertical-align: middle;\n",
       "    }\n",
       "\n",
       "    .dataframe tbody tr th {\n",
       "        vertical-align: top;\n",
       "    }\n",
       "\n",
       "    .dataframe thead th {\n",
       "        text-align: right;\n",
       "    }\n",
       "</style>\n",
       "<table border=\"1\" class=\"dataframe\">\n",
       "  <thead>\n",
       "    <tr style=\"text-align: right;\">\n",
       "      <th></th>\n",
       "      <th>antecedents</th>\n",
       "      <th>consequents</th>\n",
       "      <th>antecedent support</th>\n",
       "      <th>consequent support</th>\n",
       "      <th>support</th>\n",
       "      <th>confidence</th>\n",
       "      <th>lift</th>\n",
       "      <th>leverage</th>\n",
       "      <th>conviction</th>\n",
       "    </tr>\n",
       "  </thead>\n",
       "  <tbody>\n",
       "    <tr>\n",
       "      <th>16</th>\n",
       "      <td>(OnlineSecurity, StreamingTV, DeviceProtection)</td>\n",
       "      <td>(OnlineBackup, DSL, StreamingMovies)</td>\n",
       "      <td>0.0806</td>\n",
       "      <td>0.0757</td>\n",
       "      <td>0.008</td>\n",
       "      <td>0.099256</td>\n",
       "      <td>1.311170</td>\n",
       "      <td>0.001899</td>\n",
       "      <td>1.026151</td>\n",
       "    </tr>\n",
       "    <tr>\n",
       "      <th>11</th>\n",
       "      <td>(OnlineSecurity, DeviceProtection, DSL, Stream...</td>\n",
       "      <td>(StreamingTV, OnlineBackup)</td>\n",
       "      <td>0.0269</td>\n",
       "      <td>0.2201</td>\n",
       "      <td>0.008</td>\n",
       "      <td>0.297398</td>\n",
       "      <td>1.351194</td>\n",
       "      <td>0.002079</td>\n",
       "      <td>1.110016</td>\n",
       "    </tr>\n",
       "    <tr>\n",
       "      <th>19</th>\n",
       "      <td>(OnlineSecurity, DeviceProtection, DSL)</td>\n",
       "      <td>(OnlineBackup, StreamingTV, StreamingMovies)</td>\n",
       "      <td>0.0546</td>\n",
       "      <td>0.1071</td>\n",
       "      <td>0.008</td>\n",
       "      <td>0.146520</td>\n",
       "      <td>1.368069</td>\n",
       "      <td>0.002152</td>\n",
       "      <td>1.046188</td>\n",
       "    </tr>\n",
       "  </tbody>\n",
       "</table>\n",
       "</div>"
      ],
      "text/plain": [
       "                                          antecedents  \\\n",
       "16    (OnlineSecurity, StreamingTV, DeviceProtection)   \n",
       "11  (OnlineSecurity, DeviceProtection, DSL, Stream...   \n",
       "19            (OnlineSecurity, DeviceProtection, DSL)   \n",
       "\n",
       "                                     consequents  antecedent support  \\\n",
       "16          (OnlineBackup, DSL, StreamingMovies)              0.0806   \n",
       "11                   (StreamingTV, OnlineBackup)              0.0269   \n",
       "19  (OnlineBackup, StreamingTV, StreamingMovies)              0.0546   \n",
       "\n",
       "    consequent support  support  confidence      lift  leverage  conviction  \n",
       "16              0.0757    0.008    0.099256  1.311170  0.001899    1.026151  \n",
       "11              0.2201    0.008    0.297398  1.351194  0.002079    1.110016  \n",
       "19              0.1071    0.008    0.146520  1.368069  0.002152    1.046188  "
      ]
     },
     "execution_count": 29,
     "metadata": {},
     "output_type": "execute_result"
    }
   ],
   "source": [
    "asso_rules.sort_values(by ='support', ascending = False, inplace = True)\n",
    "asso_rules.head(3)"
   ]
  },
  {
   "cell_type": "code",
   "execution_count": 30,
   "id": "909d6e8f",
   "metadata": {},
   "outputs": [
    {
     "name": "stdout",
     "output_type": "stream",
     "text": [
      "Customers who are buying frozenset({'OnlineSecurity', 'StreamingTV', 'DeviceProtection'}) are likely to buy frozenset({'OnlineBackup', 'DSL', 'StreamingMovies'}).\n"
     ]
    }
   ],
   "source": [
    "print_association_rules()"
   ]
  },
  {
   "cell_type": "markdown",
   "id": "a98eb36a",
   "metadata": {},
   "source": [
    "The support is the count of an Item or itemset in a dataset divided by the total of transactions. The highest support is 0.008.\n",
    "The <b> frozenset({'DSL', 'DeviceProtection', 'StreamingTV'}) </b> occurs % 0.8  transaction dataset with a support of 0.008."
   ]
  },
  {
   "cell_type": "markdown",
   "id": "89c56374",
   "metadata": {},
   "source": [
    "<h4> <a id=\"\"> Top rules by Confidence </a> </h4>"
   ]
  },
  {
   "cell_type": "code",
   "execution_count": 31,
   "id": "44c629a2",
   "metadata": {},
   "outputs": [
    {
     "data": {
      "text/html": [
       "<div>\n",
       "<style scoped>\n",
       "    .dataframe tbody tr th:only-of-type {\n",
       "        vertical-align: middle;\n",
       "    }\n",
       "\n",
       "    .dataframe tbody tr th {\n",
       "        vertical-align: top;\n",
       "    }\n",
       "\n",
       "    .dataframe thead th {\n",
       "        text-align: right;\n",
       "    }\n",
       "</style>\n",
       "<table border=\"1\" class=\"dataframe\">\n",
       "  <thead>\n",
       "    <tr style=\"text-align: right;\">\n",
       "      <th></th>\n",
       "      <th>antecedents</th>\n",
       "      <th>consequents</th>\n",
       "      <th>antecedent support</th>\n",
       "      <th>consequent support</th>\n",
       "      <th>support</th>\n",
       "      <th>confidence</th>\n",
       "      <th>lift</th>\n",
       "      <th>leverage</th>\n",
       "      <th>conviction</th>\n",
       "    </tr>\n",
       "  </thead>\n",
       "  <tbody>\n",
       "    <tr>\n",
       "      <th>0</th>\n",
       "      <td>(OnlineSecurity, StreamingTV, OnlineBackup, Te...</td>\n",
       "      <td>(DeviceProtection, DSL)</td>\n",
       "      <td>0.0280</td>\n",
       "      <td>0.1496</td>\n",
       "      <td>0.0058</td>\n",
       "      <td>0.207143</td>\n",
       "      <td>1.384645</td>\n",
       "      <td>0.001611</td>\n",
       "      <td>1.072577</td>\n",
       "    </tr>\n",
       "    <tr>\n",
       "      <th>5</th>\n",
       "      <td>(DeviceProtection, DSL)</td>\n",
       "      <td>(OnlineSecurity, StreamingTV, OnlineBackup, Te...</td>\n",
       "      <td>0.1496</td>\n",
       "      <td>0.0280</td>\n",
       "      <td>0.0058</td>\n",
       "      <td>0.038770</td>\n",
       "      <td>1.384645</td>\n",
       "      <td>0.001611</td>\n",
       "      <td>1.011204</td>\n",
       "    </tr>\n",
       "    <tr>\n",
       "      <th>15</th>\n",
       "      <td>(OnlineSecurity, StreamingTV, OnlineBackup)</td>\n",
       "      <td>(DeviceProtection, DSL, StreamingMovies)</td>\n",
       "      <td>0.0779</td>\n",
       "      <td>0.0750</td>\n",
       "      <td>0.0080</td>\n",
       "      <td>0.102696</td>\n",
       "      <td>1.369277</td>\n",
       "      <td>0.002158</td>\n",
       "      <td>1.030866</td>\n",
       "    </tr>\n",
       "  </tbody>\n",
       "</table>\n",
       "</div>"
      ],
      "text/plain": [
       "                                          antecedents  \\\n",
       "0   (OnlineSecurity, StreamingTV, OnlineBackup, Te...   \n",
       "5                             (DeviceProtection, DSL)   \n",
       "15        (OnlineSecurity, StreamingTV, OnlineBackup)   \n",
       "\n",
       "                                          consequents  antecedent support  \\\n",
       "0                             (DeviceProtection, DSL)              0.0280   \n",
       "5   (OnlineSecurity, StreamingTV, OnlineBackup, Te...              0.1496   \n",
       "15           (DeviceProtection, DSL, StreamingMovies)              0.0779   \n",
       "\n",
       "    consequent support  support  confidence      lift  leverage  conviction  \n",
       "0               0.1496   0.0058    0.207143  1.384645  0.001611    1.072577  \n",
       "5               0.0280   0.0058    0.038770  1.384645  0.001611    1.011204  \n",
       "15              0.0750   0.0080    0.102696  1.369277  0.002158    1.030866  "
      ]
     },
     "execution_count": 31,
     "metadata": {},
     "output_type": "execute_result"
    }
   ],
   "source": [
    "asso_rules.sort_values(by ='lift', ascending = False, inplace = True)\n",
    "asso_rules.head(3)"
   ]
  },
  {
   "cell_type": "code",
   "execution_count": 32,
   "id": "b61a9c1d",
   "metadata": {},
   "outputs": [
    {
     "name": "stdout",
     "output_type": "stream",
     "text": [
      "Customers who are buying frozenset({'OnlineSecurity', 'StreamingTV', 'OnlineBackup', 'TechSupport'}) are likely to buy frozenset({'DeviceProtection', 'DSL'}).\n"
     ]
    }
   ],
   "source": [
    "print_association_rules()"
   ]
  },
  {
   "cell_type": "markdown",
   "id": "357f7b6c",
   "metadata": {},
   "source": [
    "The Lift is the the improvement in rules against all the dataset also called the the strength of association. The highest lift in this dataset is 1.38. for the rule:\n",
    "\n",
    "<b> frozenset({'DSL', 'DeviceProtection'})  ==> frozenset({'TechSupport', 'StreamingTV', 'OnlineSecurity', 'OnlineBackup'}) </b>\n",
    "with a an improvement against the whole dataset of 1.38. "
   ]
  },
  {
   "cell_type": "markdown",
   "id": "6cc864c5",
   "metadata": {},
   "source": [
    "<h4> <a id=\"\"> Top rules by Lift </a> </h4>"
   ]
  },
  {
   "cell_type": "code",
   "execution_count": 33,
   "id": "7af91f72",
   "metadata": {},
   "outputs": [
    {
     "data": {
      "text/html": [
       "<div>\n",
       "<style scoped>\n",
       "    .dataframe tbody tr th:only-of-type {\n",
       "        vertical-align: middle;\n",
       "    }\n",
       "\n",
       "    .dataframe tbody tr th {\n",
       "        vertical-align: top;\n",
       "    }\n",
       "\n",
       "    .dataframe thead th {\n",
       "        text-align: right;\n",
       "    }\n",
       "</style>\n",
       "<table border=\"1\" class=\"dataframe\">\n",
       "  <thead>\n",
       "    <tr style=\"text-align: right;\">\n",
       "      <th></th>\n",
       "      <th>antecedents</th>\n",
       "      <th>consequents</th>\n",
       "      <th>antecedent support</th>\n",
       "      <th>consequent support</th>\n",
       "      <th>support</th>\n",
       "      <th>confidence</th>\n",
       "      <th>lift</th>\n",
       "      <th>leverage</th>\n",
       "      <th>conviction</th>\n",
       "    </tr>\n",
       "  </thead>\n",
       "  <tbody>\n",
       "    <tr>\n",
       "      <th>11</th>\n",
       "      <td>(OnlineSecurity, DeviceProtection, DSL, Stream...</td>\n",
       "      <td>(StreamingTV, OnlineBackup)</td>\n",
       "      <td>0.0269</td>\n",
       "      <td>0.2201</td>\n",
       "      <td>0.0080</td>\n",
       "      <td>0.297398</td>\n",
       "      <td>1.351194</td>\n",
       "      <td>0.002079</td>\n",
       "      <td>1.110016</td>\n",
       "    </tr>\n",
       "    <tr>\n",
       "      <th>13</th>\n",
       "      <td>(OnlineBackup, DeviceProtection, DSL, Streamin...</td>\n",
       "      <td>(OnlineSecurity, StreamingTV)</td>\n",
       "      <td>0.0339</td>\n",
       "      <td>0.1766</td>\n",
       "      <td>0.0080</td>\n",
       "      <td>0.235988</td>\n",
       "      <td>1.336287</td>\n",
       "      <td>0.002013</td>\n",
       "      <td>1.077732</td>\n",
       "    </tr>\n",
       "    <tr>\n",
       "      <th>0</th>\n",
       "      <td>(OnlineSecurity, StreamingTV, OnlineBackup, Te...</td>\n",
       "      <td>(DeviceProtection, DSL)</td>\n",
       "      <td>0.0280</td>\n",
       "      <td>0.1496</td>\n",
       "      <td>0.0058</td>\n",
       "      <td>0.207143</td>\n",
       "      <td>1.384645</td>\n",
       "      <td>0.001611</td>\n",
       "      <td>1.072577</td>\n",
       "    </tr>\n",
       "  </tbody>\n",
       "</table>\n",
       "</div>"
      ],
      "text/plain": [
       "                                          antecedents  \\\n",
       "11  (OnlineSecurity, DeviceProtection, DSL, Stream...   \n",
       "13  (OnlineBackup, DeviceProtection, DSL, Streamin...   \n",
       "0   (OnlineSecurity, StreamingTV, OnlineBackup, Te...   \n",
       "\n",
       "                      consequents  antecedent support  consequent support  \\\n",
       "11    (StreamingTV, OnlineBackup)              0.0269              0.2201   \n",
       "13  (OnlineSecurity, StreamingTV)              0.0339              0.1766   \n",
       "0         (DeviceProtection, DSL)              0.0280              0.1496   \n",
       "\n",
       "    support  confidence      lift  leverage  conviction  \n",
       "11   0.0080    0.297398  1.351194  0.002079    1.110016  \n",
       "13   0.0080    0.235988  1.336287  0.002013    1.077732  \n",
       "0    0.0058    0.207143  1.384645  0.001611    1.072577  "
      ]
     },
     "execution_count": 33,
     "metadata": {},
     "output_type": "execute_result"
    }
   ],
   "source": [
    "asso_rules.sort_values(by ='confidence', ascending = False, inplace = True)\n",
    "asso_rules.head(3)"
   ]
  },
  {
   "cell_type": "code",
   "execution_count": 34,
   "id": "0d729316",
   "metadata": {},
   "outputs": [
    {
     "name": "stdout",
     "output_type": "stream",
     "text": [
      "Customers who are buying frozenset({'OnlineSecurity', 'DeviceProtection', 'DSL', 'StreamingMovies'}) are likely to buy frozenset({'StreamingTV', 'OnlineBackup'}).\n"
     ]
    }
   ],
   "source": [
    "#  Explanation of the top 3 identified rules\n",
    "print_association_rules()"
   ]
  },
  {
   "cell_type": "markdown",
   "id": "f0e2c397",
   "metadata": {},
   "source": [
    "Confidence is the number of times a rule occur in the the transaction dataset. \n",
    "The top rule has confidence of % 30.74 in the dataset.\n",
    "\n",
    "<b> frozenset({'DSL', 'DeviceProtection', 'OnlineSecurity', 'StreamingMovies'}) ==> frozenset({'StreamingTV', 'OnlineBackup'} </b>"
   ]
  },
  {
   "cell_type": "markdown",
   "id": "79a1902d",
   "metadata": {},
   "source": [
    "<h2> <a id=\"A1\"> D1:SIGNIFICANCE OF SUPPORT, LIFT, AND CONFIDENCE SUMMARY </a> </h2>"
   ]
  },
  {
   "cell_type": "markdown",
   "id": "6bc3e864",
   "metadata": {},
   "source": [
    "<h3> <a id=\"\"> Visualizing Support vs Confidence vs Lift  </a> </h3>"
   ]
  },
  {
   "cell_type": "code",
   "execution_count": 35,
   "id": "24d4ef3b",
   "metadata": {},
   "outputs": [
    {
     "data": {
      "image/png": "[encoded data removed]",
      "text/plain": [
       "<Figure size 720x720 with 1 Axes>"
      ]
     },
     "metadata": {
      "needs_background": "light"
     },
     "output_type": "display_data"
    }
   ],
   "source": [
    "fig = plt.figure(figsize=(10, 10))\n",
    "ax = fig.add_subplot(projection = '3d')\n",
    "\n",
    "ax.set_xlabel(\"Support\", fontsize= 14, fontweight='bold', color ='#296eaa')\n",
    "ax.set_ylabel(\"Confidence\", fontsize= 14, fontweight='bold', color ='#296eaa')\n",
    "ax.set_zlabel(\"Lift\", fontsize= 14, fontweight='bold', color ='#296eaa')\n",
    "\n",
    "ax.scatter(asso_rules['support'], asso_rules['confidence'], asso_rules['lift'])\n",
    "ax.set_title(\"Association Rules Distribution\", fontsize= 22, fontweight='bold', color ='#296eaa')\n",
    "\n",
    "plt.show()\n",
    "# (Yenwee, 2022)"
   ]
  },
  {
   "cell_type": "markdown",
   "id": "77c88bb3",
   "metadata": {},
   "source": [
    "* Support: is a metric that explain how frequent a transaction itemset is in the transaction dataset. The top 3 itemsets have the same support 0.0058. The top 3 items are 0.6% popular in the 10,000 transactions.\n",
    "* Lift: is meteric that explain how likely an item will be purchased in an itemset is purchased. A Lift greater than shows that the items is more likely to be purchased when the itemset is purchased. The top 1 transaction shows a lift of 1.351855 which tells that the second is high likely to be purchased with the itemset.\n",
    "* Confidence: is the confidence metric of how likely a an items is purchased when another item or itemset is purchased. The top 1 transaction has a confidence of 0.167630. Meaning that both itemset and item are purchased (16.76 %) of the time together in the dataset.\n",
    "Example:\n",
    "Customers who are buying frozenset({'DeviceProtection', 'StreamingTV', 'OnlineBackup', 'TechSupport'}) are more likely to buy  frozenset({'DSL', 'OnlineSecurity'}). with support of 0.6% and a lift of 1.35 and a confidence of 16.78%\n"
   ]
  },
  {
   "cell_type": "markdown",
   "id": "8cb4da49",
   "metadata": {},
   "source": [
    "<h2> <a id=\"A1\"> D2:PRACTICAL SIGNIFICANCE OF FINDINGS </a> </h2>"
   ]
  },
  {
   "cell_type": "markdown",
   "id": "33749135",
   "metadata": {},
   "source": [
    "The findings show that this analysis is useful to the marketing departement. It will allow the department to appropriately take data driven decision about the products that can basketed together."
   ]
  },
  {
   "cell_type": "markdown",
   "id": "45f04f8b",
   "metadata": {},
   "source": [
    "<h2> <a id=\"A1\"> D3:COURSE OF ACTION </a> </h2>"
   ]
  },
  {
   "cell_type": "markdown",
   "id": "9eedbb87",
   "metadata": {},
   "source": [
    "The analysis shows that the WGU Telecommuncations company will be able to recommend a product or products to its customers based on what they put in their shopping carts. The recommendation is to add an product recommendation engine to the company shpping website. This will help on upselling customers with products they might be interested in. Therefore, increase in sales and profits."
   ]
  },
  {
   "cell_type": "markdown",
   "id": "a176a302",
   "metadata": {},
   "source": [
    "<h2> <a id=\"A1\"> E:PANOPTO RECORDING </a> </h2>"
   ]
  },
  {
   "cell_type": "markdown",
   "id": "cec00fa9",
   "metadata": {},
   "source": [
    "[Link to Panopto Video](https://wgu.hosted.panopto.com/Panopto/Pages/Viewer.aspx?id=ec2db306-d582-4516-81cb-ae87004fd4d9)"
   ]
  },
  {
   "cell_type": "markdown",
   "id": "0f6cfa5f",
   "metadata": {},
   "source": [
    "<h2> <a id=\"A1\"> F:WEB SOURCES  </a> </h2>"
   ]
  },
  {
   "cell_type": "markdown",
   "id": "a9c5a46c",
   "metadata": {},
   "source": [
    "Lim, Yenwee. 04/08/2022.\n",
    "<https://towardsdatascience.com/data-mining-market-basket-analysis-with-apriori-algorithm-970ff256a92c>"
   ]
  },
  {
   "cell_type": "markdown",
   "id": "5e9e3e24",
   "metadata": {},
   "source": [
    "<h2> <a id=\"A1\"> H:SOURCES </a> </h2>"
   ]
  },
  {
   "cell_type": "markdown",
   "id": "37940e10",
   "metadata": {},
   "source": [
    "Shah, Tirth. 06/20/2021. <https://medium.com/nerd-for-tech/market-basket-analysis-1c38613fdd6b#:~:text=What%20Actually%20is%20Market%20Basket%20Analysis%3F%20Market%20basket,products%20that%20are%20likely%20to%20be%20purchased%20together.>"
   ]
  }
 ],
 "metadata": {
  "kernelspec": {
   "display_name": "Python 3 (ipykernel)",
   "language": "python",
   "name": "python3"
  },
  "language_info": {
   "codemirror_mode": {
    "name": "ipython",
    "version": 3
   },
   "file_extension": ".py",
   "mimetype": "text/x-python",
   "name": "python",
   "nbconvert_exporter": "python",
   "pygments_lexer": "ipython3",
   "version": "3.10.10"
  }
 },
 "nbformat": 4,
 "nbformat_minor": 5
}
