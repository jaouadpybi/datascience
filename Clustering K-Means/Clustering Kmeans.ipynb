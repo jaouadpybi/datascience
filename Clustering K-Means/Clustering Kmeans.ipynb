{
 "cells": [
  {
   "cell_type": "markdown",
   "id": "2a93c577",
   "metadata": {},
   "source": [
    "<div align = \"center\">\n",
    "<h1 > CLUSTERING TECHNIQUES </h1>\n",
    "<h2> Jaouad Safouani </h2>\n",
    "</div>"
   ]
  },
  {
   "cell_type": "markdown",
   "id": "0b332064",
   "metadata": {},
   "source": [
    "<h3> Scenario 1 </h3>\n",
    "\n",
    "One of the most critical factors in customer relationship management that directly affects a company’s long-term profitability is understanding its customers. When a company can better understand its customer characteristics, it is better able to target products and marketing campaigns for customers, resulting in better profits for the company in the long term.\n",
    "\n",
    "You are an analyst for a telecommunications company that wants to better understand the characteristics of its customers. You have been asked to use principal component analysis (PCA) to analyze customer data to identify the principal variables of your customers, ultimately allowing better business and strategic decision-making."
   ]
  },
  {
   "cell_type": "markdown",
   "id": "4c92ae1d",
   "metadata": {},
   "source": [
    "* [A1:PROPOSAL OF QUESTION](#A1)\n",
    "* [A2:DEFINED GOAL](#A2)\n",
    "* [B1:EXPLANATION OF CLUSTERING TECHNIQUE](#B1)\n",
    "* [B2:SUMMARY OF TECHNIQUE ASSUMPTION](#B2) \n",
    "* [B3:PACKAGES OR LIBRARIES LIST](#B3)\n",
    "* [C1:DATA PREPROCESSING](#C1) \n",
    "* [C2:DATASET VARIABLES](#C2)\n",
    "* [C3:STEPS FOR ANALYSIS](#C3) \n",
    "* [C4:CLEANED DATASET](#C4)\n",
    "* [D1:OUTPUT AND INTERMEDIATE CALCULATIONS](#D1) \n",
    "* [D2:CODE EXECUTION](#D2)\n",
    "* [E1:ACCURACY OF CLUSTERING TECHNIQUE](#E1) \n",
    "* [E2:RESULTS AND IMPLICATIONS](#E2)\n",
    "* [E3:LIMITATION](#E3) \n",
    "* [E4:COURSE OF ACTION](#E4) \n",
    "* [F:PANOPTO RECORDING](#F) \n",
    "* [G:SOURCES FOR THIRD-PARTY CODE](#G) \n",
    "* [H:SOURCES](#H)"
   ]
  },
  {
   "cell_type": "markdown",
   "id": "f53ed870",
   "metadata": {},
   "source": [
    "<h2> <a id=\"A1\"> A1:PROPOSAL OF QUESTION  </a> </h2>"
   ]
  },
  {
   "cell_type": "markdown",
   "id": "a068b4d6",
   "metadata": {},
   "source": [
    "As an analyst at the WGU Telecommunications, I was asked to analyse the data and cluster the customers using unsupervised machine learning. Can we find clusters within the churn dataset? To answer this question we will use K-means algorithm from scikit-learn. "
   ]
  },
  {
   "cell_type": "markdown",
   "id": "937718dc",
   "metadata": {},
   "source": [
    "<h2> <a id=\"A1\"> A2:DEFINED GOAL  </a> </h2>"
   ]
  },
  {
   "cell_type": "markdown",
   "id": "a9bc6bf2",
   "metadata": {},
   "source": [
    "The marketing and cutsomer relation departments would like to be able to predict customers that are high likey to churn with some measure of confidence. Stakeholders will be able customize marketing campaigns and preventif measure to lower the churn rate as will as increase customer tenure. "
   ]
  },
  {
   "cell_type": "markdown",
   "id": "e5f8dc46",
   "metadata": {},
   "source": [
    "<h2> <a id=\"A1\"> B1:EXPLANATION OF CLUSTERING TECHNIQUE  </a> </h2>"
   ]
  },
  {
   "cell_type": "markdown",
   "id": "161727f5",
   "metadata": {},
   "source": [
    "K-means is an unsupervised clustering algortihm used to cluster within a dataset based on predetermined number of clusters. \n",
    "The algorithm groups data points based on their distance from a centroid. A centroid would be the center point of the each cluster."
   ]
  },
  {
   "cell_type": "markdown",
   "id": "100b6ba2",
   "metadata": {},
   "source": [
    "<h2> <a id=\"A1\"> B2:SUMMARY OF TECHNIQUE ASSUMPTION </a> </h2>"
   ]
  },
  {
   "cell_type": "markdown",
   "id": "fe4b6b71",
   "metadata": {},
   "source": [
    "Kmeans assumes spherical shapes of clusters (with radius equal to the distance between the centroid and the furthest data point) and doesn’t work well when clusters are in different shapes such as elliptical clusters (Dabbura, 2018)."
   ]
  },
  {
   "cell_type": "markdown",
   "id": "bb10bc58",
   "metadata": {},
   "source": [
    "<h2> <a id=\"A1\"> B3:PACKAGES OR LIBRARIES LIST  </a> </h2>"
   ]
  },
  {
   "cell_type": "markdown",
   "id": "60cb79de",
   "metadata": {},
   "source": [
    "I will be using python as the programing language because it is diverse and it runs in different environments, such as Linux, Windows and MacOS. Python is mature easy to use language, and it is rich with many open sources, free of charge use libraries. We will use Python libraries such as:\n",
    "* Pandas for reading the data and data manipulation,\n",
    "* NumPy a helper for Pandas and sickit-learn,\n",
    "* matplotlib for data visualization,\n",
    "* seaborn for advanced good looking visualizations\n",
    "* K-means the clustering algorithm.\n",
    "* MinMaxScaler will be used in the pipeline to tune the k-means model.\n",
    "* math will use the celing function from it to create the EDA visuals.\n",
    "\n",
    "We will use Jupyter Notebook to interact with data and create markups to document and comment on code. Finally, Python can render large amounts of data when combined with tools like Spark compared to other languages such as R."
   ]
  },
  {
   "cell_type": "markdown",
   "id": "a4eb97da",
   "metadata": {},
   "source": [
    "<h2> <a id=\"A1\"> C1. Data Preprocessing  </a> </h2>"
   ]
  },
  {
   "cell_type": "markdown",
   "id": "80a7c17a",
   "metadata": {},
   "source": [
    "K-means is senstive to missing data and outliers, so we will need to do the following:\n",
    "* We will be checking for outliers and evaluate them to see if they acceptable or do we need to impute them. We will use boxplots on the numerical values to visualize outliers.\n",
    "* We will check for missing data and impute any values if needed. df.info() is helpful methode to identify variables with missing data. "
   ]
  },
  {
   "cell_type": "markdown",
   "id": "5cf9213f",
   "metadata": {},
   "source": [
    "<h2> <a id=\"A1\"> C2:DATASET VARIABLES  </a> </h2>"
   ]
  },
  {
   "cell_type": "markdown",
   "id": "ac7d3967",
   "metadata": {},
   "source": [
    "#### Numerical\n",
    "##### Continuous:\n",
    "*\tChildren: Number of children in customer’s household as reported in sign up information (may not be children of customer)\n",
    "*\tAge: Age of customer as reported in sign-up information\n",
    "*\tOutage_sec_perweek: Average number of seconds per week of system outages in the customer’s neighborhood\n",
    "*\tEmail:Number of emails sent to the customer in the last year (marketing or correspondence)\n",
    "*\tContacts:Number of times customer contacted technical support (or if a new customer, similar customer contacts in the new customer’s profile)\n",
    "*\tYearly_equip_failure:The number of times customer’s equipment failed and had to be reset/replaced in the past year (or if new customer, similar failures as seen in the new customer’s profile) \n",
    "*\tTenure: Number of months the customer has stayed with the provider\n",
    "*\tMonthlyCharge: The amount charged to the customer monthly. This value reflects an average per customer. For brand new customers, this value is the average for other customers who fit the new customer’s profile\n",
    "*\tIncome: Annual income of customer (or invoiced person) as reported at time of sign-up\n",
    "##### Discrete: Customer Rating customer service from 1 to 8 (1 = most important, 8 = least important):\n",
    "*\tItem1: Timely response\n",
    "*\tItem2: Timely fixes\n",
    "*\tItem3: Timely replacements\n",
    "*\tItem4: Reliability\n",
    "*\tItem5: Options\n",
    "*\tItem6: Respectful response\n",
    "*\tItem7: Courteous exchange\n",
    "*\tItem8: Evidence of active listening\n",
    "\n",
    "### Categorical \n",
    "*   Churn: shows if a customer cancelled services with the company.\n"
   ]
  },
  {
   "cell_type": "markdown",
   "id": "880121f8",
   "metadata": {},
   "source": [
    "<h2> <a id=\"A1\"> C3:STEPS FOR ANALYSIS </a> </h2>"
   ]
  },
  {
   "cell_type": "markdown",
   "id": "a4358b9d",
   "metadata": {},
   "source": [
    "The goal is to follow best practices, ethics, and laws during the process of the development of the logistic regression model. Using a repository such as Microsoft DevOps to check in the code, will geo on protecting the investment of the code development. I will read a copy of the churn dataset in a Pandas Data Frame and name it df.  We will not modify the original data. I will continue to use Pandas for Data exploratory analysis. Using EDA technique will help on investigating missing values and outliers. Outliers can be an issue in predictive modeling as they might cause bias and the overfitting of model. Therefore, it is important to investigate outliers and to handle them. We will use boxplots to identify variables with outliers if any. \n",
    "We will split the data into testing and training subset 70 /30 using sklearn. We will train the model to predict the Churn and optimize it to achieve the best results. This model will be integrated into an ERP system and will be used by the marketing department. The ERP system will display a report of the customers that are at high risk of churning. Marketing department will act on adjusting their marketing and offering strategies. The business need is to increase the client retention. I will learn about the variables from the data dictionary and by exploring the data. This will help me choose the right predictors. My approach will follow but not limited to below bullet points:\n",
    "*\tWe need to examine the dataset regardless of the research question.\n",
    "*\tIdentify outliers and treat them.\n",
    "*\tExplore categorical variables and identify if they are nominal or ordinals and use one of the techniques to Re-express them.\n",
    "*\tWe might need to Re-scale the features.\n",
    "*\tWe need to create bivariate visuals to see if there is any linear relationship between the predictors and the predicted variable.\n",
    "*\tDuring this data preparation process we will drop columns such as the UID, customer_id, city, country, zip, lat and lng.\n",
    "*\tWe will use nominal/ordinal encoding on binary columns with Yes or No values. As we might find some these variables relevant to the predictions. Churn, Multiple, Phone are examples of the binary columns.\n",
    "*\tWe will use One Hot Encoding for categorical columns with more than two values that are not ordinal. When incorporating the One hot encoding and we will pay attention to not to fall into the Trap of dummy variable; we will drop the first value to prevent the issue.  \n",
    "* We will use StandardSclaer to standardize the dataset.\n",
    "* Set the number of clusters to be generated by the K-means algorithm.\n",
    "* Work expectations and maximization until the centroid positions do not change (Arvai).\n",
    "* initialize the number of centroids randomly."
   ]
  },
  {
   "cell_type": "markdown",
   "id": "f349e476",
   "metadata": {},
   "source": [
    "<h3> Code & Exploratory Analysis </h3>"
   ]
  },
  {
   "cell_type": "code",
   "execution_count": 35,
   "id": "ba73cbb3",
   "metadata": {},
   "outputs": [],
   "source": [
    "#importing libraries\n",
    "import pandas as pd \n",
    "# display all columns in the dataframe.\n",
    "pd.set_option('max_columns', None)\n",
    "import numpy as np\n",
    "#format numbers\n",
    "import matplotlib.ticker as mtick\n",
    "import matplotlib.pyplot as plt\n",
    "plt.rc(\"font\", size=14)\n",
    "%matplotlib inline\n",
    "import seaborn as sns \n",
    "sns.set(style=\"whitegrid\", color_codes=True)\n",
    "from sklearn.preprocessing import MinMaxScaler\n",
    "from sklearn.cluster import KMeans\n",
    "import math\n",
    "from pprint import pprint"
   ]
  },
  {
   "cell_type": "code",
   "execution_count": 36,
   "id": "5cc275e6",
   "metadata": {},
   "outputs": [],
   "source": [
    "df = pd.read_csv('churn_clean.csv')\n",
    "df_copy = pd.read_csv('churn_clean.csv')"
   ]
  },
  {
   "cell_type": "code",
   "execution_count": 37,
   "id": "0c417845",
   "metadata": {},
   "outputs": [
    {
     "data": {
      "text/html": [
       "<div>\n",
       "<style scoped>\n",
       "    .dataframe tbody tr th:only-of-type {\n",
       "        vertical-align: middle;\n",
       "    }\n",
       "\n",
       "    .dataframe tbody tr th {\n",
       "        vertical-align: top;\n",
       "    }\n",
       "\n",
       "    .dataframe thead th {\n",
       "        text-align: right;\n",
       "    }\n",
       "</style>\n",
       "<table border=\"1\" class=\"dataframe\">\n",
       "  <thead>\n",
       "    <tr style=\"text-align: right;\">\n",
       "      <th></th>\n",
       "      <th>CaseOrder</th>\n",
       "      <th>Customer_id</th>\n",
       "      <th>Interaction</th>\n",
       "      <th>UID</th>\n",
       "      <th>City</th>\n",
       "      <th>State</th>\n",
       "      <th>County</th>\n",
       "      <th>Zip</th>\n",
       "      <th>Lat</th>\n",
       "      <th>Lng</th>\n",
       "      <th>Population</th>\n",
       "      <th>Area</th>\n",
       "      <th>TimeZone</th>\n",
       "      <th>Job</th>\n",
       "      <th>Children</th>\n",
       "      <th>Age</th>\n",
       "      <th>Income</th>\n",
       "      <th>Marital</th>\n",
       "      <th>Gender</th>\n",
       "      <th>Churn</th>\n",
       "      <th>Outage_sec_perweek</th>\n",
       "      <th>Email</th>\n",
       "      <th>Contacts</th>\n",
       "      <th>Yearly_equip_failure</th>\n",
       "      <th>Techie</th>\n",
       "      <th>Contract</th>\n",
       "      <th>Port_modem</th>\n",
       "      <th>Tablet</th>\n",
       "      <th>InternetService</th>\n",
       "      <th>Phone</th>\n",
       "      <th>Multiple</th>\n",
       "      <th>OnlineSecurity</th>\n",
       "      <th>OnlineBackup</th>\n",
       "      <th>DeviceProtection</th>\n",
       "      <th>TechSupport</th>\n",
       "      <th>StreamingTV</th>\n",
       "      <th>StreamingMovies</th>\n",
       "      <th>PaperlessBilling</th>\n",
       "      <th>PaymentMethod</th>\n",
       "      <th>Tenure</th>\n",
       "      <th>MonthlyCharge</th>\n",
       "      <th>Bandwidth_GB_Year</th>\n",
       "      <th>Item1</th>\n",
       "      <th>Item2</th>\n",
       "      <th>Item3</th>\n",
       "      <th>Item4</th>\n",
       "      <th>Item5</th>\n",
       "      <th>Item6</th>\n",
       "      <th>Item7</th>\n",
       "      <th>Item8</th>\n",
       "    </tr>\n",
       "  </thead>\n",
       "  <tbody>\n",
       "    <tr>\n",
       "      <th>0</th>\n",
       "      <td>1</td>\n",
       "      <td>K409198</td>\n",
       "      <td>aa90260b-4141-4a24-8e36-b04ce1f4f77b</td>\n",
       "      <td>e885b299883d4f9fb18e39c75155d990</td>\n",
       "      <td>Point Baker</td>\n",
       "      <td>AK</td>\n",
       "      <td>Prince of Wales-Hyder</td>\n",
       "      <td>99927</td>\n",
       "      <td>56.25100</td>\n",
       "      <td>-133.37571</td>\n",
       "      <td>38</td>\n",
       "      <td>Urban</td>\n",
       "      <td>America/Sitka</td>\n",
       "      <td>Environmental health practitioner</td>\n",
       "      <td>0</td>\n",
       "      <td>68</td>\n",
       "      <td>28561.99</td>\n",
       "      <td>Widowed</td>\n",
       "      <td>Male</td>\n",
       "      <td>No</td>\n",
       "      <td>7.978323</td>\n",
       "      <td>10</td>\n",
       "      <td>0</td>\n",
       "      <td>1</td>\n",
       "      <td>No</td>\n",
       "      <td>One year</td>\n",
       "      <td>Yes</td>\n",
       "      <td>Yes</td>\n",
       "      <td>Fiber Optic</td>\n",
       "      <td>Yes</td>\n",
       "      <td>No</td>\n",
       "      <td>Yes</td>\n",
       "      <td>Yes</td>\n",
       "      <td>No</td>\n",
       "      <td>No</td>\n",
       "      <td>No</td>\n",
       "      <td>Yes</td>\n",
       "      <td>Yes</td>\n",
       "      <td>Credit Card (automatic)</td>\n",
       "      <td>6.795513</td>\n",
       "      <td>172.455519</td>\n",
       "      <td>904.536110</td>\n",
       "      <td>5</td>\n",
       "      <td>5</td>\n",
       "      <td>5</td>\n",
       "      <td>3</td>\n",
       "      <td>4</td>\n",
       "      <td>4</td>\n",
       "      <td>3</td>\n",
       "      <td>4</td>\n",
       "    </tr>\n",
       "    <tr>\n",
       "      <th>1</th>\n",
       "      <td>2</td>\n",
       "      <td>S120509</td>\n",
       "      <td>fb76459f-c047-4a9d-8af9-e0f7d4ac2524</td>\n",
       "      <td>f2de8bef964785f41a2959829830fb8a</td>\n",
       "      <td>West Branch</td>\n",
       "      <td>MI</td>\n",
       "      <td>Ogemaw</td>\n",
       "      <td>48661</td>\n",
       "      <td>44.32893</td>\n",
       "      <td>-84.24080</td>\n",
       "      <td>10446</td>\n",
       "      <td>Urban</td>\n",
       "      <td>America/Detroit</td>\n",
       "      <td>Programmer, multimedia</td>\n",
       "      <td>1</td>\n",
       "      <td>27</td>\n",
       "      <td>21704.77</td>\n",
       "      <td>Married</td>\n",
       "      <td>Female</td>\n",
       "      <td>Yes</td>\n",
       "      <td>11.699080</td>\n",
       "      <td>12</td>\n",
       "      <td>0</td>\n",
       "      <td>1</td>\n",
       "      <td>Yes</td>\n",
       "      <td>Month-to-month</td>\n",
       "      <td>No</td>\n",
       "      <td>Yes</td>\n",
       "      <td>Fiber Optic</td>\n",
       "      <td>Yes</td>\n",
       "      <td>Yes</td>\n",
       "      <td>Yes</td>\n",
       "      <td>No</td>\n",
       "      <td>No</td>\n",
       "      <td>No</td>\n",
       "      <td>Yes</td>\n",
       "      <td>Yes</td>\n",
       "      <td>Yes</td>\n",
       "      <td>Bank Transfer(automatic)</td>\n",
       "      <td>1.156681</td>\n",
       "      <td>242.632554</td>\n",
       "      <td>800.982766</td>\n",
       "      <td>3</td>\n",
       "      <td>4</td>\n",
       "      <td>3</td>\n",
       "      <td>3</td>\n",
       "      <td>4</td>\n",
       "      <td>3</td>\n",
       "      <td>4</td>\n",
       "      <td>4</td>\n",
       "    </tr>\n",
       "    <tr>\n",
       "      <th>2</th>\n",
       "      <td>3</td>\n",
       "      <td>K191035</td>\n",
       "      <td>344d114c-3736-4be5-98f7-c72c281e2d35</td>\n",
       "      <td>f1784cfa9f6d92ae816197eb175d3c71</td>\n",
       "      <td>Yamhill</td>\n",
       "      <td>OR</td>\n",
       "      <td>Yamhill</td>\n",
       "      <td>97148</td>\n",
       "      <td>45.35589</td>\n",
       "      <td>-123.24657</td>\n",
       "      <td>3735</td>\n",
       "      <td>Urban</td>\n",
       "      <td>America/Los_Angeles</td>\n",
       "      <td>Chief Financial Officer</td>\n",
       "      <td>4</td>\n",
       "      <td>50</td>\n",
       "      <td>9609.57</td>\n",
       "      <td>Widowed</td>\n",
       "      <td>Female</td>\n",
       "      <td>No</td>\n",
       "      <td>10.752800</td>\n",
       "      <td>9</td>\n",
       "      <td>0</td>\n",
       "      <td>1</td>\n",
       "      <td>Yes</td>\n",
       "      <td>Two Year</td>\n",
       "      <td>Yes</td>\n",
       "      <td>No</td>\n",
       "      <td>DSL</td>\n",
       "      <td>Yes</td>\n",
       "      <td>Yes</td>\n",
       "      <td>No</td>\n",
       "      <td>No</td>\n",
       "      <td>No</td>\n",
       "      <td>No</td>\n",
       "      <td>No</td>\n",
       "      <td>Yes</td>\n",
       "      <td>Yes</td>\n",
       "      <td>Credit Card (automatic)</td>\n",
       "      <td>15.754144</td>\n",
       "      <td>159.947583</td>\n",
       "      <td>2054.706961</td>\n",
       "      <td>4</td>\n",
       "      <td>4</td>\n",
       "      <td>2</td>\n",
       "      <td>4</td>\n",
       "      <td>4</td>\n",
       "      <td>3</td>\n",
       "      <td>3</td>\n",
       "      <td>3</td>\n",
       "    </tr>\n",
       "    <tr>\n",
       "      <th>3</th>\n",
       "      <td>4</td>\n",
       "      <td>D90850</td>\n",
       "      <td>abfa2b40-2d43-4994-b15a-989b8c79e311</td>\n",
       "      <td>dc8a365077241bb5cd5ccd305136b05e</td>\n",
       "      <td>Del Mar</td>\n",
       "      <td>CA</td>\n",
       "      <td>San Diego</td>\n",
       "      <td>92014</td>\n",
       "      <td>32.96687</td>\n",
       "      <td>-117.24798</td>\n",
       "      <td>13863</td>\n",
       "      <td>Suburban</td>\n",
       "      <td>America/Los_Angeles</td>\n",
       "      <td>Solicitor</td>\n",
       "      <td>1</td>\n",
       "      <td>48</td>\n",
       "      <td>18925.23</td>\n",
       "      <td>Married</td>\n",
       "      <td>Male</td>\n",
       "      <td>No</td>\n",
       "      <td>14.913540</td>\n",
       "      <td>15</td>\n",
       "      <td>2</td>\n",
       "      <td>0</td>\n",
       "      <td>Yes</td>\n",
       "      <td>Two Year</td>\n",
       "      <td>No</td>\n",
       "      <td>No</td>\n",
       "      <td>DSL</td>\n",
       "      <td>Yes</td>\n",
       "      <td>No</td>\n",
       "      <td>Yes</td>\n",
       "      <td>No</td>\n",
       "      <td>No</td>\n",
       "      <td>No</td>\n",
       "      <td>Yes</td>\n",
       "      <td>No</td>\n",
       "      <td>Yes</td>\n",
       "      <td>Mailed Check</td>\n",
       "      <td>17.087227</td>\n",
       "      <td>119.956840</td>\n",
       "      <td>2164.579412</td>\n",
       "      <td>4</td>\n",
       "      <td>4</td>\n",
       "      <td>4</td>\n",
       "      <td>2</td>\n",
       "      <td>5</td>\n",
       "      <td>4</td>\n",
       "      <td>3</td>\n",
       "      <td>3</td>\n",
       "    </tr>\n",
       "    <tr>\n",
       "      <th>4</th>\n",
       "      <td>5</td>\n",
       "      <td>K662701</td>\n",
       "      <td>68a861fd-0d20-4e51-a587-8a90407ee574</td>\n",
       "      <td>aabb64a116e83fdc4befc1fbab1663f9</td>\n",
       "      <td>Needville</td>\n",
       "      <td>TX</td>\n",
       "      <td>Fort Bend</td>\n",
       "      <td>77461</td>\n",
       "      <td>29.38012</td>\n",
       "      <td>-95.80673</td>\n",
       "      <td>11352</td>\n",
       "      <td>Suburban</td>\n",
       "      <td>America/Chicago</td>\n",
       "      <td>Medical illustrator</td>\n",
       "      <td>0</td>\n",
       "      <td>83</td>\n",
       "      <td>40074.19</td>\n",
       "      <td>Separated</td>\n",
       "      <td>Male</td>\n",
       "      <td>Yes</td>\n",
       "      <td>8.147417</td>\n",
       "      <td>16</td>\n",
       "      <td>2</td>\n",
       "      <td>1</td>\n",
       "      <td>No</td>\n",
       "      <td>Month-to-month</td>\n",
       "      <td>Yes</td>\n",
       "      <td>No</td>\n",
       "      <td>Fiber Optic</td>\n",
       "      <td>No</td>\n",
       "      <td>No</td>\n",
       "      <td>No</td>\n",
       "      <td>No</td>\n",
       "      <td>No</td>\n",
       "      <td>Yes</td>\n",
       "      <td>Yes</td>\n",
       "      <td>No</td>\n",
       "      <td>No</td>\n",
       "      <td>Mailed Check</td>\n",
       "      <td>1.670972</td>\n",
       "      <td>149.948316</td>\n",
       "      <td>271.493436</td>\n",
       "      <td>4</td>\n",
       "      <td>4</td>\n",
       "      <td>4</td>\n",
       "      <td>3</td>\n",
       "      <td>4</td>\n",
       "      <td>4</td>\n",
       "      <td>4</td>\n",
       "      <td>5</td>\n",
       "    </tr>\n",
       "  </tbody>\n",
       "</table>\n",
       "</div>"
      ],
      "text/plain": [
       "   CaseOrder Customer_id                           Interaction  \\\n",
       "0          1     K409198  aa90260b-4141-4a24-8e36-b04ce1f4f77b   \n",
       "1          2     S120509  fb76459f-c047-4a9d-8af9-e0f7d4ac2524   \n",
       "2          3     K191035  344d114c-3736-4be5-98f7-c72c281e2d35   \n",
       "3          4      D90850  abfa2b40-2d43-4994-b15a-989b8c79e311   \n",
       "4          5     K662701  68a861fd-0d20-4e51-a587-8a90407ee574   \n",
       "\n",
       "                                UID         City State                 County  \\\n",
       "0  e885b299883d4f9fb18e39c75155d990  Point Baker    AK  Prince of Wales-Hyder   \n",
       "1  f2de8bef964785f41a2959829830fb8a  West Branch    MI                 Ogemaw   \n",
       "2  f1784cfa9f6d92ae816197eb175d3c71      Yamhill    OR                Yamhill   \n",
       "3  dc8a365077241bb5cd5ccd305136b05e      Del Mar    CA              San Diego   \n",
       "4  aabb64a116e83fdc4befc1fbab1663f9    Needville    TX              Fort Bend   \n",
       "\n",
       "     Zip       Lat        Lng  Population      Area             TimeZone  \\\n",
       "0  99927  56.25100 -133.37571          38     Urban        America/Sitka   \n",
       "1  48661  44.32893  -84.24080       10446     Urban      America/Detroit   \n",
       "2  97148  45.35589 -123.24657        3735     Urban  America/Los_Angeles   \n",
       "3  92014  32.96687 -117.24798       13863  Suburban  America/Los_Angeles   \n",
       "4  77461  29.38012  -95.80673       11352  Suburban      America/Chicago   \n",
       "\n",
       "                                 Job  Children  Age    Income    Marital  \\\n",
       "0  Environmental health practitioner         0   68  28561.99    Widowed   \n",
       "1             Programmer, multimedia         1   27  21704.77    Married   \n",
       "2            Chief Financial Officer         4   50   9609.57    Widowed   \n",
       "3                          Solicitor         1   48  18925.23    Married   \n",
       "4                Medical illustrator         0   83  40074.19  Separated   \n",
       "\n",
       "   Gender Churn  Outage_sec_perweek  Email  Contacts  Yearly_equip_failure  \\\n",
       "0    Male    No            7.978323     10         0                     1   \n",
       "1  Female   Yes           11.699080     12         0                     1   \n",
       "2  Female    No           10.752800      9         0                     1   \n",
       "3    Male    No           14.913540     15         2                     0   \n",
       "4    Male   Yes            8.147417     16         2                     1   \n",
       "\n",
       "  Techie        Contract Port_modem Tablet InternetService Phone Multiple  \\\n",
       "0     No        One year        Yes    Yes     Fiber Optic   Yes       No   \n",
       "1    Yes  Month-to-month         No    Yes     Fiber Optic   Yes      Yes   \n",
       "2    Yes        Two Year        Yes     No             DSL   Yes      Yes   \n",
       "3    Yes        Two Year         No     No             DSL   Yes       No   \n",
       "4     No  Month-to-month        Yes     No     Fiber Optic    No       No   \n",
       "\n",
       "  OnlineSecurity OnlineBackup DeviceProtection TechSupport StreamingTV  \\\n",
       "0            Yes          Yes               No          No          No   \n",
       "1            Yes           No               No          No         Yes   \n",
       "2             No           No               No          No          No   \n",
       "3            Yes           No               No          No         Yes   \n",
       "4             No           No               No         Yes         Yes   \n",
       "\n",
       "  StreamingMovies PaperlessBilling             PaymentMethod     Tenure  \\\n",
       "0             Yes              Yes   Credit Card (automatic)   6.795513   \n",
       "1             Yes              Yes  Bank Transfer(automatic)   1.156681   \n",
       "2             Yes              Yes   Credit Card (automatic)  15.754144   \n",
       "3              No              Yes              Mailed Check  17.087227   \n",
       "4              No               No              Mailed Check   1.670972   \n",
       "\n",
       "   MonthlyCharge  Bandwidth_GB_Year  Item1  Item2  Item3  Item4  Item5  Item6  \\\n",
       "0     172.455519         904.536110      5      5      5      3      4      4   \n",
       "1     242.632554         800.982766      3      4      3      3      4      3   \n",
       "2     159.947583        2054.706961      4      4      2      4      4      3   \n",
       "3     119.956840        2164.579412      4      4      4      2      5      4   \n",
       "4     149.948316         271.493436      4      4      4      3      4      4   \n",
       "\n",
       "   Item7  Item8  \n",
       "0      3      4  \n",
       "1      4      4  \n",
       "2      3      3  \n",
       "3      3      3  \n",
       "4      4      5  "
      ]
     },
     "execution_count": 37,
     "metadata": {},
     "output_type": "execute_result"
    }
   ],
   "source": [
    "df.head()"
   ]
  },
  {
   "cell_type": "code",
   "execution_count": 38,
   "id": "d646c5fd",
   "metadata": {},
   "outputs": [
    {
     "name": "stdout",
     "output_type": "stream",
     "text": [
      "['Age', 'Area', 'Bandwidth_GB_Year', 'CaseOrder', 'Children', 'Churn', 'City', 'Contacts', 'Contract', 'County', 'Customer_id', 'DeviceProtection', 'Email', 'Gender', 'Income', 'Interaction', 'InternetService', 'Item1', 'Item2', 'Item3', 'Item4', 'Item5', 'Item6', 'Item7', 'Item8', 'Job', 'Lat', 'Lng', 'Marital', 'MonthlyCharge', 'Multiple', 'OnlineBackup', 'OnlineSecurity', 'Outage_sec_perweek', 'PaperlessBilling', 'PaymentMethod', 'Phone', 'Population', 'Port_modem', 'State', 'StreamingMovies', 'StreamingTV', 'Tablet', 'TechSupport', 'Techie', 'Tenure', 'TimeZone', 'UID', 'Yearly_equip_failure', 'Zip']\n"
     ]
    }
   ],
   "source": [
    "print(sorted(list(df.columns)))"
   ]
  },
  {
   "cell_type": "code",
   "execution_count": 39,
   "id": "f26759ea",
   "metadata": {},
   "outputs": [
    {
     "data": {
      "text/plain": [
       "(10000, 50)"
      ]
     },
     "execution_count": 39,
     "metadata": {},
     "output_type": "execute_result"
    }
   ],
   "source": [
    "df.shape"
   ]
  },
  {
   "cell_type": "code",
   "execution_count": 40,
   "id": "4b47524e",
   "metadata": {},
   "outputs": [
    {
     "name": "stdout",
     "output_type": "stream",
     "text": [
      "<class 'pandas.core.frame.DataFrame'>\n",
      "RangeIndex: 10000 entries, 0 to 9999\n",
      "Data columns (total 50 columns):\n",
      " #   Column                Non-Null Count  Dtype  \n",
      "---  ------                --------------  -----  \n",
      " 0   CaseOrder             10000 non-null  int64  \n",
      " 1   Customer_id           10000 non-null  object \n",
      " 2   Interaction           10000 non-null  object \n",
      " 3   UID                   10000 non-null  object \n",
      " 4   City                  10000 non-null  object \n",
      " 5   State                 10000 non-null  object \n",
      " 6   County                10000 non-null  object \n",
      " 7   Zip                   10000 non-null  int64  \n",
      " 8   Lat                   10000 non-null  float64\n",
      " 9   Lng                   10000 non-null  float64\n",
      " 10  Population            10000 non-null  int64  \n",
      " 11  Area                  10000 non-null  object \n",
      " 12  TimeZone              10000 non-null  object \n",
      " 13  Job                   10000 non-null  object \n",
      " 14  Children              10000 non-null  int64  \n",
      " 15  Age                   10000 non-null  int64  \n",
      " 16  Income                10000 non-null  float64\n",
      " 17  Marital               10000 non-null  object \n",
      " 18  Gender                10000 non-null  object \n",
      " 19  Churn                 10000 non-null  object \n",
      " 20  Outage_sec_perweek    10000 non-null  float64\n",
      " 21  Email                 10000 non-null  int64  \n",
      " 22  Contacts              10000 non-null  int64  \n",
      " 23  Yearly_equip_failure  10000 non-null  int64  \n",
      " 24  Techie                10000 non-null  object \n",
      " 25  Contract              10000 non-null  object \n",
      " 26  Port_modem            10000 non-null  object \n",
      " 27  Tablet                10000 non-null  object \n",
      " 28  InternetService       10000 non-null  object \n",
      " 29  Phone                 10000 non-null  object \n",
      " 30  Multiple              10000 non-null  object \n",
      " 31  OnlineSecurity        10000 non-null  object \n",
      " 32  OnlineBackup          10000 non-null  object \n",
      " 33  DeviceProtection      10000 non-null  object \n",
      " 34  TechSupport           10000 non-null  object \n",
      " 35  StreamingTV           10000 non-null  object \n",
      " 36  StreamingMovies       10000 non-null  object \n",
      " 37  PaperlessBilling      10000 non-null  object \n",
      " 38  PaymentMethod         10000 non-null  object \n",
      " 39  Tenure                10000 non-null  float64\n",
      " 40  MonthlyCharge         10000 non-null  float64\n",
      " 41  Bandwidth_GB_Year     10000 non-null  float64\n",
      " 42  Item1                 10000 non-null  int64  \n",
      " 43  Item2                 10000 non-null  int64  \n",
      " 44  Item3                 10000 non-null  int64  \n",
      " 45  Item4                 10000 non-null  int64  \n",
      " 46  Item5                 10000 non-null  int64  \n",
      " 47  Item6                 10000 non-null  int64  \n",
      " 48  Item7                 10000 non-null  int64  \n",
      " 49  Item8                 10000 non-null  int64  \n",
      "dtypes: float64(7), int64(16), object(27)\n",
      "memory usage: 3.8+ MB\n"
     ]
    }
   ],
   "source": [
    "df.info()"
   ]
  },
  {
   "cell_type": "markdown",
   "id": "6c5bd1fd",
   "metadata": {},
   "source": [
    "There are no missing values in the dataset."
   ]
  },
  {
   "cell_type": "code",
   "execution_count": 42,
   "id": "fa799208",
   "metadata": {},
   "outputs": [],
   "source": [
    "var_to_be_dropped_list = ['Population','City','County','Zip','Job','TimeZone',\n",
    "          'Lat','Lng','UID', 'Customer_id','Interaction','CaseOrder','State','Gender','Churn',\n",
    "          'Techie','Contract','Port_modem', 'Area','Tablet','Phone',\n",
    "           'OnlineSecurity','Multiple','OnlineBackup','TechSupport','DeviceProtection','StreamingTV',\n",
    "          'StreamingMovies','PaperlessBilling','PaymentMethod','Marital','InternetService']"
   ]
  },
  {
   "cell_type": "code",
   "execution_count": 43,
   "id": "4b0455c6",
   "metadata": {},
   "outputs": [],
   "source": [
    "#dropping columns that are not related to our analysis\n",
    "df.drop(columns = var_to_be_dropped_list , inplace = True)"
   ]
  },
  {
   "cell_type": "code",
   "execution_count": 44,
   "id": "78ec5e61",
   "metadata": {},
   "outputs": [],
   "source": [
    "# Rename last 8 survey columns to the appropriate description per the data dictionary\n",
    "df.rename(columns = {'Item1':'TimelyResponse', \n",
    "                     'Item2':'Fixes', \n",
    "                     'Item3':'Replacements', \n",
    "                     'Item4':'Reliability', \n",
    "                     'Item5':'Options', \n",
    "                     'Item6':'Respectfulness', \n",
    "                     'Item7':'Courteous', \n",
    "                     'Item8':'Listening'}, \n",
    "          inplace=True)"
   ]
  },
  {
   "cell_type": "code",
   "execution_count": 45,
   "id": "2191dda9",
   "metadata": {},
   "outputs": [
    {
     "name": "stdout",
     "output_type": "stream",
     "text": [
      "['Age', 'Bandwidth_GB_Year', 'Children', 'Contacts', 'Courteous', 'Email', 'Fixes', 'Income', 'Listening', 'MonthlyCharge', 'Options', 'Outage_sec_perweek', 'Reliability', 'Replacements', 'Respectfulness', 'Tenure', 'TimelyResponse', 'Yearly_equip_failure']\n"
     ]
    }
   ],
   "source": [
    "print(sorted(list(df.columns)))"
   ]
  },
  {
   "cell_type": "code",
   "execution_count": 46,
   "id": "be55c44c",
   "metadata": {},
   "outputs": [
    {
     "data": {
      "text/plain": [
       "0"
      ]
     },
     "execution_count": 46,
     "metadata": {},
     "output_type": "execute_result"
    }
   ],
   "source": [
    "df.duplicated().sum()"
   ]
  },
  {
   "cell_type": "markdown",
   "id": "d0f5b586",
   "metadata": {},
   "source": [
    "<h3> Ploting numerical variables to identify variables with outliers </h3>"
   ]
  },
  {
   "cell_type": "code",
   "execution_count": 47,
   "id": "066d0705",
   "metadata": {},
   "outputs": [],
   "source": [
    "# create a dictionary with columns and their datatype. \n",
    "dict_col_type = dict()\n",
    "for col in list(df.columns):\n",
    "    dict_col_type[col] = df[col].dtypes"
   ]
  },
  {
   "cell_type": "code",
   "execution_count": 48,
   "id": "125e0418",
   "metadata": {},
   "outputs": [
    {
     "data": {
      "text/plain": [
       "{'Children': dtype('int64'),\n",
       " 'Age': dtype('int64'),\n",
       " 'Income': dtype('float64'),\n",
       " 'Outage_sec_perweek': dtype('float64'),\n",
       " 'Email': dtype('int64'),\n",
       " 'Contacts': dtype('int64'),\n",
       " 'Yearly_equip_failure': dtype('int64'),\n",
       " 'Tenure': dtype('float64'),\n",
       " 'MonthlyCharge': dtype('float64'),\n",
       " 'Bandwidth_GB_Year': dtype('float64'),\n",
       " 'TimelyResponse': dtype('int64'),\n",
       " 'Fixes': dtype('int64'),\n",
       " 'Replacements': dtype('int64'),\n",
       " 'Reliability': dtype('int64'),\n",
       " 'Options': dtype('int64'),\n",
       " 'Respectfulness': dtype('int64'),\n",
       " 'Courteous': dtype('int64'),\n",
       " 'Listening': dtype('int64')}"
      ]
     },
     "execution_count": 48,
     "metadata": {},
     "output_type": "execute_result"
    }
   ],
   "source": [
    "dict_col_type"
   ]
  },
  {
   "cell_type": "code",
   "execution_count": 50,
   "id": "2efdb5d9",
   "metadata": {},
   "outputs": [],
   "source": [
    "df_numeric_variable= dict()\n",
    "df_object_variable =dict()\n",
    "for i, v in dict_col_type.items():\n",
    "    if (dict_col_type[i]=='int64' or dict_col_type[i]=='float64'):\n",
    "        df_numeric_variable[i]= v\n",
    "    else:\n",
    "        df_object_variable[i] = v"
   ]
  },
  {
   "cell_type": "code",
   "execution_count": 51,
   "id": "6cadb992",
   "metadata": {},
   "outputs": [
    {
     "data": {
      "text/plain": [
       "{'Children': dtype('int64'),\n",
       " 'Age': dtype('int64'),\n",
       " 'Income': dtype('float64'),\n",
       " 'Outage_sec_perweek': dtype('float64'),\n",
       " 'Email': dtype('int64'),\n",
       " 'Contacts': dtype('int64'),\n",
       " 'Yearly_equip_failure': dtype('int64'),\n",
       " 'Tenure': dtype('float64'),\n",
       " 'MonthlyCharge': dtype('float64'),\n",
       " 'Bandwidth_GB_Year': dtype('float64'),\n",
       " 'TimelyResponse': dtype('int64'),\n",
       " 'Fixes': dtype('int64'),\n",
       " 'Replacements': dtype('int64'),\n",
       " 'Reliability': dtype('int64'),\n",
       " 'Options': dtype('int64'),\n",
       " 'Respectfulness': dtype('int64'),\n",
       " 'Courteous': dtype('int64'),\n",
       " 'Listening': dtype('int64')}"
      ]
     },
     "execution_count": 51,
     "metadata": {},
     "output_type": "execute_result"
    }
   ],
   "source": [
    "df_numeric_variable"
   ]
  },
  {
   "cell_type": "markdown",
   "id": "3f6ca4da",
   "metadata": {},
   "source": [
    "<h3> Numerical Variables distribution </h3>"
   ]
  },
  {
   "cell_type": "code",
   "execution_count": 52,
   "id": "adfd7e64",
   "metadata": {},
   "outputs": [
    {
     "data": {
      "text/plain": [
       "6"
      ]
     },
     "execution_count": 52,
     "metadata": {},
     "output_type": "execute_result"
    }
   ],
   "source": [
    "var_num_list = sorted(list(df_numeric_variable.keys()))\n",
    "var_num_cnt = math.ceil(len(var_num_list)/3)\n",
    "var_num_cnt"
   ]
  },
  {
   "cell_type": "code",
   "execution_count": 53,
   "id": "ad73b28e",
   "metadata": {},
   "outputs": [
    {
     "data": {
      "image/png": "[encoded data removed]",
      "text/plain": [
       "<Figure size 1440x1440 with 18 Axes>"
      ]
     },
     "metadata": {},
     "output_type": "display_data"
    }
   ],
   "source": [
    "#Ploting distribution of numerical variables\n",
    "\n",
    "sns.set(font_scale=1.23)\n",
    "fig, axes = plt.subplots(nrows = int(len(var_num_list)/3) ,ncols = 3,\n",
    "figsize = (20,20))\n",
    "for i, item in enumerate(var_num_list):\n",
    "    if i < 6:\n",
    "        sns.boxplot(x= item, data = df,showmeans=True,ax=axes[i,0])\n",
    "        \n",
    "    elif i >=6 and i < 12:\n",
    "        sns.boxplot(x= item, data = df,showmeans=True,ax=axes[i-6,1],color ='orange')\n",
    "        \n",
    "    elif i >= 12 and i<18:\n",
    "         sns.boxplot(x= item, data = df,showmeans=True,ax=axes[i-12,2],color ='#feefc0')\n",
    "\n",
    "        \n",
    "#     ax.set_title(item, fontsize =14)\n",
    "    \n",
    "plt.subplots_adjust(left=0.1,\n",
    "                    bottom=0.1, \n",
    "                    right=0.9, \n",
    "                    top=1, \n",
    "                    wspace=0.2, \n",
    "                    hspace=0.3)\n",
    "plt.show()\n",
    "# plt.savefig(\"IdentifyingOutliersNumericalVar.png\") "
   ]
  },
  {
   "cell_type": "markdown",
   "id": "388b29a1",
   "metadata": {},
   "source": [
    "After Investigation the outlies they deemed to be acceptable"
   ]
  },
  {
   "cell_type": "markdown",
   "id": "b338062e",
   "metadata": {},
   "source": [
    "<h3> Distribution of Numerical Variables by Churn </h3>"
   ]
  },
  {
   "cell_type": "code",
   "execution_count": 54,
   "id": "bf27c479",
   "metadata": {},
   "outputs": [
    {
     "data": {
      "image/png": "[encoded data removed]",
      "text/plain": [
       "<Figure size 1584x1800 with 18 Axes>"
      ]
     },
     "metadata": {},
     "output_type": "display_data"
    }
   ],
   "source": [
    "df_var_numcnt = math.ceil(len(var_num_list)/3)\n",
    "sns.set(font_scale=1.23)\n",
    "\n",
    "fig, axes = plt.subplots(nrows = df_var_numcnt ,ncols = 3,\n",
    "figsize = (22,25))\n",
    "for i, item in enumerate(var_num_list):\n",
    "    if i < 6:\n",
    "        sns.histplot(x= item, data = df,ax=axes[i,0], multiple=\"stack\")\n",
    "        \n",
    "    elif i >=6 and i < 12:\n",
    "        sns.histplot(x= item, data = df,ax=axes[i-6,1],multiple=\"stack\")\n",
    "        \n",
    "    elif i >= 12 and i<18:\n",
    "         sns.histplot(x= item, data =df,ax=axes[i-12,2], multiple=\"stack\")\n",
    "            \n",
    "plt.subplots_adjust(left=0.1,\n",
    "                    bottom=0.1, \n",
    "                    right=0.9, \n",
    "                    top=0.9, \n",
    "                    wspace=0.2, \n",
    "                    hspace=0.3)\n",
    "\n",
    "# plt.savefig(\"BivariateHistogram_NumericalByChurn.png\") \n",
    "plt.show()"
   ]
  },
  {
   "cell_type": "markdown",
   "id": "a9bb4d77",
   "metadata": {},
   "source": [
    "We conlude from the the distirubution of the numerical variables bu churn the following:\n",
    "* Clients that churned  are client that send most emails and have larger outage sec perweek even they had Timely Response and Options and customer was curteous.\n",
    "* Churned customer has less Tenure and had fewer average data usage per year.\n",
    "* Churned Customers are from all ages, there is a uniform distributiion regradless of if a customer churned or not."
   ]
  },
  {
   "cell_type": "markdown",
   "id": "15663388",
   "metadata": {},
   "source": [
    "<h2> <a id=\"A1\"> C4:CLEANED DATASET </a> </h2>"
   ]
  },
  {
   "cell_type": "markdown",
   "id": "fe846fc5",
   "metadata": {},
   "source": [
    "#### Create a list of independent variables"
   ]
  },
  {
   "cell_type": "code",
   "execution_count": 56,
   "id": "6c7e7fb1",
   "metadata": {},
   "outputs": [
    {
     "name": "stdout",
     "output_type": "stream",
     "text": [
      "Index(['Children', 'Age', 'Income', 'Outage_sec_perweek', 'Email', 'Contacts',\n",
      "       'Yearly_equip_failure', 'Tenure', 'MonthlyCharge', 'Bandwidth_GB_Year',\n",
      "       'TimelyResponse', 'Fixes', 'Replacements', 'Reliability', 'Options',\n",
      "       'Respectfulness', 'Courteous', 'Listening'],\n",
      "      dtype='object')\n"
     ]
    }
   ],
   "source": [
    "list_predictors = df.columns\n",
    "print(list_predictors)"
   ]
  },
  {
   "cell_type": "code",
   "execution_count": 57,
   "id": "4b09ab47",
   "metadata": {},
   "outputs": [],
   "source": [
    "# make a copy to csv of the oreoared data.\n",
    "df.to_csv(\"prepared_churn_clean.csv\")"
   ]
  },
  {
   "cell_type": "markdown",
   "id": "6dd60ce8",
   "metadata": {},
   "source": [
    "<h2> <a id=\"A1\"> D1:OUTPUT AND INTERMEDIATE CALCULATIONS </a> </h2>"
   ]
  },
  {
   "cell_type": "markdown",
   "id": "ac113a62",
   "metadata": {},
   "source": [
    "<h3> Standardizing data using MinMaxScaler </h3>"
   ]
  },
  {
   "cell_type": "code",
   "execution_count": 58,
   "id": "99c75ac4",
   "metadata": {},
   "outputs": [],
   "source": [
    "scaler = MinMaxScaler()"
   ]
  },
  {
   "cell_type": "code",
   "execution_count": 59,
   "id": "e9b9f614",
   "metadata": {},
   "outputs": [
    {
     "data": {
      "text/plain": [
       "MinMaxScaler()"
      ]
     },
     "execution_count": 59,
     "metadata": {},
     "output_type": "execute_result"
    }
   ],
   "source": [
    "# fitting the sclaer\n",
    "scaler.fit(df)"
   ]
  },
  {
   "cell_type": "code",
   "execution_count": 60,
   "id": "bc86a1a8",
   "metadata": {},
   "outputs": [],
   "source": [
    "#scaling the feateaures\n",
    "array_scaled = scaler.transform(df)"
   ]
  },
  {
   "cell_type": "code",
   "execution_count": 61,
   "id": "33250e4c",
   "metadata": {},
   "outputs": [
    {
     "data": {
      "text/plain": [
       "array([[0.        , 0.70422535, 0.10912047, ..., 0.42857143, 0.33333333,\n",
       "        0.42857143],\n",
       "       [0.1       , 0.12676056, 0.08259885, ..., 0.28571429, 0.5       ,\n",
       "        0.42857143],\n",
       "       [0.4       , 0.45070423, 0.03581832, ..., 0.28571429, 0.33333333,\n",
       "        0.28571429],\n",
       "       ...,\n",
       "       [0.1       , 0.42253521, 0.17650126, ..., 0.42857143, 0.5       ,\n",
       "        0.57142857],\n",
       "       [0.1       , 0.29577465, 0.06311654, ..., 0.28571429, 0.66666667,\n",
       "        0.42857143],\n",
       "       [0.1       , 0.14084507, 0.0335416 , ..., 0.28571429, 0.5       ,\n",
       "        0.        ]])"
      ]
     },
     "execution_count": 61,
     "metadata": {},
     "output_type": "execute_result"
    }
   ],
   "source": [
    "array_scaled"
   ]
  },
  {
   "cell_type": "markdown",
   "id": "79a1902d",
   "metadata": {},
   "source": [
    "<h2> <a id=\"A1\"> D2:CODE EXECUTION  </a> </h2>"
   ]
  },
  {
   "cell_type": "markdown",
   "id": "9b404c27",
   "metadata": {},
   "source": [
    "<h6> Identify the optimal number of clusters using the Elbow mothod </h6>"
   ]
  },
  {
   "cell_type": "code",
   "execution_count": 62,
   "id": "66d0f940",
   "metadata": {},
   "outputs": [
    {
     "data": {
      "image/png": "[encoded data removed]",
      "text/plain": [
       "<Figure size 432x288 with 1 Axes>"
      ]
     },
     "metadata": {},
     "output_type": "display_data"
    }
   ],
   "source": [
    "inertias=[]\n",
    "for k in range(1,10):\n",
    "    kmeans = KMeans(k)\n",
    "    kmeans.fit(array_scaled)\n",
    "    inertias.append(kmeans.inertia_)\n",
    "number_clusters = range(1,10)\n",
    "plt.plot(number_clusters,inertias ,'-s')\n",
    "plt.title('The Elbow method for initial variables')\n",
    "plt.xlabel('# Clusters')\n",
    "plt.ylabel('Inertias')\n",
    "plt.show()"
   ]
  },
  {
   "cell_type": "markdown",
   "id": "77c88bb3",
   "metadata": {},
   "source": [
    "The Elbow method shows that the optimal number of clusters is k =2. We can relate to that as this dataset is about churn customers. This dataset has a churn variable with values of 0 for No and 1 for Yes. "
   ]
  },
  {
   "cell_type": "markdown",
   "id": "5c67f5db",
   "metadata": {},
   "source": [
    "<h6> Fitting K-means </h6>"
   ]
  },
  {
   "cell_type": "code",
   "execution_count": 64,
   "id": "f61a1643",
   "metadata": {},
   "outputs": [
    {
     "data": {
      "text/plain": [
       "KMeans(n_clusters=2, random_state=30)"
      ]
     },
     "execution_count": 64,
     "metadata": {},
     "output_type": "execute_result"
    }
   ],
   "source": [
    "# initializing the the K-means model\n",
    "Kmean_model = KMeans(n_clusters=2, init='k-means++', random_state=30)\n",
    "# Training the Kmeans model\n",
    "Kmean_model.fit(array_scaled)\n"
   ]
  },
  {
   "cell_type": "code",
   "execution_count": 65,
   "id": "5d978b19",
   "metadata": {},
   "outputs": [],
   "source": [
    "df_scaled = pd.DataFrame(array_scaled, columns = df.columns)"
   ]
  },
  {
   "cell_type": "code",
   "execution_count": 66,
   "id": "96638935",
   "metadata": {},
   "outputs": [
    {
     "data": {
      "text/html": [
       "<div>\n",
       "<style scoped>\n",
       "    .dataframe tbody tr th:only-of-type {\n",
       "        vertical-align: middle;\n",
       "    }\n",
       "\n",
       "    .dataframe tbody tr th {\n",
       "        vertical-align: top;\n",
       "    }\n",
       "\n",
       "    .dataframe thead th {\n",
       "        text-align: right;\n",
       "    }\n",
       "</style>\n",
       "<table border=\"1\" class=\"dataframe\">\n",
       "  <thead>\n",
       "    <tr style=\"text-align: right;\">\n",
       "      <th></th>\n",
       "      <th>Children</th>\n",
       "      <th>Age</th>\n",
       "      <th>Income</th>\n",
       "      <th>Outage_sec_perweek</th>\n",
       "      <th>Email</th>\n",
       "      <th>Contacts</th>\n",
       "      <th>Yearly_equip_failure</th>\n",
       "      <th>Tenure</th>\n",
       "      <th>MonthlyCharge</th>\n",
       "      <th>Bandwidth_GB_Year</th>\n",
       "      <th>TimelyResponse</th>\n",
       "      <th>Fixes</th>\n",
       "      <th>Replacements</th>\n",
       "      <th>Reliability</th>\n",
       "      <th>Options</th>\n",
       "      <th>Respectfulness</th>\n",
       "      <th>Courteous</th>\n",
       "      <th>Listening</th>\n",
       "    </tr>\n",
       "  </thead>\n",
       "  <tbody>\n",
       "    <tr>\n",
       "      <th>0</th>\n",
       "      <td>0.0</td>\n",
       "      <td>0.704225</td>\n",
       "      <td>0.109120</td>\n",
       "      <td>0.373260</td>\n",
       "      <td>0.409091</td>\n",
       "      <td>0.000000</td>\n",
       "      <td>0.166667</td>\n",
       "      <td>0.081624</td>\n",
       "      <td>0.439985</td>\n",
       "      <td>0.106951</td>\n",
       "      <td>0.666667</td>\n",
       "      <td>0.666667</td>\n",
       "      <td>0.571429</td>\n",
       "      <td>0.333333</td>\n",
       "      <td>0.500000</td>\n",
       "      <td>0.428571</td>\n",
       "      <td>0.333333</td>\n",
       "      <td>0.428571</td>\n",
       "    </tr>\n",
       "    <tr>\n",
       "      <th>1</th>\n",
       "      <td>0.1</td>\n",
       "      <td>0.126761</td>\n",
       "      <td>0.082599</td>\n",
       "      <td>0.549537</td>\n",
       "      <td>0.500000</td>\n",
       "      <td>0.000000</td>\n",
       "      <td>0.166667</td>\n",
       "      <td>0.002203</td>\n",
       "      <td>0.773872</td>\n",
       "      <td>0.092165</td>\n",
       "      <td>0.333333</td>\n",
       "      <td>0.500000</td>\n",
       "      <td>0.285714</td>\n",
       "      <td>0.333333</td>\n",
       "      <td>0.500000</td>\n",
       "      <td>0.285714</td>\n",
       "      <td>0.500000</td>\n",
       "      <td>0.428571</td>\n",
       "    </tr>\n",
       "    <tr>\n",
       "      <th>2</th>\n",
       "      <td>0.4</td>\n",
       "      <td>0.450704</td>\n",
       "      <td>0.035818</td>\n",
       "      <td>0.504705</td>\n",
       "      <td>0.363636</td>\n",
       "      <td>0.000000</td>\n",
       "      <td>0.166667</td>\n",
       "      <td>0.207804</td>\n",
       "      <td>0.380474</td>\n",
       "      <td>0.271180</td>\n",
       "      <td>0.500000</td>\n",
       "      <td>0.500000</td>\n",
       "      <td>0.142857</td>\n",
       "      <td>0.500000</td>\n",
       "      <td>0.500000</td>\n",
       "      <td>0.285714</td>\n",
       "      <td>0.333333</td>\n",
       "      <td>0.285714</td>\n",
       "    </tr>\n",
       "    <tr>\n",
       "      <th>3</th>\n",
       "      <td>0.1</td>\n",
       "      <td>0.422535</td>\n",
       "      <td>0.071848</td>\n",
       "      <td>0.701827</td>\n",
       "      <td>0.636364</td>\n",
       "      <td>0.285714</td>\n",
       "      <td>0.000000</td>\n",
       "      <td>0.226580</td>\n",
       "      <td>0.190207</td>\n",
       "      <td>0.286868</td>\n",
       "      <td>0.500000</td>\n",
       "      <td>0.500000</td>\n",
       "      <td>0.428571</td>\n",
       "      <td>0.166667</td>\n",
       "      <td>0.666667</td>\n",
       "      <td>0.428571</td>\n",
       "      <td>0.333333</td>\n",
       "      <td>0.285714</td>\n",
       "    </tr>\n",
       "    <tr>\n",
       "      <th>4</th>\n",
       "      <td>0.0</td>\n",
       "      <td>0.915493</td>\n",
       "      <td>0.153646</td>\n",
       "      <td>0.381271</td>\n",
       "      <td>0.681818</td>\n",
       "      <td>0.285714</td>\n",
       "      <td>0.166667</td>\n",
       "      <td>0.009447</td>\n",
       "      <td>0.332900</td>\n",
       "      <td>0.016561</td>\n",
       "      <td>0.500000</td>\n",
       "      <td>0.500000</td>\n",
       "      <td>0.428571</td>\n",
       "      <td>0.333333</td>\n",
       "      <td>0.500000</td>\n",
       "      <td>0.428571</td>\n",
       "      <td>0.500000</td>\n",
       "      <td>0.571429</td>\n",
       "    </tr>\n",
       "  </tbody>\n",
       "</table>\n",
       "</div>"
      ],
      "text/plain": [
       "   Children       Age    Income  Outage_sec_perweek     Email  Contacts  \\\n",
       "0       0.0  0.704225  0.109120            0.373260  0.409091  0.000000   \n",
       "1       0.1  0.126761  0.082599            0.549537  0.500000  0.000000   \n",
       "2       0.4  0.450704  0.035818            0.504705  0.363636  0.000000   \n",
       "3       0.1  0.422535  0.071848            0.701827  0.636364  0.285714   \n",
       "4       0.0  0.915493  0.153646            0.381271  0.681818  0.285714   \n",
       "\n",
       "   Yearly_equip_failure    Tenure  MonthlyCharge  Bandwidth_GB_Year  \\\n",
       "0              0.166667  0.081624       0.439985           0.106951   \n",
       "1              0.166667  0.002203       0.773872           0.092165   \n",
       "2              0.166667  0.207804       0.380474           0.271180   \n",
       "3              0.000000  0.226580       0.190207           0.286868   \n",
       "4              0.166667  0.009447       0.332900           0.016561   \n",
       "\n",
       "   TimelyResponse     Fixes  Replacements  Reliability   Options  \\\n",
       "0        0.666667  0.666667      0.571429     0.333333  0.500000   \n",
       "1        0.333333  0.500000      0.285714     0.333333  0.500000   \n",
       "2        0.500000  0.500000      0.142857     0.500000  0.500000   \n",
       "3        0.500000  0.500000      0.428571     0.166667  0.666667   \n",
       "4        0.500000  0.500000      0.428571     0.333333  0.500000   \n",
       "\n",
       "   Respectfulness  Courteous  Listening  \n",
       "0        0.428571   0.333333   0.428571  \n",
       "1        0.285714   0.500000   0.428571  \n",
       "2        0.285714   0.333333   0.285714  \n",
       "3        0.428571   0.333333   0.285714  \n",
       "4        0.428571   0.500000   0.571429  "
      ]
     },
     "execution_count": 66,
     "metadata": {},
     "output_type": "execute_result"
    }
   ],
   "source": [
    "df_scaled.head()"
   ]
  },
  {
   "cell_type": "markdown",
   "id": "a176a302",
   "metadata": {},
   "source": [
    "<h2> <a id=\"A1\"> E1:ACCURACY OF CLUSTERING TECHNIQUE  </a> </h2>"
   ]
  },
  {
   "cell_type": "code",
   "execution_count": 67,
   "id": "06adb8a1",
   "metadata": {},
   "outputs": [],
   "source": [
    "df_copy['label_'] = Kmean_model.labels_"
   ]
  },
  {
   "cell_type": "code",
   "execution_count": 68,
   "id": "8c8b8965",
   "metadata": {},
   "outputs": [],
   "source": [
    "FN = df_copy.query('label_==0 and Churn==\"Yes\"').Churn.count()\n",
    "FP = df_copy.query('label_==1 and Churn==\"No\"').Churn.count()\n",
    "TN = df_copy.query('label_==0 and Churn==\"No\"').Churn.count()\n",
    "TP = df_copy.query('label_==1 and Churn==\"Yes\"').Churn.count()"
   ]
  },
  {
   "cell_type": "code",
   "execution_count": 69,
   "id": "0337becc",
   "metadata": {},
   "outputs": [],
   "source": [
    "Accuracy = round(( TN + TP )/len(df),2)\n",
    "Precision = round(TP / (TP + FP),2)\n",
    "Recall = round(TP / (TP + FN),2)"
   ]
  },
  {
   "cell_type": "code",
   "execution_count": 71,
   "id": "dc5e4396",
   "metadata": {},
   "outputs": [
    {
     "name": "stdout",
     "output_type": "stream",
     "text": [
      "{'Accuracy': 0.71, 'Precision': 0.47, 'Recall': 0.89}\n"
     ]
    }
   ],
   "source": [
    "metrics_report = dict()\n",
    "metrics_report['Accuracy'] = Accuracy\n",
    "metrics_report['Precision'] = Precision\n",
    "metrics_report['Recall'] = Recall\n",
    "pprint(metrics_report)"
   ]
  },
  {
   "cell_type": "markdown",
   "id": "6f867514",
   "metadata": {},
   "source": [
    "From previously done exploratory analysis, it seems like the Kmeans algoritm tries to cluster the customers in the churned and not churned customers. Per my calculation above the Kmeans algoritm was able to predict churn in customers with high recall of 0.89 and accuracy of 0.71 and a precision of 0.49."
   ]
  },
  {
   "cell_type": "markdown",
   "id": "0f6cfa5f",
   "metadata": {},
   "source": [
    "<h2> <a id=\"A1\"> E2:RESULTS AND IMPLICATIONS  </a> </h2>"
   ]
  },
  {
   "cell_type": "markdown",
   "id": "a9c5a46c",
   "metadata": {},
   "source": [
    "The Elbow method shows that kmeans model identified two clusters in the churn data. We know that the churn data is about churning customers and from the evaluation in E1 we can relate that model is trying to cluster customers by churn. I personnay found it intriging that the Kmeas algorithm is smart in finding the pattern of churn customers with out including the churn variable in the data. Therefore, we can conclude that the Kmeans can be used to predict cusomer churn.\n"
   ]
  },
  {
   "cell_type": "markdown",
   "id": "b15681f7",
   "metadata": {},
   "source": [
    "<h2> <a id=\"A1\"> E3:LIMITATION </a> </h2>"
   ]
  },
  {
   "cell_type": "markdown",
   "id": "1e03c84c",
   "metadata": {},
   "source": [
    "Below are some of the K-means limitations:\n",
    "* They’re not well suited for clusters with complex shapes and different sizes (Arvai).\n",
    "* They break down when used with clusters of different densities.\n",
    "* They requires data to be free of missing values.\n",
    "* They work with numerical values only, Categorical needs to be Re-expressed.\n",
    "* They’re sensitive to outliers.\n",
    "* They requires the K, the number of clusters to be defined prior to the analysis"
   ]
  },
  {
   "cell_type": "markdown",
   "id": "eac11c6d",
   "metadata": {},
   "source": [
    "<h2> <a id=\"A1\"> E4:COURSE OF ACTION </a> </h2>"
   ]
  },
  {
   "cell_type": "markdown",
   "id": "a4c343c3",
   "metadata": {},
   "source": [
    "We can conclude that the Kmeans can be used to predict customers churn by using the numerical variables with a great level of confidence:\n",
    "'Age', 'Bandwidth_GB_Year', 'Children', 'Contacts', 'Courteous', 'Email', 'Fixes', 'Income', 'Listening', 'MonthlyCharge', 'Options', 'Outage_sec_perweek', 'Reliability', 'Replacements', 'Respectfulness', 'Tenure', 'TimelyResponse', 'Yearly_equip_failure'.\n",
    "I highly recommend usind the kmeans model with the previous stated variables to predict customers that are going to churn and put measures of mitigation to increase tenure; Therfore, marketing will invest in keeping current customers as it cost cheaper then looking for new customers. The marketing department can run campaigns to increase the tenure of clients and prevent churn, such as lowring monthly payment. From the exploratory analysis we can see the that customers that tend to churn correlate with higher monthly payment. In addition, we also see that customers with longer tenure use more data on average yearly. Promoting data usage helps with increase in tenure."
   ]
  },
  {
   "cell_type": "markdown",
   "id": "a4374b2e",
   "metadata": {},
   "source": [
    "<h2> <a id=\"A1\"> F:PANOPTO RECORDING </a> </h2>"
   ]
  },
  {
   "cell_type": "markdown",
   "id": "cec00fa9",
   "metadata": {},
   "source": [
    "[Link to Panopto Video](https://wgu.hosted.panopto.com/Panopto/Pages/Viewer.aspx?id=ec687bcf-b7ff-4cb2-b81f-ae820062bbe1)"
   ]
  },
  {
   "cell_type": "markdown",
   "id": "cc6776dd",
   "metadata": {},
   "source": [
    "<h2> <a id=\"A1\"> G:SOURCES FOR THIRD-PARTY CODE </a> </h2>"
   ]
  },
  {
   "cell_type": "markdown",
   "id": "bc1265df",
   "metadata": {},
   "source": [
    "Dabbura, Imad. Sep 17, 2018. <https://towardsdatascience.com/k-means-clustering-algorithm-applications-evaluation-methods-and-drawbacks-aa03e644b48a>"
   ]
  },
  {
   "cell_type": "markdown",
   "id": "5e9e3e24",
   "metadata": {},
   "source": [
    "<h2> <a id=\"A1\"> H:SOURCES </a> </h2>"
   ]
  },
  {
   "cell_type": "markdown",
   "id": "37940e10",
   "metadata": {},
   "source": [
    "Arvai, Kevin. Real Python. <https://realpython.com/k-means-clustering-python/>"
   ]
  },
  {
   "cell_type": "markdown",
   "id": "0e6ba7b2",
   "metadata": {},
   "source": [
    "Dabbura, Imad. Sep 17, 2018.\n",
    "<https://towardsdatascience.com/k-means-clustering-algorithm-applications-evaluation-methods-and-drawbacks-aa03e644b48a>"
   ]
  }
 ],
 "metadata": {
  "kernelspec": {
   "display_name": "Python 3 (ipykernel)",
   "language": "python",
   "name": "python3"
  },
  "language_info": {
   "codemirror_mode": {
    "name": "ipython",
    "version": 3
   },
   "file_extension": ".py",
   "mimetype": "text/x-python",
   "name": "python",
   "nbconvert_exporter": "python",
   "pygments_lexer": "ipython3",
   "version": "3.10.10"
  }
 },
 "nbformat": 4,
 "nbformat_minor": 5
}
