{
 "cells": [
  {
   "cell_type": "markdown",
   "id": "2a93c577",
   "metadata": {},
   "source": [
    "<div align = \"center\">\n",
    "<h1> SENTIMENT ANALYSIS USING NEURAL NETWORKS </h1>\n",
    "<h2> Jaouad Safouani </h2>\n",
    "</div>"
   ]
  },
  {
   "cell_type": "markdown",
   "id": "4c92ae1d",
   "metadata": {},
   "source": [
    "* [A1:RESEARCH QUESTION](#A1)\n",
    "* [A2:OBJECTIVES AND GOALS](#A2)\n",
    "* [A3:PRESCRIBED NETWORK](#A3)\n",
    "* [B1:DATA EXPLORATION](#B1) \n",
    "* [B2:TOKENIZATION](#B2)\n",
    "* [B3:PADDING PROCESS](#B3) \n",
    "* [B4:CATEGORIES OF SENTIMENT](#B4)\n",
    "* [B5:STEPS TO PREPARE THE DATA](#B5) \n",
    "* [B6:PREPARED DATASET](#B6)\n",
    "* [C1:MODEL SUMMARY](#C1) \n",
    "* [C2:NETWORK ARCHITECTURE](#C2)\n",
    "* [C3:HYPERPARAMETERS](#C3) \n",
    "* [D1:STOPPING CRITERIA](#D1) \n",
    "* [D2:TRAINING PROCESS](#D2) \n",
    "* [D3:FIT](#D3) \n",
    "* [D4:PREDICTIVE ACCURACY](#D4)\n",
    "* [E:CODE](#E)\n",
    "* [F:FUNCTIONALITY](#F)\n",
    "* [G:RECOMMENDATIONS](#G)\n",
    "* [H:REPORTING](#H)\n",
    "* [I:SOURCES FOR THIRD-PARTY CODE](#I)\n",
    "* [J:SOURCES](#J)"
   ]
  },
  {
   "cell_type": "markdown",
   "id": "f53ed870",
   "metadata": {},
   "source": [
    "<h2> <a id=\"A1\"> A1:RESEARCH QUESTION </a> </h2>"
   ]
  },
  {
   "cell_type": "markdown",
   "id": "a068b4d6",
   "metadata": {},
   "source": [
    "WGU Telecommunication WGU has retails stores and online stores. The Company sell a variety of products from cellphone accessories to movies. The Company is trying to analyze the products review from three different platorms, Amazon, Yelp and Imdb, and predict if the reviews are negative or positive. This analysis will help the company to optimize sales performance of products it is selling based on customer reviews. By using a Natural Language Processing a algoritm the company will be able to identify products with negative reviews from the positive ones. Hence, the comapny will be able to stock more of the products with Postive reviews. Can we implement a sentiment score within the ERP system to help our purchasing and marketing departments to make product restocking decision based on how customer reacts to them in reviews? "
   ]
  },
  {
   "cell_type": "markdown",
   "id": "937718dc",
   "metadata": {},
   "source": [
    "<h2> <a id=\"A2\"> A2:OBJECTIVES AND GOALS  </a> </h2>"
   ]
  },
  {
   "cell_type": "markdown",
   "id": "a9bc6bf2",
   "metadata": {},
   "source": [
    " The goal of this project is to create Natural Language Processing algorithm with an API using Tensorflow and Keras to predict if a review about a product was Positive or Negative. We will clean and combine the three review datasets: Imdb, Yelp, and Amazon. The model will be used in custom ERP system, The application will call the model and run a certain product reviews to get a sentiment score. This score will help the purchasing and marketing department to make decisions about products restocking."
   ]
  },
  {
   "cell_type": "markdown",
   "id": "e5f8dc46",
   "metadata": {},
   "source": [
    "<h2> <a id=\"A3\"> A3:PRESCRIBED NETWORK </a> </h2>"
   ]
  },
  {
   "cell_type": "markdown",
   "id": "ee4286e1",
   "metadata": {},
   "source": [
    "We will create a compiled model using Keras and TensorFlow Tokens. We will tune the model and retrained to get to a well performing model accuracy wise, and avoid overfitting. "
   ]
  },
  {
   "cell_type": "markdown",
   "id": "12a99b03",
   "metadata": {},
   "source": [
    "<h2> <a id=\"B1\"> B1:DATA EXPLORATION </a> </h2>"
   ]
  },
  {
   "cell_type": "code",
   "execution_count": 1,
   "id": "ba73cbb3",
   "metadata": {},
   "outputs": [],
   "source": [
    "#importing libraries\n",
    "import pandas as pd \n",
    "# display all columns in dataframes.\n",
    "pd.set_option('max_columns', None)\n",
    "# display all rows in dataframes\n",
    "pd.set_option('display.max_rows', None)\n",
    "import numpy as np\n",
    "import matplotlib.pyplot as plt\n",
    "plt.rc(\"font\", size=14)\n",
    "%matplotlib inline\n",
    "import seaborn as sns \n",
    "sns.set(style=\"whitegrid\", color_codes=False)\n",
    "import string\n",
    "punctuation = string.punctuation\n",
    "import tensorflow as tf\n",
    "from tensorflow.keras.preprocessing.text import Tokenizer\n",
    "from tensorflow.keras.preprocessing.sequence import pad_sequences\n",
    "from sklearn.model_selection import train_test_split\n",
    "from keras import callbacks\n",
    "from spacy.lang.en.stop_words import STOP_WORDS\n",
    "stop_words= list(STOP_WORDS)\n",
    "import spacy\n",
    "nlp = spacy.load('en_core_web_sm')\n",
    "from sklearn.feature_extraction.text import TfidfVectorizer"
   ]
  },
  {
   "cell_type": "markdown",
   "id": "0bb6346d",
   "metadata": {},
   "source": [
    "<h3> <a id=\"\"> Loading amazon_cells_labelled dataset </a> </h3>"
   ]
  },
  {
   "cell_type": "code",
   "execution_count": 2,
   "id": "5cc275e6",
   "metadata": {},
   "outputs": [],
   "source": [
    "df_amz = pd.read_csv('amazon_cells_labelled.txt', delimiter='\\t',header=None)\n",
    "df_amz.columns = [\"review\", \"sentiment\"]              "
   ]
  },
  {
   "cell_type": "code",
   "execution_count": 3,
   "id": "0c417845",
   "metadata": {},
   "outputs": [
    {
     "data": {
      "text/html": [
       "<div>\n",
       "<style scoped>\n",
       "    .dataframe tbody tr th:only-of-type {\n",
       "        vertical-align: middle;\n",
       "    }\n",
       "\n",
       "    .dataframe tbody tr th {\n",
       "        vertical-align: top;\n",
       "    }\n",
       "\n",
       "    .dataframe thead th {\n",
       "        text-align: right;\n",
       "    }\n",
       "</style>\n",
       "<table border=\"1\" class=\"dataframe\">\n",
       "  <thead>\n",
       "    <tr style=\"text-align: right;\">\n",
       "      <th></th>\n",
       "      <th>review</th>\n",
       "      <th>sentiment</th>\n",
       "    </tr>\n",
       "  </thead>\n",
       "  <tbody>\n",
       "    <tr>\n",
       "      <th>0</th>\n",
       "      <td>So there is no way for me to plug it in here i...</td>\n",
       "      <td>0</td>\n",
       "    </tr>\n",
       "    <tr>\n",
       "      <th>1</th>\n",
       "      <td>Good case, Excellent value.</td>\n",
       "      <td>1</td>\n",
       "    </tr>\n",
       "    <tr>\n",
       "      <th>2</th>\n",
       "      <td>Great for the jawbone.</td>\n",
       "      <td>1</td>\n",
       "    </tr>\n",
       "    <tr>\n",
       "      <th>3</th>\n",
       "      <td>Tied to charger for conversations lasting more...</td>\n",
       "      <td>0</td>\n",
       "    </tr>\n",
       "    <tr>\n",
       "      <th>4</th>\n",
       "      <td>The mic is great.</td>\n",
       "      <td>1</td>\n",
       "    </tr>\n",
       "  </tbody>\n",
       "</table>\n",
       "</div>"
      ],
      "text/plain": [
       "                                              review  sentiment\n",
       "0  So there is no way for me to plug it in here i...          0\n",
       "1                        Good case, Excellent value.          1\n",
       "2                             Great for the jawbone.          1\n",
       "3  Tied to charger for conversations lasting more...          0\n",
       "4                                  The mic is great.          1"
      ]
     },
     "execution_count": 3,
     "metadata": {},
     "output_type": "execute_result"
    }
   ],
   "source": [
    "df_amz.head()"
   ]
  },
  {
   "cell_type": "code",
   "execution_count": 4,
   "id": "f26759ea",
   "metadata": {},
   "outputs": [
    {
     "data": {
      "text/plain": [
       "(1000, 2)"
      ]
     },
     "execution_count": 4,
     "metadata": {},
     "output_type": "execute_result"
    }
   ],
   "source": [
    "df_amz.shape"
   ]
  },
  {
   "cell_type": "code",
   "execution_count": 5,
   "id": "4b47524e",
   "metadata": {},
   "outputs": [
    {
     "name": "stdout",
     "output_type": "stream",
     "text": [
      "<class 'pandas.core.frame.DataFrame'>\n",
      "RangeIndex: 1000 entries, 0 to 999\n",
      "Data columns (total 2 columns):\n",
      " #   Column     Non-Null Count  Dtype \n",
      "---  ------     --------------  ----- \n",
      " 0   review     1000 non-null   object\n",
      " 1   sentiment  1000 non-null   int64 \n",
      "dtypes: int64(1), object(1)\n",
      "memory usage: 15.8+ KB\n"
     ]
    }
   ],
   "source": [
    "df_amz.info()"
   ]
  },
  {
   "cell_type": "code",
   "execution_count": 6,
   "id": "5cf3c209",
   "metadata": {},
   "outputs": [
    {
     "data": {
      "text/html": [
       "<div>\n",
       "<style scoped>\n",
       "    .dataframe tbody tr th:only-of-type {\n",
       "        vertical-align: middle;\n",
       "    }\n",
       "\n",
       "    .dataframe tbody tr th {\n",
       "        vertical-align: top;\n",
       "    }\n",
       "\n",
       "    .dataframe thead th {\n",
       "        text-align: right;\n",
       "    }\n",
       "</style>\n",
       "<table border=\"1\" class=\"dataframe\">\n",
       "  <thead>\n",
       "    <tr style=\"text-align: right;\">\n",
       "      <th></th>\n",
       "      <th>sentiment</th>\n",
       "    </tr>\n",
       "  </thead>\n",
       "  <tbody>\n",
       "    <tr>\n",
       "      <th>count</th>\n",
       "      <td>1000.00000</td>\n",
       "    </tr>\n",
       "    <tr>\n",
       "      <th>mean</th>\n",
       "      <td>0.50000</td>\n",
       "    </tr>\n",
       "    <tr>\n",
       "      <th>std</th>\n",
       "      <td>0.50025</td>\n",
       "    </tr>\n",
       "    <tr>\n",
       "      <th>min</th>\n",
       "      <td>0.00000</td>\n",
       "    </tr>\n",
       "    <tr>\n",
       "      <th>25%</th>\n",
       "      <td>0.00000</td>\n",
       "    </tr>\n",
       "    <tr>\n",
       "      <th>50%</th>\n",
       "      <td>0.50000</td>\n",
       "    </tr>\n",
       "    <tr>\n",
       "      <th>75%</th>\n",
       "      <td>1.00000</td>\n",
       "    </tr>\n",
       "    <tr>\n",
       "      <th>max</th>\n",
       "      <td>1.00000</td>\n",
       "    </tr>\n",
       "  </tbody>\n",
       "</table>\n",
       "</div>"
      ],
      "text/plain": [
       "        sentiment\n",
       "count  1000.00000\n",
       "mean      0.50000\n",
       "std       0.50025\n",
       "min       0.00000\n",
       "25%       0.00000\n",
       "50%       0.50000\n",
       "75%       1.00000\n",
       "max       1.00000"
      ]
     },
     "execution_count": 6,
     "metadata": {},
     "output_type": "execute_result"
    }
   ],
   "source": [
    "df_amz.describe()"
   ]
  },
  {
   "cell_type": "code",
   "execution_count": 7,
   "id": "be55c44c",
   "metadata": {},
   "outputs": [
    {
     "data": {
      "text/plain": [
       "10"
      ]
     },
     "execution_count": 7,
     "metadata": {},
     "output_type": "execute_result"
    }
   ],
   "source": [
    "df_amz.duplicated().sum()"
   ]
  },
  {
   "cell_type": "code",
   "execution_count": 8,
   "id": "f4be842e",
   "metadata": {},
   "outputs": [],
   "source": [
    "df_amz.drop_duplicates(inplace=True)"
   ]
  },
  {
   "cell_type": "code",
   "execution_count": 9,
   "id": "337ae998",
   "metadata": {},
   "outputs": [
    {
     "data": {
      "text/plain": [
       "0"
      ]
     },
     "execution_count": 9,
     "metadata": {},
     "output_type": "execute_result"
    }
   ],
   "source": [
    "df_amz.duplicated().sum()"
   ]
  },
  {
   "cell_type": "markdown",
   "id": "e8bff726",
   "metadata": {},
   "source": [
    "<h3> <a id=\"\"> Loading imdb_labelled dataset </a> </h3>"
   ]
  },
  {
   "cell_type": "code",
   "execution_count": 10,
   "id": "c9b32af7",
   "metadata": {},
   "outputs": [],
   "source": [
    "df_imdb = pd.read_csv('imdb_labelled.txt', delimiter='\\t',header=None)\n",
    "df_imdb.columns = [\"review\", \"sentiment\"]   \n"
   ]
  },
  {
   "cell_type": "code",
   "execution_count": 11,
   "id": "88798844",
   "metadata": {},
   "outputs": [
    {
     "data": {
      "text/html": [
       "<div>\n",
       "<style scoped>\n",
       "    .dataframe tbody tr th:only-of-type {\n",
       "        vertical-align: middle;\n",
       "    }\n",
       "\n",
       "    .dataframe tbody tr th {\n",
       "        vertical-align: top;\n",
       "    }\n",
       "\n",
       "    .dataframe thead th {\n",
       "        text-align: right;\n",
       "    }\n",
       "</style>\n",
       "<table border=\"1\" class=\"dataframe\">\n",
       "  <thead>\n",
       "    <tr style=\"text-align: right;\">\n",
       "      <th></th>\n",
       "      <th>review</th>\n",
       "      <th>sentiment</th>\n",
       "    </tr>\n",
       "  </thead>\n",
       "  <tbody>\n",
       "    <tr>\n",
       "      <th>0</th>\n",
       "      <td>A very, very, very slow-moving, aimless movie ...</td>\n",
       "      <td>0</td>\n",
       "    </tr>\n",
       "    <tr>\n",
       "      <th>1</th>\n",
       "      <td>Not sure who was more lost - the flat characte...</td>\n",
       "      <td>0</td>\n",
       "    </tr>\n",
       "    <tr>\n",
       "      <th>2</th>\n",
       "      <td>Attempting artiness with black &amp; white and cle...</td>\n",
       "      <td>0</td>\n",
       "    </tr>\n",
       "    <tr>\n",
       "      <th>3</th>\n",
       "      <td>Very little music or anything to speak of.</td>\n",
       "      <td>0</td>\n",
       "    </tr>\n",
       "    <tr>\n",
       "      <th>4</th>\n",
       "      <td>The best scene in the movie was when Gerardo i...</td>\n",
       "      <td>1</td>\n",
       "    </tr>\n",
       "  </tbody>\n",
       "</table>\n",
       "</div>"
      ],
      "text/plain": [
       "                                              review  sentiment\n",
       "0  A very, very, very slow-moving, aimless movie ...          0\n",
       "1  Not sure who was more lost - the flat characte...          0\n",
       "2  Attempting artiness with black & white and cle...          0\n",
       "3       Very little music or anything to speak of.            0\n",
       "4  The best scene in the movie was when Gerardo i...          1"
      ]
     },
     "execution_count": 11,
     "metadata": {},
     "output_type": "execute_result"
    }
   ],
   "source": [
    "df_imdb.head()"
   ]
  },
  {
   "cell_type": "code",
   "execution_count": 12,
   "id": "60fba895",
   "metadata": {},
   "outputs": [
    {
     "name": "stdout",
     "output_type": "stream",
     "text": [
      "<class 'pandas.core.frame.DataFrame'>\n",
      "RangeIndex: 748 entries, 0 to 747\n",
      "Data columns (total 2 columns):\n",
      " #   Column     Non-Null Count  Dtype \n",
      "---  ------     --------------  ----- \n",
      " 0   review     748 non-null    object\n",
      " 1   sentiment  748 non-null    int64 \n",
      "dtypes: int64(1), object(1)\n",
      "memory usage: 11.8+ KB\n"
     ]
    }
   ],
   "source": [
    "df_imdb.info()"
   ]
  },
  {
   "cell_type": "code",
   "execution_count": 13,
   "id": "d6d97055",
   "metadata": {},
   "outputs": [
    {
     "data": {
      "text/plain": [
       "(748, 2)"
      ]
     },
     "execution_count": 13,
     "metadata": {},
     "output_type": "execute_result"
    }
   ],
   "source": [
    "df_imdb.shape"
   ]
  },
  {
   "cell_type": "code",
   "execution_count": 14,
   "id": "34c009be",
   "metadata": {},
   "outputs": [
    {
     "data": {
      "text/html": [
       "<div>\n",
       "<style scoped>\n",
       "    .dataframe tbody tr th:only-of-type {\n",
       "        vertical-align: middle;\n",
       "    }\n",
       "\n",
       "    .dataframe tbody tr th {\n",
       "        vertical-align: top;\n",
       "    }\n",
       "\n",
       "    .dataframe thead th {\n",
       "        text-align: right;\n",
       "    }\n",
       "</style>\n",
       "<table border=\"1\" class=\"dataframe\">\n",
       "  <thead>\n",
       "    <tr style=\"text-align: right;\">\n",
       "      <th></th>\n",
       "      <th>sentiment</th>\n",
       "    </tr>\n",
       "  </thead>\n",
       "  <tbody>\n",
       "    <tr>\n",
       "      <th>count</th>\n",
       "      <td>748.000000</td>\n",
       "    </tr>\n",
       "    <tr>\n",
       "      <th>mean</th>\n",
       "      <td>0.516043</td>\n",
       "    </tr>\n",
       "    <tr>\n",
       "      <th>std</th>\n",
       "      <td>0.500077</td>\n",
       "    </tr>\n",
       "    <tr>\n",
       "      <th>min</th>\n",
       "      <td>0.000000</td>\n",
       "    </tr>\n",
       "    <tr>\n",
       "      <th>25%</th>\n",
       "      <td>0.000000</td>\n",
       "    </tr>\n",
       "    <tr>\n",
       "      <th>50%</th>\n",
       "      <td>1.000000</td>\n",
       "    </tr>\n",
       "    <tr>\n",
       "      <th>75%</th>\n",
       "      <td>1.000000</td>\n",
       "    </tr>\n",
       "    <tr>\n",
       "      <th>max</th>\n",
       "      <td>1.000000</td>\n",
       "    </tr>\n",
       "  </tbody>\n",
       "</table>\n",
       "</div>"
      ],
      "text/plain": [
       "        sentiment\n",
       "count  748.000000\n",
       "mean     0.516043\n",
       "std      0.500077\n",
       "min      0.000000\n",
       "25%      0.000000\n",
       "50%      1.000000\n",
       "75%      1.000000\n",
       "max      1.000000"
      ]
     },
     "execution_count": 14,
     "metadata": {},
     "output_type": "execute_result"
    }
   ],
   "source": [
    "df_imdb.describe()"
   ]
  },
  {
   "cell_type": "code",
   "execution_count": 15,
   "id": "37601aa9",
   "metadata": {},
   "outputs": [
    {
     "data": {
      "text/plain": [
       "3"
      ]
     },
     "execution_count": 15,
     "metadata": {},
     "output_type": "execute_result"
    }
   ],
   "source": [
    "df_imdb.duplicated().sum()"
   ]
  },
  {
   "cell_type": "code",
   "execution_count": 16,
   "id": "ef5f24c6",
   "metadata": {},
   "outputs": [],
   "source": [
    "df_imdb.drop_duplicates(inplace=True)"
   ]
  },
  {
   "cell_type": "code",
   "execution_count": 17,
   "id": "d33d937d",
   "metadata": {},
   "outputs": [
    {
     "data": {
      "text/plain": [
       "0"
      ]
     },
     "execution_count": 17,
     "metadata": {},
     "output_type": "execute_result"
    }
   ],
   "source": [
    "df_imdb.duplicated().sum()"
   ]
  },
  {
   "cell_type": "markdown",
   "id": "a41b8f4c",
   "metadata": {},
   "source": [
    "<h3> <a id=\"\"> Loading yelp_labelled dataset </a> </h3>"
   ]
  },
  {
   "cell_type": "code",
   "execution_count": 18,
   "id": "82817857",
   "metadata": {},
   "outputs": [],
   "source": [
    "df_yelp = pd.read_csv('yelp_labelled.txt', delimiter='\\t',header=None)\n",
    "df_yelp.columns = [\"review\", \"sentiment\"]   "
   ]
  },
  {
   "cell_type": "code",
   "execution_count": 19,
   "id": "2b1bdf6b",
   "metadata": {},
   "outputs": [
    {
     "data": {
      "text/html": [
       "<div>\n",
       "<style scoped>\n",
       "    .dataframe tbody tr th:only-of-type {\n",
       "        vertical-align: middle;\n",
       "    }\n",
       "\n",
       "    .dataframe tbody tr th {\n",
       "        vertical-align: top;\n",
       "    }\n",
       "\n",
       "    .dataframe thead th {\n",
       "        text-align: right;\n",
       "    }\n",
       "</style>\n",
       "<table border=\"1\" class=\"dataframe\">\n",
       "  <thead>\n",
       "    <tr style=\"text-align: right;\">\n",
       "      <th></th>\n",
       "      <th>review</th>\n",
       "      <th>sentiment</th>\n",
       "    </tr>\n",
       "  </thead>\n",
       "  <tbody>\n",
       "    <tr>\n",
       "      <th>0</th>\n",
       "      <td>Wow... Loved this place.</td>\n",
       "      <td>1</td>\n",
       "    </tr>\n",
       "    <tr>\n",
       "      <th>1</th>\n",
       "      <td>Crust is not good.</td>\n",
       "      <td>0</td>\n",
       "    </tr>\n",
       "    <tr>\n",
       "      <th>2</th>\n",
       "      <td>Not tasty and the texture was just nasty.</td>\n",
       "      <td>0</td>\n",
       "    </tr>\n",
       "    <tr>\n",
       "      <th>3</th>\n",
       "      <td>Stopped by during the late May bank holiday of...</td>\n",
       "      <td>1</td>\n",
       "    </tr>\n",
       "    <tr>\n",
       "      <th>4</th>\n",
       "      <td>The selection on the menu was great and so wer...</td>\n",
       "      <td>1</td>\n",
       "    </tr>\n",
       "  </tbody>\n",
       "</table>\n",
       "</div>"
      ],
      "text/plain": [
       "                                              review  sentiment\n",
       "0                           Wow... Loved this place.          1\n",
       "1                                 Crust is not good.          0\n",
       "2          Not tasty and the texture was just nasty.          0\n",
       "3  Stopped by during the late May bank holiday of...          1\n",
       "4  The selection on the menu was great and so wer...          1"
      ]
     },
     "execution_count": 19,
     "metadata": {},
     "output_type": "execute_result"
    }
   ],
   "source": [
    "df_yelp.head()"
   ]
  },
  {
   "cell_type": "code",
   "execution_count": 20,
   "id": "e7442bb6",
   "metadata": {},
   "outputs": [
    {
     "name": "stdout",
     "output_type": "stream",
     "text": [
      "<class 'pandas.core.frame.DataFrame'>\n",
      "RangeIndex: 1000 entries, 0 to 999\n",
      "Data columns (total 2 columns):\n",
      " #   Column     Non-Null Count  Dtype \n",
      "---  ------     --------------  ----- \n",
      " 0   review     1000 non-null   object\n",
      " 1   sentiment  1000 non-null   int64 \n",
      "dtypes: int64(1), object(1)\n",
      "memory usage: 15.8+ KB\n"
     ]
    }
   ],
   "source": [
    "df_yelp.info()"
   ]
  },
  {
   "cell_type": "code",
   "execution_count": 21,
   "id": "9f721db6",
   "metadata": {},
   "outputs": [
    {
     "data": {
      "text/plain": [
       "(1000, 2)"
      ]
     },
     "execution_count": 21,
     "metadata": {},
     "output_type": "execute_result"
    }
   ],
   "source": [
    "df_yelp.shape"
   ]
  },
  {
   "cell_type": "code",
   "execution_count": 22,
   "id": "cb20d514",
   "metadata": {},
   "outputs": [
    {
     "data": {
      "text/html": [
       "<div>\n",
       "<style scoped>\n",
       "    .dataframe tbody tr th:only-of-type {\n",
       "        vertical-align: middle;\n",
       "    }\n",
       "\n",
       "    .dataframe tbody tr th {\n",
       "        vertical-align: top;\n",
       "    }\n",
       "\n",
       "    .dataframe thead th {\n",
       "        text-align: right;\n",
       "    }\n",
       "</style>\n",
       "<table border=\"1\" class=\"dataframe\">\n",
       "  <thead>\n",
       "    <tr style=\"text-align: right;\">\n",
       "      <th></th>\n",
       "      <th>sentiment</th>\n",
       "    </tr>\n",
       "  </thead>\n",
       "  <tbody>\n",
       "    <tr>\n",
       "      <th>count</th>\n",
       "      <td>1000.00000</td>\n",
       "    </tr>\n",
       "    <tr>\n",
       "      <th>mean</th>\n",
       "      <td>0.50000</td>\n",
       "    </tr>\n",
       "    <tr>\n",
       "      <th>std</th>\n",
       "      <td>0.50025</td>\n",
       "    </tr>\n",
       "    <tr>\n",
       "      <th>min</th>\n",
       "      <td>0.00000</td>\n",
       "    </tr>\n",
       "    <tr>\n",
       "      <th>25%</th>\n",
       "      <td>0.00000</td>\n",
       "    </tr>\n",
       "    <tr>\n",
       "      <th>50%</th>\n",
       "      <td>0.50000</td>\n",
       "    </tr>\n",
       "    <tr>\n",
       "      <th>75%</th>\n",
       "      <td>1.00000</td>\n",
       "    </tr>\n",
       "    <tr>\n",
       "      <th>max</th>\n",
       "      <td>1.00000</td>\n",
       "    </tr>\n",
       "  </tbody>\n",
       "</table>\n",
       "</div>"
      ],
      "text/plain": [
       "        sentiment\n",
       "count  1000.00000\n",
       "mean      0.50000\n",
       "std       0.50025\n",
       "min       0.00000\n",
       "25%       0.00000\n",
       "50%       0.50000\n",
       "75%       1.00000\n",
       "max       1.00000"
      ]
     },
     "execution_count": 22,
     "metadata": {},
     "output_type": "execute_result"
    }
   ],
   "source": [
    "df_yelp.describe()"
   ]
  },
  {
   "cell_type": "code",
   "execution_count": 23,
   "id": "5a2d3853",
   "metadata": {},
   "outputs": [
    {
     "data": {
      "text/plain": [
       "4"
      ]
     },
     "execution_count": 23,
     "metadata": {},
     "output_type": "execute_result"
    }
   ],
   "source": [
    "df_yelp.duplicated().sum()"
   ]
  },
  {
   "cell_type": "code",
   "execution_count": 24,
   "id": "3791ea0d",
   "metadata": {},
   "outputs": [],
   "source": [
    "df_yelp.drop_duplicates(inplace=True)"
   ]
  },
  {
   "cell_type": "code",
   "execution_count": 25,
   "id": "84650fa5",
   "metadata": {},
   "outputs": [
    {
     "data": {
      "text/plain": [
       "0"
      ]
     },
     "execution_count": 25,
     "metadata": {},
     "output_type": "execute_result"
    }
   ],
   "source": [
    "df_yelp.duplicated().sum()"
   ]
  },
  {
   "cell_type": "markdown",
   "id": "b84928d7",
   "metadata": {},
   "source": [
    "<h3> <a id=\"\">  Combining the three datasets </a> </h3>"
   ]
  },
  {
   "cell_type": "code",
   "execution_count": 26,
   "id": "d75cdde6",
   "metadata": {},
   "outputs": [],
   "source": [
    "df =df_amz.append([df_yelp,df_imdb], ignore_index=True)"
   ]
  },
  {
   "cell_type": "code",
   "execution_count": 27,
   "id": "30ebf6cc",
   "metadata": {},
   "outputs": [
    {
     "data": {
      "text/html": [
       "<div>\n",
       "<style scoped>\n",
       "    .dataframe tbody tr th:only-of-type {\n",
       "        vertical-align: middle;\n",
       "    }\n",
       "\n",
       "    .dataframe tbody tr th {\n",
       "        vertical-align: top;\n",
       "    }\n",
       "\n",
       "    .dataframe thead th {\n",
       "        text-align: right;\n",
       "    }\n",
       "</style>\n",
       "<table border=\"1\" class=\"dataframe\">\n",
       "  <thead>\n",
       "    <tr style=\"text-align: right;\">\n",
       "      <th></th>\n",
       "      <th>review</th>\n",
       "      <th>sentiment</th>\n",
       "    </tr>\n",
       "  </thead>\n",
       "  <tbody>\n",
       "    <tr>\n",
       "      <th>0</th>\n",
       "      <td>So there is no way for me to plug it in here i...</td>\n",
       "      <td>0</td>\n",
       "    </tr>\n",
       "    <tr>\n",
       "      <th>1</th>\n",
       "      <td>Good case, Excellent value.</td>\n",
       "      <td>1</td>\n",
       "    </tr>\n",
       "    <tr>\n",
       "      <th>2</th>\n",
       "      <td>Great for the jawbone.</td>\n",
       "      <td>1</td>\n",
       "    </tr>\n",
       "    <tr>\n",
       "      <th>3</th>\n",
       "      <td>Tied to charger for conversations lasting more...</td>\n",
       "      <td>0</td>\n",
       "    </tr>\n",
       "    <tr>\n",
       "      <th>4</th>\n",
       "      <td>The mic is great.</td>\n",
       "      <td>1</td>\n",
       "    </tr>\n",
       "  </tbody>\n",
       "</table>\n",
       "</div>"
      ],
      "text/plain": [
       "                                              review  sentiment\n",
       "0  So there is no way for me to plug it in here i...          0\n",
       "1                        Good case, Excellent value.          1\n",
       "2                             Great for the jawbone.          1\n",
       "3  Tied to charger for conversations lasting more...          0\n",
       "4                                  The mic is great.          1"
      ]
     },
     "execution_count": 27,
     "metadata": {},
     "output_type": "execute_result"
    }
   ],
   "source": [
    "df.head()"
   ]
  },
  {
   "cell_type": "markdown",
   "id": "7209a862",
   "metadata": {},
   "source": [
    "The dataset contains two variables:\n",
    "* review: written reviews written by customer in the amazon site.\n",
    "* sentiment:  has 1 and 0 values 1 for postive review, 0 for negative review."
   ]
  },
  {
   "cell_type": "code",
   "execution_count": 28,
   "id": "32e4d2ac",
   "metadata": {},
   "outputs": [
    {
     "name": "stdout",
     "output_type": "stream",
     "text": [
      "<class 'pandas.core.frame.DataFrame'>\n",
      "RangeIndex: 2731 entries, 0 to 2730\n",
      "Data columns (total 2 columns):\n",
      " #   Column     Non-Null Count  Dtype \n",
      "---  ------     --------------  ----- \n",
      " 0   review     2731 non-null   object\n",
      " 1   sentiment  2731 non-null   int64 \n",
      "dtypes: int64(1), object(1)\n",
      "memory usage: 42.8+ KB\n"
     ]
    }
   ],
   "source": [
    "df.info()"
   ]
  },
  {
   "cell_type": "code",
   "execution_count": 29,
   "id": "0bcbb48d",
   "metadata": {},
   "outputs": [
    {
     "data": {
      "text/plain": [
       "(2731, 2)"
      ]
     },
     "execution_count": 29,
     "metadata": {},
     "output_type": "execute_result"
    }
   ],
   "source": [
    "df.shape"
   ]
  },
  {
   "cell_type": "code",
   "execution_count": 30,
   "id": "0dcf37f5",
   "metadata": {},
   "outputs": [
    {
     "data": {
      "text/html": [
       "<div>\n",
       "<style scoped>\n",
       "    .dataframe tbody tr th:only-of-type {\n",
       "        vertical-align: middle;\n",
       "    }\n",
       "\n",
       "    .dataframe tbody tr th {\n",
       "        vertical-align: top;\n",
       "    }\n",
       "\n",
       "    .dataframe thead th {\n",
       "        text-align: right;\n",
       "    }\n",
       "</style>\n",
       "<table border=\"1\" class=\"dataframe\">\n",
       "  <thead>\n",
       "    <tr style=\"text-align: right;\">\n",
       "      <th></th>\n",
       "      <th>sentiment</th>\n",
       "    </tr>\n",
       "  </thead>\n",
       "  <tbody>\n",
       "    <tr>\n",
       "      <th>count</th>\n",
       "      <td>2731.000000</td>\n",
       "    </tr>\n",
       "    <tr>\n",
       "      <th>mean</th>\n",
       "      <td>0.503845</td>\n",
       "    </tr>\n",
       "    <tr>\n",
       "      <th>std</th>\n",
       "      <td>0.500077</td>\n",
       "    </tr>\n",
       "    <tr>\n",
       "      <th>min</th>\n",
       "      <td>0.000000</td>\n",
       "    </tr>\n",
       "    <tr>\n",
       "      <th>25%</th>\n",
       "      <td>0.000000</td>\n",
       "    </tr>\n",
       "    <tr>\n",
       "      <th>50%</th>\n",
       "      <td>1.000000</td>\n",
       "    </tr>\n",
       "    <tr>\n",
       "      <th>75%</th>\n",
       "      <td>1.000000</td>\n",
       "    </tr>\n",
       "    <tr>\n",
       "      <th>max</th>\n",
       "      <td>1.000000</td>\n",
       "    </tr>\n",
       "  </tbody>\n",
       "</table>\n",
       "</div>"
      ],
      "text/plain": [
       "         sentiment\n",
       "count  2731.000000\n",
       "mean      0.503845\n",
       "std       0.500077\n",
       "min       0.000000\n",
       "25%       0.000000\n",
       "50%       1.000000\n",
       "75%       1.000000\n",
       "max       1.000000"
      ]
     },
     "execution_count": 30,
     "metadata": {},
     "output_type": "execute_result"
    }
   ],
   "source": [
    "df.describe()"
   ]
  },
  {
   "cell_type": "code",
   "execution_count": 31,
   "id": "96a6a4bb",
   "metadata": {},
   "outputs": [
    {
     "data": {
      "text/plain": [
       "0"
      ]
     },
     "execution_count": 31,
     "metadata": {},
     "output_type": "execute_result"
    }
   ],
   "source": [
    "df.duplicated().sum()"
   ]
  },
  {
   "cell_type": "code",
   "execution_count": 32,
   "id": "dcd2fd50",
   "metadata": {},
   "outputs": [
    {
     "data": {
      "text/plain": [
       "review       0\n",
       "sentiment    0\n",
       "dtype: int64"
      ]
     },
     "execution_count": 32,
     "metadata": {},
     "output_type": "execute_result"
    }
   ],
   "source": [
    "df.isnull().sum()"
   ]
  },
  {
   "cell_type": "code",
   "execution_count": 33,
   "id": "2d5470eb",
   "metadata": {},
   "outputs": [
    {
     "data": {
      "image/png": "[encoded data removed]",
      "text/plain": [
       "<Figure size 432x288 with 1 Axes>"
      ]
     },
     "metadata": {},
     "output_type": "display_data"
    }
   ],
   "source": [
    "df['sentiment'].value_counts().plot(kind ='pie', label ='',  explode= (0.02, 0.02))\n",
    "plt.title('Sentiment Count by Value', color='#296eaa')\n",
    "labels=list(df['sentiment'].value_counts())\n",
    "plt.show()"
   ]
  },
  {
   "cell_type": "code",
   "execution_count": 34,
   "id": "56492d8b",
   "metadata": {},
   "outputs": [
    {
     "data": {
      "text/plain": [
       "1    1376\n",
       "0    1355\n",
       "Name: sentiment, dtype: int64"
      ]
     },
     "execution_count": 34,
     "metadata": {},
     "output_type": "execute_result"
    }
   ],
   "source": [
    "df['sentiment'].value_counts()"
   ]
  },
  {
   "cell_type": "markdown",
   "id": "70641e8e",
   "metadata": {},
   "source": [
    " <h3> <a id=\"\"> Spliting data to predictor and output</a> </h3>"
   ]
  },
  {
   "cell_type": "code",
   "execution_count": 35,
   "id": "b1b5a748",
   "metadata": {},
   "outputs": [],
   "source": [
    "x = df['review']\n",
    "y = df['sentiment']"
   ]
  },
  {
   "cell_type": "markdown",
   "id": "100b6ba2",
   "metadata": {},
   "source": [
    "<h2> <a id=\"B2\"> B2:TOKENIZATION </a> </h2>"
   ]
  },
  {
   "cell_type": "code",
   "execution_count": 36,
   "id": "d71d4fc7",
   "metadata": {},
   "outputs": [
    {
     "data": {
      "text/plain": [
       "'A very, very, very slow-moving, aimless movie about a distressed, drifting young man.  '"
      ]
     },
     "execution_count": 36,
     "metadata": {},
     "output_type": "execute_result"
    }
   ],
   "source": [
    "test_review = df_imdb.head()['review'][0]\n",
    "test_review"
   ]
  },
  {
   "cell_type": "markdown",
   "id": "5ba617c1",
   "metadata": {},
   "source": [
    "<h3> <a id=\"\"> Change text to lower case </a> </h3>"
   ]
  },
  {
   "cell_type": "code",
   "execution_count": 37,
   "id": "ab03eee6",
   "metadata": {},
   "outputs": [],
   "source": [
    "def text_to_lower_case(review):\n",
    "    ''' Convert text to lower Case and ignore Proper Names'''\n",
    "    doc_ = nlp(review)\n",
    "    tokens_list = [] # list of tokens\n",
    "    for token in doc_:\n",
    "        if token.lemma_ != \"-PRON-\":\n",
    "            word = token.lemma_.lower().strip()\n",
    "        else:\n",
    "            word = token.lower_\n",
    "        tokens_list.append(word)\n",
    "    return tokens_list"
   ]
  },
  {
   "cell_type": "code",
   "execution_count": 38,
   "id": "ef8d9087",
   "metadata": {},
   "outputs": [],
   "source": [
    "# test_token_ = text_to_lower_case(test_review)"
   ]
  },
  {
   "cell_type": "markdown",
   "id": "6344e3c8",
   "metadata": {},
   "source": [
    "<h3> <a id=\"\"> Remove stopwords and punctuation </a> </h3>"
   ]
  },
  {
   "cell_type": "code",
   "execution_count": 39,
   "id": "f9541e8d",
   "metadata": {},
   "outputs": [],
   "source": [
    "def remove_stop_words_and_punctuation(tokens_list):\n",
    "    cleaned_tokens = []\n",
    "    for token in tokens_list:\n",
    "        if token not in stop_words and token not in punctuation:\n",
    "            cleaned_tokens.append(token)\n",
    "    return cleaned_tokens"
   ]
  },
  {
   "cell_type": "code",
   "execution_count": 40,
   "id": "13baf065",
   "metadata": {},
   "outputs": [],
   "source": [
    "# remove_stop_words_and_punctuation(test_token_)"
   ]
  },
  {
   "cell_type": "markdown",
   "id": "ce425005",
   "metadata": {},
   "source": [
    "<h3> <a id=\"\"> Text Cleaning </a> </h3>"
   ]
  },
  {
   "cell_type": "code",
   "execution_count": 41,
   "id": "1e3ef0e8",
   "metadata": {},
   "outputs": [],
   "source": [
    "def text_cleaning(review):\n",
    "    ''' Convet text to lower Case, ignores Proper Name,\n",
    "    then it removes stop words and punctuations'''\n",
    "    tokens_list = text_to_lower_case(review)\n",
    "    tokens_clean = remove_stop_words_and_punctuation(tokens_list)\n",
    "    return tokens_clean"
   ]
  },
  {
   "cell_type": "code",
   "execution_count": 42,
   "id": "2cf06dcb",
   "metadata": {},
   "outputs": [
    {
     "data": {
      "text/plain": [
       "['slow', 'aimless', 'movie', 'distressed', 'drift', 'young', 'man']"
      ]
     },
     "execution_count": 42,
     "metadata": {},
     "output_type": "execute_result"
    }
   ],
   "source": [
    "text_cleaning(test_review)"
   ]
  },
  {
   "cell_type": "markdown",
   "id": "b3571c4b",
   "metadata": {},
   "source": [
    "<h3> <a id=\"\"> Applying Text Cleaning and creating Clean_Text variable </a> </h3>"
   ]
  },
  {
   "cell_type": "code",
   "execution_count": 43,
   "id": "7e9f0d88",
   "metadata": {},
   "outputs": [],
   "source": [
    "df['review_cleaned_text']=df['review'].apply(text_cleaning)"
   ]
  },
  {
   "cell_type": "code",
   "execution_count": 44,
   "id": "26e8ee7e",
   "metadata": {},
   "outputs": [
    {
     "data": {
      "text/html": [
       "<div>\n",
       "<style scoped>\n",
       "    .dataframe tbody tr th:only-of-type {\n",
       "        vertical-align: middle;\n",
       "    }\n",
       "\n",
       "    .dataframe tbody tr th {\n",
       "        vertical-align: top;\n",
       "    }\n",
       "\n",
       "    .dataframe thead th {\n",
       "        text-align: right;\n",
       "    }\n",
       "</style>\n",
       "<table border=\"1\" class=\"dataframe\">\n",
       "  <thead>\n",
       "    <tr style=\"text-align: right;\">\n",
       "      <th></th>\n",
       "      <th>review</th>\n",
       "      <th>sentiment</th>\n",
       "      <th>review_cleaned_text</th>\n",
       "    </tr>\n",
       "  </thead>\n",
       "  <tbody>\n",
       "    <tr>\n",
       "      <th>0</th>\n",
       "      <td>So there is no way for me to plug it in here i...</td>\n",
       "      <td>0</td>\n",
       "      <td>[way, plug, converter]</td>\n",
       "    </tr>\n",
       "    <tr>\n",
       "      <th>1</th>\n",
       "      <td>Good case, Excellent value.</td>\n",
       "      <td>1</td>\n",
       "      <td>[good, case, excellent, value]</td>\n",
       "    </tr>\n",
       "    <tr>\n",
       "      <th>2</th>\n",
       "      <td>Great for the jawbone.</td>\n",
       "      <td>1</td>\n",
       "      <td>[great, jawbone]</td>\n",
       "    </tr>\n",
       "    <tr>\n",
       "      <th>3</th>\n",
       "      <td>Tied to charger for conversations lasting more...</td>\n",
       "      <td>0</td>\n",
       "      <td>[tie, charger, conversation, 45, minute, major...</td>\n",
       "    </tr>\n",
       "    <tr>\n",
       "      <th>4</th>\n",
       "      <td>The mic is great.</td>\n",
       "      <td>1</td>\n",
       "      <td>[mic, great]</td>\n",
       "    </tr>\n",
       "  </tbody>\n",
       "</table>\n",
       "</div>"
      ],
      "text/plain": [
       "                                              review  sentiment  \\\n",
       "0  So there is no way for me to plug it in here i...          0   \n",
       "1                        Good case, Excellent value.          1   \n",
       "2                             Great for the jawbone.          1   \n",
       "3  Tied to charger for conversations lasting more...          0   \n",
       "4                                  The mic is great.          1   \n",
       "\n",
       "                                 review_cleaned_text  \n",
       "0                             [way, plug, converter]  \n",
       "1                     [good, case, excellent, value]  \n",
       "2                                   [great, jawbone]  \n",
       "3  [tie, charger, conversation, 45, minute, major...  \n",
       "4                                       [mic, great]  "
      ]
     },
     "execution_count": 44,
     "metadata": {},
     "output_type": "execute_result"
    }
   ],
   "source": [
    "df.head()"
   ]
  },
  {
   "cell_type": "code",
   "execution_count": 45,
   "id": "8ec17c1f",
   "metadata": {},
   "outputs": [],
   "source": [
    "df = df[['review_cleaned_text','sentiment']]"
   ]
  },
  {
   "cell_type": "code",
   "execution_count": 46,
   "id": "a241742f",
   "metadata": {},
   "outputs": [
    {
     "data": {
      "text/html": [
       "<div>\n",
       "<style scoped>\n",
       "    .dataframe tbody tr th:only-of-type {\n",
       "        vertical-align: middle;\n",
       "    }\n",
       "\n",
       "    .dataframe tbody tr th {\n",
       "        vertical-align: top;\n",
       "    }\n",
       "\n",
       "    .dataframe thead th {\n",
       "        text-align: right;\n",
       "    }\n",
       "</style>\n",
       "<table border=\"1\" class=\"dataframe\">\n",
       "  <thead>\n",
       "    <tr style=\"text-align: right;\">\n",
       "      <th></th>\n",
       "      <th>review_cleaned_text</th>\n",
       "      <th>sentiment</th>\n",
       "    </tr>\n",
       "  </thead>\n",
       "  <tbody>\n",
       "    <tr>\n",
       "      <th>0</th>\n",
       "      <td>[way, plug, converter]</td>\n",
       "      <td>0</td>\n",
       "    </tr>\n",
       "    <tr>\n",
       "      <th>1</th>\n",
       "      <td>[good, case, excellent, value]</td>\n",
       "      <td>1</td>\n",
       "    </tr>\n",
       "    <tr>\n",
       "      <th>2</th>\n",
       "      <td>[great, jawbone]</td>\n",
       "      <td>1</td>\n",
       "    </tr>\n",
       "    <tr>\n",
       "      <th>3</th>\n",
       "      <td>[tie, charger, conversation, 45, minute, major...</td>\n",
       "      <td>0</td>\n",
       "    </tr>\n",
       "    <tr>\n",
       "      <th>4</th>\n",
       "      <td>[mic, great]</td>\n",
       "      <td>1</td>\n",
       "    </tr>\n",
       "  </tbody>\n",
       "</table>\n",
       "</div>"
      ],
      "text/plain": [
       "                                 review_cleaned_text  sentiment\n",
       "0                             [way, plug, converter]          0\n",
       "1                     [good, case, excellent, value]          1\n",
       "2                                   [great, jawbone]          1\n",
       "3  [tie, charger, conversation, 45, minute, major...          0\n",
       "4                                       [mic, great]          1"
      ]
     },
     "execution_count": 46,
     "metadata": {},
     "output_type": "execute_result"
    }
   ],
   "source": [
    "df.head()"
   ]
  },
  {
   "cell_type": "code",
   "execution_count": 47,
   "id": "ba7ab725",
   "metadata": {},
   "outputs": [
    {
     "name": "stdout",
     "output_type": "stream",
     "text": [
      "max word count:  679\n"
     ]
    }
   ],
   "source": [
    "count_text=[]\n",
    "for text in df['review_cleaned_text']:\n",
    "    count_text.append(len(text))\n",
    "print('max word count: ', max(count_text)  )\n",
    "max_len = 125"
   ]
  },
  {
   "cell_type": "markdown",
   "id": "c95c9451",
   "metadata": {},
   "source": [
    "<h3> <a id=\"\"> Spliting data into training and testing datasets </a> </h3>"
   ]
  },
  {
   "cell_type": "code",
   "execution_count": 48,
   "id": "c17d8eab",
   "metadata": {},
   "outputs": [
    {
     "name": "stdout",
     "output_type": "stream",
     "text": [
      "X_train: 2184 x_test: 547 Y_train: 2184 y_test: 547\n"
     ]
    }
   ],
   "source": [
    "X_train, x_test, Y_train, y_test = train_test_split(x, y, test_size = 0.2, random_state = 32)\n",
    "print('X_train: {} x_test: {} Y_train: {} y_test: {}'.format(len(X_train), len(x_test), len(Y_train), len(y_test)))"
   ]
  },
  {
   "cell_type": "markdown",
   "id": "bb10bc58",
   "metadata": {},
   "source": [
    "<h2> <a id=\"B3\"> B3:PADDING PROCESS </a> </h2>"
   ]
  },
  {
   "cell_type": "code",
   "execution_count": 49,
   "id": "aad33051",
   "metadata": {},
   "outputs": [],
   "source": [
    "vocab_size = 5000 # make the top list of words (common words)\n",
    "embedding_dim = 64\n",
    "max_length = 200\n",
    "trunc_type = 'post'\n",
    "padding_type = 'post'\n",
    "oov_tok = '<OOV>' # OOV = Out of Vocabulary\n",
    "training_portion = .8\n",
    "# (Virahonda, 2020)"
   ]
  },
  {
   "cell_type": "code",
   "execution_count": 50,
   "id": "80454292",
   "metadata": {},
   "outputs": [],
   "source": [
    "# Initializing the Tokenizer\n",
    "tokenizer = Tokenizer(num_words = vocab_size, oov_token = oov_tok)\n",
    "\n",
    "# Fitting the tokenizer\n",
    "tokenizer.fit_on_texts(X_train)\n",
    "word_index = tokenizer.word_index\n",
    "# initializing X_train_texts_to_sequences_\n",
    "X_train_texts_to_sequences_ = tokenizer.texts_to_sequences(X_train)\n",
    "\n",
    "# Set X_train_padded\n",
    "X_train_padded = pad_sequences(X_train_texts_to_sequences_,\n",
    "                               maxlen=max_len,\n",
    "                               padding=padding_type,\n",
    "                               truncating=trunc_type)\n",
    "\n",
    "# # initializing x_test_texts_to_sequences_\n",
    "x_test_texts_to_sequences_= tokenizer.texts_to_sequences(x_test)\n",
    "# # Set Y_train_padded\n",
    "x_test_padded = pad_sequences(x_test_texts_to_sequences_,\n",
    "                              maxlen=max_len, \n",
    "                              padding=padding_type,\n",
    "                              truncating=trunc_type)\n",
    "# (Virahonda, 2020)"
   ]
  },
  {
   "cell_type": "code",
   "execution_count": 51,
   "id": "5b5f2e28",
   "metadata": {},
   "outputs": [],
   "source": [
    "# x_test"
   ]
  },
  {
   "cell_type": "markdown",
   "id": "a4eb97da",
   "metadata": {},
   "source": [
    "<h2> <a id=\"B4\"> B4:CATEGORIES OF SENTIMENT </a> </h2>"
   ]
  },
  {
   "cell_type": "code",
   "execution_count": 52,
   "id": "935f98e5",
   "metadata": {},
   "outputs": [
    {
     "data": {
      "text/plain": [
       "[0, 1]"
      ]
     },
     "execution_count": 52,
     "metadata": {},
     "output_type": "execute_result"
    }
   ],
   "source": [
    "list(df['sentiment'].unique())"
   ]
  },
  {
   "cell_type": "markdown",
   "id": "081126cf",
   "metadata": {},
   "source": [
    "There are two sentiment categories 1 and 0, 1 stands for postive review and 0 stands for negative review"
   ]
  },
  {
   "cell_type": "markdown",
   "id": "880121f8",
   "metadata": {},
   "source": [
    "<h2> <a id=\"B5\"> B5:STEPS TO PREPARE THE DATA </a> </h2>"
   ]
  },
  {
   "cell_type": "markdown",
   "id": "cd9118cb",
   "metadata": {},
   "source": [
    "I took the following steps to prepare the data:\n",
    "* I loaded the data from three datasets (Yelp, Amazon, Imdb) using pandas\n",
    "* I renamed the headers for each data set to Review and sentiment.\n",
    "* removed duplicates from each dataset\n",
    "* I did exploratory analysis on each dataset\n",
    "* I appended the three datasets into one called df\n",
    "* I created a function that calls two other functions to convert text to lower case with respect to English proper names, and to remove the punctuations and split the words with a review into a list of tokens.\n",
    "* I applied the function to the review variable and created a new variable review_cleaned_text with the clean list of tokens\n",
    "* I dropped the original review column.\n",
    "* I saved prepared dataset to csv\n",
    "\n",
    "Please see code above for data cleaning and preparation."
   ]
  },
  {
   "cell_type": "markdown",
   "id": "15663388",
   "metadata": {},
   "source": [
    "<h2> <a id=\"B6\"> B6:PREPARED DATASET </a> </h2>"
   ]
  },
  {
   "cell_type": "code",
   "execution_count": 53,
   "id": "6b6c701e",
   "metadata": {},
   "outputs": [],
   "source": [
    "df.to_csv('prepared_dataset.csv')"
   ]
  },
  {
   "cell_type": "markdown",
   "id": "03e73f84",
   "metadata": {},
   "source": [
    "Please see attached prepared_dataset.csv "
   ]
  },
  {
   "cell_type": "markdown",
   "id": "6dd60ce8",
   "metadata": {},
   "source": [
    "<h2> <a id=\"C1\"> C1:MODEL SUMMARY </a> </h2>"
   ]
  },
  {
   "cell_type": "markdown",
   "id": "1e34d787",
   "metadata": {},
   "source": [
    "<h3> <a id=\"\"> Model creation </a> </h3>"
   ]
  },
  {
   "cell_type": "code",
   "execution_count": 54,
   "id": "7eebacc3",
   "metadata": {},
   "outputs": [],
   "source": [
    "model = tf.keras.Sequential([\n",
    "    tf.keras.layers.Embedding(vocab_size, embedding_dim, input_length=max_len),\n",
    "    tf.keras.layers.GlobalAveragePooling1D(),\n",
    "    tf.keras.layers.Dense(10, activation='sigmoid'),\n",
    "    tf.keras.layers.Dense(6, activation='sigmoid'),\n",
    "    tf.keras.layers.Dense(1, activation='sigmoid')\n",
    "])"
   ]
  },
  {
   "cell_type": "markdown",
   "id": "d927b250",
   "metadata": {},
   "source": [
    "The output sentiment is 0 or 1; therefore, we will use the sigmoid as the activation method to get the higher model accuracy. \n",
    "we will use the same parameters used in tokonizer for the embbeed layer, 5000 for the number of words to be used in training, 200 max word per review as the input length. "
   ]
  },
  {
   "cell_type": "markdown",
   "id": "f642aedd",
   "metadata": {},
   "source": [
    "<h3> <a id=\"\"> Model Compiling </a> </h3>"
   ]
  },
  {
   "cell_type": "markdown",
   "id": "2af2ef92",
   "metadata": {},
   "source": [
    "We will be using the Keras model adam as optimizer as it is well optimized for binary classification based on text input. And we wil use the binary_crossentropy as the loss function to evaluate the loss. For the purpose of simplifying the code We will use the model.compile with loss, opimizer and metrics as parameters."
   ]
  },
  {
   "cell_type": "code",
   "execution_count": 55,
   "id": "190e7796",
   "metadata": {},
   "outputs": [],
   "source": [
    "model.compile(loss='binary_crossentropy', optimizer='adam', metrics=['accuracy'])"
   ]
  },
  {
   "cell_type": "markdown",
   "id": "2b00a178",
   "metadata": {},
   "source": [
    "<h3> <a id=\"\"> Model Summary </a> </h3>"
   ]
  },
  {
   "cell_type": "code",
   "execution_count": 56,
   "id": "599e8fde",
   "metadata": {},
   "outputs": [
    {
     "name": "stdout",
     "output_type": "stream",
     "text": [
      "Model: \"sequential\"\n",
      "_________________________________________________________________\n",
      " Layer (type)                Output Shape              Param #   \n",
      "=================================================================\n",
      " embedding (Embedding)       (None, 125, 64)           320000    \n",
      "                                                                 \n",
      " global_average_pooling1d (G  (None, 64)               0         \n",
      " lobalAveragePooling1D)                                          \n",
      "                                                                 \n",
      " dense (Dense)               (None, 10)                650       \n",
      "                                                                 \n",
      " dense_1 (Dense)             (None, 6)                 66        \n",
      "                                                                 \n",
      " dense_2 (Dense)             (None, 1)                 7         \n",
      "                                                                 \n",
      "=================================================================\n",
      "Total params: 320,723\n",
      "Trainable params: 320,723\n",
      "Non-trainable params: 0\n",
      "_________________________________________________________________\n"
     ]
    }
   ],
   "source": [
    "model.summary()"
   ]
  },
  {
   "cell_type": "markdown",
   "id": "1d78a51e",
   "metadata": {},
   "source": [
    "<h3> <a id=\"\"> Model Training </a> </h3>"
   ]
  },
  {
   "cell_type": "markdown",
   "id": "d5b5229e",
   "metadata": {},
   "source": [
    "Training the model for 20 epochs"
   ]
  },
  {
   "cell_type": "code",
   "execution_count": 57,
   "id": "71baa849",
   "metadata": {},
   "outputs": [
    {
     "name": "stdout",
     "output_type": "stream",
     "text": [
      "Epoch 1/70\n",
      "69/69 [==============================] - 1s 6ms/step - loss: 0.7621 - accuracy: 0.4954 - val_loss: 0.7267 - val_accuracy: 0.4991\n",
      "Epoch 2/70\n",
      "69/69 [==============================] - 0s 3ms/step - loss: 0.7130 - accuracy: 0.4954 - val_loss: 0.7004 - val_accuracy: 0.4991\n",
      "Epoch 3/70\n",
      "69/69 [==============================] - 0s 3ms/step - loss: 0.6969 - accuracy: 0.4954 - val_loss: 0.6941 - val_accuracy: 0.4991\n",
      "Epoch 4/70\n",
      "69/69 [==============================] - 0s 3ms/step - loss: 0.6936 - accuracy: 0.4954 - val_loss: 0.6931 - val_accuracy: 0.4991\n",
      "Epoch 5/70\n",
      "69/69 [==============================] - 0s 3ms/step - loss: 0.6929 - accuracy: 0.4954 - val_loss: 0.6929 - val_accuracy: 0.4991\n",
      "Epoch 6/70\n",
      "69/69 [==============================] - 0s 3ms/step - loss: 0.6928 - accuracy: 0.5105 - val_loss: 0.6928 - val_accuracy: 0.5192\n",
      "Epoch 7/70\n",
      "69/69 [==============================] - 0s 3ms/step - loss: 0.6926 - accuracy: 0.5751 - val_loss: 0.6927 - val_accuracy: 0.5192\n",
      "Epoch 8/70\n",
      "69/69 [==============================] - 0s 3ms/step - loss: 0.6924 - accuracy: 0.5142 - val_loss: 0.6927 - val_accuracy: 0.5046\n",
      "Epoch 9/70\n",
      "69/69 [==============================] - 0s 4ms/step - loss: 0.6921 - accuracy: 0.5366 - val_loss: 0.6924 - val_accuracy: 0.6216\n",
      "Epoch 10/70\n",
      "69/69 [==============================] - 0s 4ms/step - loss: 0.6920 - accuracy: 0.6374 - val_loss: 0.6922 - val_accuracy: 0.6325\n",
      "Epoch 11/70\n",
      "69/69 [==============================] - 0s 3ms/step - loss: 0.6920 - accuracy: 0.5343 - val_loss: 0.6919 - val_accuracy: 0.6271\n",
      "Epoch 12/70\n",
      "69/69 [==============================] - 0s 4ms/step - loss: 0.6910 - accuracy: 0.6204 - val_loss: 0.6914 - val_accuracy: 0.6746\n",
      "Epoch 13/70\n",
      "69/69 [==============================] - 0s 4ms/step - loss: 0.6901 - accuracy: 0.6044 - val_loss: 0.6906 - val_accuracy: 0.5009\n",
      "Epoch 14/70\n",
      "69/69 [==============================] - 0s 3ms/step - loss: 0.6886 - accuracy: 0.5252 - val_loss: 0.6892 - val_accuracy: 0.5466\n",
      "Epoch 15/70\n",
      "69/69 [==============================] - 0s 4ms/step - loss: 0.6862 - accuracy: 0.6076 - val_loss: 0.6873 - val_accuracy: 0.5009\n",
      "Epoch 16/70\n",
      "69/69 [==============================] - 0s 4ms/step - loss: 0.6820 - accuracy: 0.5792 - val_loss: 0.6833 - val_accuracy: 0.6417\n",
      "Epoch 17/70\n",
      "69/69 [==============================] - 0s 3ms/step - loss: 0.6750 - accuracy: 0.7573 - val_loss: 0.6774 - val_accuracy: 0.6325\n",
      "Epoch 18/70\n",
      "69/69 [==============================] - 0s 3ms/step - loss: 0.6632 - accuracy: 0.7221 - val_loss: 0.6677 - val_accuracy: 0.7879\n",
      "Epoch 19/70\n",
      "69/69 [==============================] - 0s 3ms/step - loss: 0.6448 - accuracy: 0.7656 - val_loss: 0.6521 - val_accuracy: 0.7898\n",
      "Epoch 20/70\n",
      "69/69 [==============================] - 0s 4ms/step - loss: 0.6142 - accuracy: 0.8352 - val_loss: 0.6267 - val_accuracy: 0.7148\n",
      "Epoch 21/70\n",
      "69/69 [==============================] - 0s 4ms/step - loss: 0.5714 - accuracy: 0.8333 - val_loss: 0.5945 - val_accuracy: 0.7569\n",
      "Epoch 22/70\n",
      "69/69 [==============================] - 0s 4ms/step - loss: 0.5219 - accuracy: 0.8608 - val_loss: 0.5573 - val_accuracy: 0.8026\n",
      "Epoch 23/70\n",
      "69/69 [==============================] - 0s 3ms/step - loss: 0.4652 - accuracy: 0.8924 - val_loss: 0.5236 - val_accuracy: 0.8318\n",
      "Epoch 24/70\n",
      "69/69 [==============================] - 0s 4ms/step - loss: 0.4139 - accuracy: 0.9112 - val_loss: 0.4919 - val_accuracy: 0.8355\n",
      "Epoch 25/70\n",
      "69/69 [==============================] - 0s 3ms/step - loss: 0.3678 - accuracy: 0.9272 - val_loss: 0.4694 - val_accuracy: 0.8208\n",
      "Epoch 26/70\n",
      "69/69 [==============================] - 0s 4ms/step - loss: 0.3271 - accuracy: 0.9400 - val_loss: 0.4528 - val_accuracy: 0.8300\n",
      "Epoch 27/70\n",
      "69/69 [==============================] - 0s 4ms/step - loss: 0.2921 - accuracy: 0.9441 - val_loss: 0.4288 - val_accuracy: 0.8483\n",
      "Epoch 28/70\n",
      "69/69 [==============================] - 0s 3ms/step - loss: 0.2626 - accuracy: 0.9551 - val_loss: 0.4169 - val_accuracy: 0.8574\n",
      "Epoch 29/70\n",
      "69/69 [==============================] - 0s 4ms/step - loss: 0.2374 - accuracy: 0.9606 - val_loss: 0.4133 - val_accuracy: 0.8410\n",
      "Epoch 30/70\n",
      "69/69 [==============================] - 0s 4ms/step - loss: 0.2150 - accuracy: 0.9638 - val_loss: 0.4049 - val_accuracy: 0.8501\n",
      "Epoch 31/70\n",
      "69/69 [==============================] - 0s 4ms/step - loss: 0.1978 - accuracy: 0.9657 - val_loss: 0.3982 - val_accuracy: 0.8519\n",
      "Epoch 32/70\n",
      "69/69 [==============================] - 0s 4ms/step - loss: 0.1811 - accuracy: 0.9675 - val_loss: 0.3953 - val_accuracy: 0.8574\n",
      "Epoch 33/70\n",
      "69/69 [==============================] - 0s 4ms/step - loss: 0.1685 - accuracy: 0.9693 - val_loss: 0.4104 - val_accuracy: 0.8208\n",
      "Epoch 34/70\n",
      "69/69 [==============================] - 0s 4ms/step - loss: 0.1577 - accuracy: 0.9753 - val_loss: 0.3980 - val_accuracy: 0.8428\n",
      "Epoch 35/70\n",
      "69/69 [==============================] - 0s 4ms/step - loss: 0.1457 - accuracy: 0.9766 - val_loss: 0.3960 - val_accuracy: 0.8592\n",
      "Epoch 36/70\n",
      "69/69 [==============================] - 0s 3ms/step - loss: 0.1364 - accuracy: 0.9789 - val_loss: 0.3966 - val_accuracy: 0.8574\n",
      "Epoch 37/70\n",
      "69/69 [==============================] - 0s 3ms/step - loss: 0.1256 - accuracy: 0.9799 - val_loss: 0.4108 - val_accuracy: 0.8282\n",
      "Epoch 38/70\n",
      "69/69 [==============================] - 0s 3ms/step - loss: 0.1223 - accuracy: 0.9794 - val_loss: 0.4008 - val_accuracy: 0.8556\n",
      "Epoch 39/70\n",
      "69/69 [==============================] - 0s 3ms/step - loss: 0.1111 - accuracy: 0.9844 - val_loss: 0.4082 - val_accuracy: 0.8519\n",
      "Epoch 40/70\n",
      "69/69 [==============================] - 0s 3ms/step - loss: 0.1059 - accuracy: 0.9835 - val_loss: 0.4068 - val_accuracy: 0.8483\n",
      "Epoch 41/70\n",
      "69/69 [==============================] - 0s 3ms/step - loss: 0.0999 - accuracy: 0.9858 - val_loss: 0.4189 - val_accuracy: 0.8446\n",
      "Epoch 42/70\n",
      "69/69 [==============================] - 0s 3ms/step - loss: 0.0972 - accuracy: 0.9853 - val_loss: 0.4143 - val_accuracy: 0.8428\n",
      "Epoch 43/70\n",
      "69/69 [==============================] - 0s 3ms/step - loss: 0.0892 - accuracy: 0.9881 - val_loss: 0.4207 - val_accuracy: 0.8373\n",
      "Epoch 44/70\n",
      "69/69 [==============================] - 0s 3ms/step - loss: 0.0850 - accuracy: 0.9886 - val_loss: 0.4265 - val_accuracy: 0.8336\n",
      "Epoch 45/70\n",
      "69/69 [==============================] - 0s 3ms/step - loss: 0.0814 - accuracy: 0.9890 - val_loss: 0.4283 - val_accuracy: 0.8428\n",
      "Epoch 46/70\n",
      "69/69 [==============================] - 0s 3ms/step - loss: 0.0764 - accuracy: 0.9899 - val_loss: 0.4332 - val_accuracy: 0.8373\n",
      "Epoch 47/70\n",
      "69/69 [==============================] - 0s 3ms/step - loss: 0.0725 - accuracy: 0.9899 - val_loss: 0.4402 - val_accuracy: 0.8373\n",
      "Epoch 48/70\n",
      "69/69 [==============================] - 0s 3ms/step - loss: 0.0687 - accuracy: 0.9913 - val_loss: 0.4428 - val_accuracy: 0.8391\n",
      "Epoch 49/70\n",
      "69/69 [==============================] - 0s 3ms/step - loss: 0.0648 - accuracy: 0.9922 - val_loss: 0.4465 - val_accuracy: 0.8373\n",
      "Epoch 50/70\n",
      "69/69 [==============================] - 0s 3ms/step - loss: 0.0614 - accuracy: 0.9922 - val_loss: 0.4519 - val_accuracy: 0.8373\n",
      "Epoch 51/70\n",
      "69/69 [==============================] - 0s 3ms/step - loss: 0.0596 - accuracy: 0.9918 - val_loss: 0.4571 - val_accuracy: 0.8355\n",
      "Epoch 52/70\n",
      "69/69 [==============================] - 0s 3ms/step - loss: 0.0567 - accuracy: 0.9922 - val_loss: 0.4622 - val_accuracy: 0.8300\n",
      "Epoch 53/70\n",
      "69/69 [==============================] - 0s 3ms/step - loss: 0.0535 - accuracy: 0.9940 - val_loss: 0.4674 - val_accuracy: 0.8355\n",
      "Epoch 54/70\n",
      "69/69 [==============================] - 0s 3ms/step - loss: 0.0519 - accuracy: 0.9936 - val_loss: 0.4735 - val_accuracy: 0.8282\n",
      "Epoch 55/70\n",
      "69/69 [==============================] - 0s 3ms/step - loss: 0.0499 - accuracy: 0.9945 - val_loss: 0.4776 - val_accuracy: 0.8282\n",
      "Epoch 56/70\n",
      "69/69 [==============================] - 0s 3ms/step - loss: 0.0482 - accuracy: 0.9945 - val_loss: 0.4834 - val_accuracy: 0.8263\n",
      "Epoch 57/70\n",
      "69/69 [==============================] - 0s 3ms/step - loss: 0.0463 - accuracy: 0.9940 - val_loss: 0.4882 - val_accuracy: 0.8245\n",
      "Epoch 58/70\n",
      "69/69 [==============================] - 0s 3ms/step - loss: 0.0446 - accuracy: 0.9950 - val_loss: 0.4962 - val_accuracy: 0.8300\n",
      "Epoch 59/70\n",
      "69/69 [==============================] - 0s 3ms/step - loss: 0.0427 - accuracy: 0.9945 - val_loss: 0.4974 - val_accuracy: 0.8263\n",
      "Epoch 60/70\n",
      "69/69 [==============================] - 0s 3ms/step - loss: 0.0419 - accuracy: 0.9940 - val_loss: 0.5025 - val_accuracy: 0.8227\n",
      "Epoch 61/70\n",
      "69/69 [==============================] - 0s 3ms/step - loss: 0.0402 - accuracy: 0.9950 - val_loss: 0.5266 - val_accuracy: 0.8318\n",
      "Epoch 62/70\n",
      "69/69 [==============================] - 0s 3ms/step - loss: 0.0377 - accuracy: 0.9954 - val_loss: 0.5223 - val_accuracy: 0.8263\n",
      "Epoch 63/70\n",
      "69/69 [==============================] - 0s 3ms/step - loss: 0.0378 - accuracy: 0.9954 - val_loss: 0.5170 - val_accuracy: 0.8227\n",
      "Epoch 64/70\n",
      "69/69 [==============================] - 0s 3ms/step - loss: 0.0356 - accuracy: 0.9954 - val_loss: 0.5234 - val_accuracy: 0.8172\n",
      "Epoch 65/70\n",
      "69/69 [==============================] - 0s 3ms/step - loss: 0.0354 - accuracy: 0.9954 - val_loss: 0.5370 - val_accuracy: 0.8245\n",
      "Epoch 66/70\n",
      "69/69 [==============================] - 0s 3ms/step - loss: 0.0335 - accuracy: 0.9963 - val_loss: 0.5347 - val_accuracy: 0.8227\n",
      "Epoch 67/70\n",
      "69/69 [==============================] - 0s 3ms/step - loss: 0.0323 - accuracy: 0.9963 - val_loss: 0.5401 - val_accuracy: 0.8208\n",
      "Epoch 68/70\n",
      "69/69 [==============================] - 0s 3ms/step - loss: 0.0311 - accuracy: 0.9968 - val_loss: 0.5499 - val_accuracy: 0.8227\n",
      "Epoch 69/70\n",
      "69/69 [==============================] - 0s 3ms/step - loss: 0.0308 - accuracy: 0.9968 - val_loss: 0.5480 - val_accuracy: 0.8172\n",
      "Epoch 70/70\n",
      "69/69 [==============================] - 0s 3ms/step - loss: 0.0299 - accuracy: 0.9968 - val_loss: 0.5545 - val_accuracy: 0.8245\n"
     ]
    }
   ],
   "source": [
    "intial_model = model.fit(X_train_padded, Y_train,\n",
    "                          epochs=70, validation_data=(x_test_padded,y_test))"
   ]
  },
  {
   "cell_type": "code",
   "execution_count": 58,
   "id": "05fd7404",
   "metadata": {},
   "outputs": [],
   "source": [
    "# x_test_padded, x_test"
   ]
  },
  {
   "cell_type": "markdown",
   "id": "2afeda42",
   "metadata": {},
   "source": [
    "<h3> <a id=\"\"> Create DataFrame from the intial_model metrics  </a> </h3>"
   ]
  },
  {
   "cell_type": "code",
   "execution_count": 59,
   "id": "5ea0f9f3",
   "metadata": {},
   "outputs": [
    {
     "data": {
      "text/html": [
       "<div>\n",
       "<style scoped>\n",
       "    .dataframe tbody tr th:only-of-type {\n",
       "        vertical-align: middle;\n",
       "    }\n",
       "\n",
       "    .dataframe tbody tr th {\n",
       "        vertical-align: top;\n",
       "    }\n",
       "\n",
       "    .dataframe thead th {\n",
       "        text-align: right;\n",
       "    }\n",
       "</style>\n",
       "<table border=\"1\" class=\"dataframe\">\n",
       "  <thead>\n",
       "    <tr style=\"text-align: right;\">\n",
       "      <th></th>\n",
       "      <th>Training Accuracy</th>\n",
       "      <th>Validation Accuracy</th>\n",
       "      <th>Training Loss</th>\n",
       "      <th>Validation Loss</th>\n",
       "    </tr>\n",
       "  </thead>\n",
       "  <tbody>\n",
       "    <tr>\n",
       "      <th>0</th>\n",
       "      <td>0.495421</td>\n",
       "      <td>0.499086</td>\n",
       "      <td>0.762131</td>\n",
       "      <td>0.726676</td>\n",
       "    </tr>\n",
       "    <tr>\n",
       "      <th>1</th>\n",
       "      <td>0.495421</td>\n",
       "      <td>0.499086</td>\n",
       "      <td>0.713018</td>\n",
       "      <td>0.700381</td>\n",
       "    </tr>\n",
       "    <tr>\n",
       "      <th>2</th>\n",
       "      <td>0.495421</td>\n",
       "      <td>0.499086</td>\n",
       "      <td>0.696927</td>\n",
       "      <td>0.694124</td>\n",
       "    </tr>\n",
       "    <tr>\n",
       "      <th>3</th>\n",
       "      <td>0.495421</td>\n",
       "      <td>0.499086</td>\n",
       "      <td>0.693584</td>\n",
       "      <td>0.693058</td>\n",
       "    </tr>\n",
       "    <tr>\n",
       "      <th>4</th>\n",
       "      <td>0.495421</td>\n",
       "      <td>0.499086</td>\n",
       "      <td>0.692932</td>\n",
       "      <td>0.692906</td>\n",
       "    </tr>\n",
       "  </tbody>\n",
       "</table>\n",
       "</div>"
      ],
      "text/plain": [
       "   Training Accuracy  Validation Accuracy  Training Loss  Validation Loss\n",
       "0           0.495421             0.499086       0.762131         0.726676\n",
       "1           0.495421             0.499086       0.713018         0.700381\n",
       "2           0.495421             0.499086       0.696927         0.694124\n",
       "3           0.495421             0.499086       0.693584         0.693058\n",
       "4           0.495421             0.499086       0.692932         0.692906"
      ]
     },
     "execution_count": 59,
     "metadata": {},
     "output_type": "execute_result"
    }
   ],
   "source": [
    "initial_model_metric_df = pd.DataFrame(zip(intial_model.history['accuracy'],\n",
    "                      intial_model.history['val_accuracy'],\n",
    "                      intial_model.history['loss'],\n",
    "                      intial_model.history['val_loss']\n",
    "                     ), columns =['Training Accuracy',\n",
    "                                  'Validation Accuracy',\n",
    "                                  'Training Loss',\n",
    "                                  'Validation Loss'])\n",
    "initial_model_metric_df.head()"
   ]
  },
  {
   "cell_type": "markdown",
   "id": "8a7d0a6a",
   "metadata": {},
   "source": [
    "<h3> <a id=\"\"> Plotting intial_model metrics </a> </h3>"
   ]
  },
  {
   "cell_type": "code",
   "execution_count": 60,
   "id": "bd4860b1",
   "metadata": {},
   "outputs": [],
   "source": [
    "def plot_line(metric):\n",
    "    plt.figure(figsize=(14,5))\n",
    "    plt.plot(initial_model_metric_df[metric], label= metric)\n",
    "    plt.title(metric + ' vs  Epoch', fontsize = 18, fontweight='bold', color ='#296eaa')\n",
    "    plt.xlabel('# Epoch',fontweight='bold', color ='#296eaa',fontsize = 14)\n",
    "    plt.ylabel(metric ,fontweight='bold', color ='#296eaa',fontsize = 14)\n",
    "    plt.legend(loc=\"best\")\n",
    "    plt.show()"
   ]
  },
  {
   "cell_type": "code",
   "execution_count": 61,
   "id": "115c7314",
   "metadata": {},
   "outputs": [
    {
     "data": {
      "image/png": "[encoded data removed]",
      "text/plain": [
       "<Figure size 1008x360 with 1 Axes>"
      ]
     },
     "metadata": {},
     "output_type": "display_data"
    }
   ],
   "source": [
    "plot_line('Training Accuracy')"
   ]
  },
  {
   "cell_type": "code",
   "execution_count": 62,
   "id": "12822586",
   "metadata": {},
   "outputs": [
    {
     "data": {
      "image/png": "[encoded data removed]",
      "text/plain": [
       "<Figure size 1008x360 with 1 Axes>"
      ]
     },
     "metadata": {},
     "output_type": "display_data"
    }
   ],
   "source": [
    "plot_line('Training Loss')"
   ]
  },
  {
   "cell_type": "code",
   "execution_count": 63,
   "id": "ad523124",
   "metadata": {},
   "outputs": [
    {
     "data": {
      "text/plain": [
       "['Training Accuracy',\n",
       " 'Validation Accuracy',\n",
       " 'Training Loss',\n",
       " 'Validation Loss']"
      ]
     },
     "execution_count": 63,
     "metadata": {},
     "output_type": "execute_result"
    }
   ],
   "source": [
    "list(initial_model_metric_df.columns)"
   ]
  },
  {
   "cell_type": "code",
   "execution_count": 64,
   "id": "2661c7d6",
   "metadata": {},
   "outputs": [],
   "source": [
    "def metrics_comparaison(metric):\n",
    "    plt.figure(figsize=(16,6))\n",
    "    Training = initial_model_metric_df['Training ' + metric]\n",
    "    Validation =initial_model_metric_df['Validation ' + metric]\n",
    "\n",
    "    plt.plot(Training, color='black', label = 'Training ' + metric)\n",
    "    plt.plot(Validation, color='red', label= 'Validation ' + metric)\n",
    "\n",
    "    plt.title('Accuracy: Training vs Validation', fontsize = 18, fontweight='bold', color ='#296eaa')\n",
    "    plt.xlabel('# Epoch',fontweight='bold', color ='#296eaa',fontsize = 14)\n",
    "    plt.ylabel(metric,fontweight='bold', color ='#296eaa',fontsize = 14)\n",
    "    plt.legend()\n",
    "    plt.show()"
   ]
  },
  {
   "cell_type": "code",
   "execution_count": 65,
   "id": "0ad1ac61",
   "metadata": {},
   "outputs": [
    {
     "data": {
      "image/png": "[encoded data removed]",
      "text/plain": [
       "<Figure size 1152x432 with 1 Axes>"
      ]
     },
     "metadata": {},
     "output_type": "display_data"
    }
   ],
   "source": [
    "metrics_comparaison('Accuracy')"
   ]
  },
  {
   "cell_type": "code",
   "execution_count": 66,
   "id": "0aa0bc3e",
   "metadata": {},
   "outputs": [
    {
     "data": {
      "image/png": "[encoded data removed]",
      "text/plain": [
       "<Figure size 1152x432 with 1 Axes>"
      ]
     },
     "metadata": {},
     "output_type": "display_data"
    }
   ],
   "source": [
    "metrics_comparaison('Loss')"
   ]
  },
  {
   "cell_type": "markdown",
   "id": "a05481b4",
   "metadata": {},
   "source": [
    "In this model the Loss metric is the same as minimum absolute errors."
   ]
  },
  {
   "cell_type": "markdown",
   "id": "1b835138",
   "metadata": {},
   "source": [
    "<h3> <a id=\"\"> Fitting Final_model </a> </h3>"
   ]
  },
  {
   "cell_type": "markdown",
   "id": "dcbedef1",
   "metadata": {},
   "source": [
    "Prevent overfitting in Final_model using Early stopping."
   ]
  },
  {
   "cell_type": "code",
   "execution_count": 67,
   "id": "a74a35d7",
   "metadata": {},
   "outputs": [],
   "source": [
    "early_stopping = callbacks.EarlyStopping(monitor= \"val_loss\", \n",
    "                                         mode= \"min\", patience= 5, restore_best_weights= True)"
   ]
  },
  {
   "cell_type": "code",
   "execution_count": 68,
   "id": "32404570",
   "metadata": {},
   "outputs": [],
   "source": [
    "# Running model again"
   ]
  },
  {
   "cell_type": "code",
   "execution_count": 69,
   "id": "41e88b46",
   "metadata": {},
   "outputs": [
    {
     "name": "stdout",
     "output_type": "stream",
     "text": [
      "Epoch 1/25\n",
      "69/69 [==============================] - 0s 3ms/step - loss: 0.0289 - accuracy: 0.9973 - val_loss: 0.5566 - val_accuracy: 0.8227\n",
      "Epoch 2/25\n",
      "69/69 [==============================] - 0s 3ms/step - loss: 0.0284 - accuracy: 0.9973 - val_loss: 0.5622 - val_accuracy: 0.8172\n",
      "Epoch 3/25\n",
      "69/69 [==============================] - 0s 3ms/step - loss: 0.0280 - accuracy: 0.9968 - val_loss: 0.5639 - val_accuracy: 0.8208\n",
      "Epoch 4/25\n",
      "69/69 [==============================] - 0s 3ms/step - loss: 0.0273 - accuracy: 0.9973 - val_loss: 0.5680 - val_accuracy: 0.8208\n",
      "Epoch 5/25\n",
      "69/69 [==============================] - 0s 3ms/step - loss: 0.0263 - accuracy: 0.9973 - val_loss: 0.5738 - val_accuracy: 0.8208\n",
      "Epoch 6/25\n",
      "69/69 [==============================] - 0s 3ms/step - loss: 0.0261 - accuracy: 0.9973 - val_loss: 0.5842 - val_accuracy: 0.8318\n"
     ]
    }
   ],
   "source": [
    "final_model = model.fit(X_train_padded, Y_train,\n",
    "                   epochs=25, validation_data=(x_test_padded, y_test), callbacks = [early_stopping])"
   ]
  },
  {
   "cell_type": "code",
   "execution_count": 70,
   "id": "71100bed",
   "metadata": {},
   "outputs": [
    {
     "name": "stdout",
     "output_type": "stream",
     "text": [
      "Model: \"sequential\"\n",
      "_________________________________________________________________\n",
      " Layer (type)                Output Shape              Param #   \n",
      "=================================================================\n",
      " embedding (Embedding)       (None, 125, 64)           320000    \n",
      "                                                                 \n",
      " global_average_pooling1d (G  (None, 64)               0         \n",
      " lobalAveragePooling1D)                                          \n",
      "                                                                 \n",
      " dense (Dense)               (None, 10)                650       \n",
      "                                                                 \n",
      " dense_1 (Dense)             (None, 6)                 66        \n",
      "                                                                 \n",
      " dense_2 (Dense)             (None, 1)                 7         \n",
      "                                                                 \n",
      "=================================================================\n",
      "Total params: 320,723\n",
      "Trainable params: 320,723\n",
      "Non-trainable params: 0\n",
      "_________________________________________________________________\n"
     ]
    }
   ],
   "source": [
    "final_model.model.summary()"
   ]
  },
  {
   "cell_type": "markdown",
   "id": "c50c3672",
   "metadata": {},
   "source": [
    "The early stop algoritm stopped the model fitting at training accuracy 0.99 and validation accuracy of 0.83 of .We can clearly see that the Final model is able to predict the sentiment with an accuracy of 0.83, The accuracy maxed out at 6 epochs to prevent overfitting."
   ]
  },
  {
   "cell_type": "markdown",
   "id": "9352dc0c",
   "metadata": {},
   "source": [
    "<h3> <a id=\"\"> Testing Final_model with simple reviews </a> </h3>"
   ]
  },
  {
   "cell_type": "code",
   "execution_count": 71,
   "id": "3487dc56",
   "metadata": {},
   "outputs": [],
   "source": [
    "def model_prediction(sentence):\n",
    "    ''' This function predicts if a review is Negative or Postive'''\n",
    "    txt = []\n",
    "    txt.append(sentence)\n",
    "    X_train_txt_ = tokenizer.texts_to_sequences(txt)\n",
    "    X_txt_padded = pad_sequences(X_train_txt_,\n",
    "                                   maxlen=max_len,\n",
    "                                   padding=padding_type,\n",
    "                                   truncating=trunc_type)\n",
    "\n",
    "    pred = np.round(final_model.model.predict(X_txt_padded))[0][0].astype('int64')\n",
    "    sentiment_label = {0:'Negative',1:'Positive'}\n",
    "    return sentiment_label[pred]"
   ]
  },
  {
   "cell_type": "code",
   "execution_count": 75,
   "id": "7aee1a5a",
   "metadata": {},
   "outputs": [
    {
     "data": {
      "text/plain": [
       "'Negative'"
      ]
     },
     "execution_count": 75,
     "metadata": {},
     "output_type": "execute_result"
    }
   ],
   "source": [
    "model_prediction('this starbucks is awful dude' )"
   ]
  },
  {
   "cell_type": "code",
   "execution_count": 73,
   "id": "23f9a65c",
   "metadata": {},
   "outputs": [
    {
     "data": {
      "text/plain": [
       "'Positive'"
      ]
     },
     "execution_count": 73,
     "metadata": {},
     "output_type": "execute_result"
    }
   ],
   "source": [
    "model_prediction('that was some lovely movie' )"
   ]
  },
  {
   "cell_type": "markdown",
   "id": "79a1902d",
   "metadata": {},
   "source": [
    "<h2> <a id=\"C2\"> C2:NETWORK ARCHITECTURE </a> </h2>"
   ]
  },
  {
   "cell_type": "markdown",
   "id": "b261e14f",
   "metadata": {},
   "source": [
    "The model was architected as follows:\n",
    "\n",
    "* Activation: Sigmoid outputs 1 positive values, and 0 for negative values. This is used due to score being either 1, or 0.\n",
    "\n",
    "* The number of nodes per layer: First we calculate the square root of the number of features and then we use values near to it, and see how it effects the accuracy. Ten nodes for each of the first two layers, and one node in the final layer produce an accuracy of over 99.8%\n",
    "\n",
    "* Loss function = BinaryCrossentropy. BinaryCrossentropy is suited for binary classification.\n",
    "\n",
    "* Optimizer = Adam. Adaptive Moment Estimation is an algorithm for optimization technique for gradient descent. The method is really efficient when working with large problem involving a lot of data or parameters. It requires less memory and is efficient. Intuitively, it is a combination of the ‘gradient descent with momentum’ algorithm and the ‘RMSP’ algorithm.. (prakharr0y,2020)"
   ]
  },
  {
   "cell_type": "markdown",
   "id": "a176a302",
   "metadata": {},
   "source": [
    "<h2> <a id=\"C3\"> C3:HYPERPARAMETERS </a> </h2>"
   ]
  },
  {
   "cell_type": "markdown",
   "id": "e281373f",
   "metadata": {},
   "source": [
    "The final model was opimized for accuracy using the adam optimizer with binary_crossentropy as the loss function. Using padding and the embedding with loss='binary_crossentropy', optimizer='adam', metrics=['accuracy']). I also used 65000 words to with dimension to train the model."
   ]
  },
  {
   "cell_type": "markdown",
   "id": "0f6cfa5f",
   "metadata": {},
   "source": [
    "<h2> <a id=\"A1\"> D1:STOPPING CRITERIA </a> </h2>"
   ]
  },
  {
   "cell_type": "markdown",
   "id": "171491a7",
   "metadata": {},
   "source": [
    "To revent overfitting in Final_model I used Early stopping with the the following paramters:\n",
    "monitor= \"val_loss\", mode= \"min\", patience= 5, restore_best_weights= True). This will allows us to come up with the best model  possible by reducing the loss with best accuracy."
   ]
  },
  {
   "cell_type": "markdown",
   "id": "dc3cf000",
   "metadata": {},
   "source": [
    "<h2> <a id=\"D2\"> D2:TRAINING PROCESS </a> </h2>"
   ]
  },
  {
   "cell_type": "markdown",
   "id": "4b9df5cd",
   "metadata": {},
   "source": [
    "Please see previous steps for details:\n",
    "In the other hand, here is sumamary of the training process:\n",
    "\n",
    "* Padded the X_train and Y_test datasets\n",
    "* Set the initial model paramters\n",
    "* Created initial model using keras\n",
    "* Compiled initial model, with accuracy as metric we aimed to increase and used Adam Optimizer and Loss function = BinaryCrossentropy\n",
    "* Fitted the initial model\n",
    "* Trained the initial model with 70 epochs\n",
    "* Did Exploratory analysis on model history metrics\n",
    "* visualized the Loss and Accuracy for trainin and validation.\n",
    "* Used early stopping to stop training the model when the loss start increasing (minimum absolute errors) to avoid overfitting.\n",
    "* Rerun the training of the model with early stopping and created Final Model that is well performing and generated accuracy and loss metrics.\n",
    "* Run some test predictions using random sentences and the model seems to performing well."
   ]
  },
  {
   "cell_type": "markdown",
   "id": "eac11c6d",
   "metadata": {},
   "source": [
    "<h2> <a id=\"D3\"> D3:FIT</a> </h2>"
   ]
  },
  {
   "cell_type": "markdown",
   "id": "51ae5f8e",
   "metadata": {},
   "source": [
    "Please see C1: Model Summary"
   ]
  },
  {
   "cell_type": "markdown",
   "id": "259ca5c4",
   "metadata": {},
   "source": [
    "<h2> <a id=\"D4\"> D4:PREDICTIVE ACCURACY </a> </h2>"
   ]
  },
  {
   "cell_type": "markdown",
   "id": "37dbedca",
   "metadata": {},
   "source": [
    "Please see C1: Model Summary"
   ]
  },
  {
   "cell_type": "markdown",
   "id": "c6a34e2d",
   "metadata": {},
   "source": [
    "<h2> <a id=\"E\"> E:CODE </a> </h2>"
   ]
  },
  {
   "cell_type": "markdown",
   "id": "bdd9fb06",
   "metadata": {},
   "source": [
    "Please see code above"
   ]
  },
  {
   "cell_type": "markdown",
   "id": "e2979cdf",
   "metadata": {},
   "source": [
    "<h2> <a id=\"F\"> F:FUNCTIONALITY </a> </h2>"
   ]
  },
  {
   "cell_type": "markdown",
   "id": "d7fadb14",
   "metadata": {},
   "source": [
    "The model consits of a neural network with high accuracy score. The model generlized well; therefore, this model can be used with different dataset or queries from ERP system. The ERP system will be able to cummunicate with the NLP model through an API to calculate the sentiment score."
   ]
  },
  {
   "cell_type": "markdown",
   "id": "3c009328",
   "metadata": {},
   "source": [
    "<h2> <a id=\"A1\"> G:RECOMMENDATIONS </a> </h2>"
   ]
  },
  {
   "cell_type": "markdown",
   "id": "1c4433e6",
   "metadata": {},
   "source": [
    " The model validation shows that the model performs well based on the %99 accuracy score in predicting if a product review is postive or negative. Therefore, We recommend to implment the sentiment score in ERP system. This new feature should help the marketing and purachasing departement restock more of the products with postive reviews."
   ]
  },
  {
   "cell_type": "markdown",
   "id": "cc6776dd",
   "metadata": {},
   "source": [
    "<h2> <a id=\"I\"> I:SOURCES FOR THIRD-PARTY CODE </a> </h2>"
   ]
  },
  {
   "cell_type": "markdown",
   "id": "bc1265df",
   "metadata": {},
   "source": [
    "Keras API reference. Optimizers. 8/5/2022. <https://keras.io/api/optimizers/?msclkid=a31f9eb1cf0d11eca8f474f822e8b126>\n",
    "\n",
    "Virahonda, Sergio. 10/08/2020. <https://towardsdatascience.com/an-easy-tutorial-about-sentiment-analysis-with-deep-learning-and-keras-2bf52b9cba91>"
   ]
  },
  {
   "cell_type": "markdown",
   "id": "5e9e3e24",
   "metadata": {},
   "source": [
    "<h2> <a id=\"J\"> J:SOURCES </a> </h2>"
   ]
  },
  {
   "cell_type": "markdown",
   "id": "37940e10",
   "metadata": {},
   "source": [
    "Keras API reference. Optimizers. 8/5/2022. <https://keras.io/api/optimizers/?msclkid=a31f9eb1cf0d11eca8f474f822e8b126>4\n",
    "\n",
    "Virahonda, Sergio. 10/08/2020. <https://towardsdatascience.com/an-easy-tutorial-about-sentiment-analysis-with-deep-learning-and-keras-2bf52b9cba91>"
   ]
  },
  {
   "cell_type": "markdown",
   "id": "08157adc",
   "metadata": {},
   "source": [
    "prakharr0y. 10/24/2020.<https://www.geeksforgeeks.org/intuition-of-adam-optimizer/?msclkid=688a74becf6411ecbff173a0afe145db>"
   ]
  }
 ],
 "metadata": {
  "kernelspec": {
   "display_name": "Python 3 (ipykernel)",
   "language": "python",
   "name": "python3"
  },
  "language_info": {
   "codemirror_mode": {
    "name": "ipython",
    "version": 3
   },
   "file_extension": ".py",
   "mimetype": "text/x-python",
   "name": "python",
   "nbconvert_exporter": "python",
   "pygments_lexer": "ipython3",
   "version": "3.10.10"
  }
 },
 "nbformat": 4,
 "nbformat_minor": 5
}
